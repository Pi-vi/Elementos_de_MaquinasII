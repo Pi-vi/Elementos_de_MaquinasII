{
 "cells": [
  {
   "cell_type": "markdown",
   "id": "ba4f4482",
   "metadata": {
    "slideshow": {
     "slide_type": "slide"
    }
   },
   "source": [
    "# Embreagens e Freios\n",
    "Este material serve apenas como um guia para estudos e para as aulas, não substituindo a leitura dos livros indicados e é de uso exclusivo dos alunos do CEFET/RJ campus Angra dos Reis."
   ]
  },
  {
   "cell_type": "markdown",
   "id": "96154560",
   "metadata": {
    "slideshow": {
     "slide_type": "subslide"
    }
   },
   "source": [
    "- Embreagens e freios são essencialmente o mesmo dispositivo\n",
    "- Cada um deles prevê uma conexão de atrito, magnética, hidráulica ou mecânica entre dois elementos\n",
    "- Se um dos elementos roda, enquanto o outro é fixo, é chamado de freio\n",
    "- Se ambos os elementos conectados podem rodar, então é chamada de embreagem\n",
    "\n",
    "![](figuras/fig3-1.png)\n"
   ]
  },
  {
   "cell_type": "markdown",
   "id": "27048c21",
   "metadata": {
    "slideshow": {
     "slide_type": "subslide"
    }
   },
   "source": [
    "[https://youtu.be/_3p0lJM296Y](https://youtu.be/_3p0lJM296Y)  \n",
    "[https://youtu.be/fBfVAvb2KsI](https://youtu.be/fBfVAvb2KsI)  \n",
    "[https://youtu.be/ApuBEn2zct8](https://youtu.be/ApuBEn2zct8)"
   ]
  },
  {
   "cell_type": "markdown",
   "id": "6570e395",
   "metadata": {
    "slideshow": {
     "slide_type": "subslide"
    }
   },
   "source": [
    "## Embreagens\n",
    "\n",
    "As embreagens mais comuns podem ser classificadas como as de contato positivo ou por atrito. \n",
    "\n",
    "\n",
    "![](figuras/fig3-2.png)\n"
   ]
  },
  {
   "cell_type": "markdown",
   "id": "6d8cf2ee",
   "metadata": {
    "slideshow": {
     "slide_type": "subslide"
    }
   },
   "source": [
    "$T = \\dfrac{P_d}{\\omega}$\n",
    "\n",
    "A força média de acionamento efetiva no centro de cada acoplamento pode ser determinada por:\n",
    "\n",
    "$F = \\dfrac{2T}{n_d(r_o + r_i)}$\n",
    "\n",
    "Onde $n_d$ é o número de dentes, $r_o$ é o raio externo e $r_i$ é o raio interno do acoplamento."
   ]
  },
  {
   "cell_type": "markdown",
   "id": "375b52b2",
   "metadata": {
    "slideshow": {
     "slide_type": "subslide"
    }
   },
   "source": [
    "As tensões de cisalhamento atuantes no acoplamento podem ser avaliadas por:\n",
    "\n",
    "$\\tau = \\dfrac{F}{\\dfrac{2\\pi(r_o + r_i)}{2} \\times \\dfrac{\\phi(t)}{360}}$\n",
    "\n",
    "Onde $t$ é a espessura do dente $\\phi$ o comprimento angular na direção circunferencial de um dente.\n",
    "\n",
    "\n",
    "![](figuras/fig3-3.png)\n",
    "\n",
    "\n",
    "As tensões de esmagamento no dente podem ser avaliadas por:\n",
    "\n",
    "$\\sigma_b = \\dfrac{F}{(r_o - r_i)t}$"
   ]
  },
  {
   "cell_type": "markdown",
   "id": "78cbe1a1",
   "metadata": {
    "slideshow": {
     "slide_type": "slide"
    }
   },
   "source": [
    "## Embreagem de Disco"
   ]
  },
  {
   "cell_type": "markdown",
   "id": "ce561810",
   "metadata": {
    "slideshow": {
     "slide_type": "subslide"
    }
   },
   "source": [
    "- Também são conhecidas como embreagens axiais ou de prato.\n",
    "\n",
    "\n",
    "![](figuras/fig3-4.png)"
   ]
  },
  {
   "cell_type": "markdown",
   "id": "d76dd67e",
   "metadata": {
    "slideshow": {
     "slide_type": "subslide"
    }
   },
   "source": [
    " A grande vantagem desse tipo de embreagem é que possui um acoplamento suave, quase livre de choques devido ao pequeno escorregamento ocorrido durante a união dos discos. Além disso, elas podem ser acopladas em velocidades elevadas. A desvantagem deste tipo de embreagem está na necessidade da substituição do material de revestimento do disco quando existe um desgaste excessivo dele.\n",
    " \n",
    " A embreagem de disco mais simples consiste em dois discos, um com material de forração de alto atrito, pressionado axialmente com uma força normal que gera a força de atrito necessária para transmitir torque."
   ]
  },
  {
   "cell_type": "markdown",
   "id": "0972a563",
   "metadata": {
    "slideshow": {
     "slide_type": "subslide"
    }
   },
   "source": [
    "Existem dois modelos para a análise de embreagens:\n",
    " \n",
    "\n",
    "- Uma embreagem flexível pode estar próxima à condição de pressão uniforme quando nova, mas tenderá à condição de desgaste uniforme quando em uso\n",
    "- Uma embreagem rígida irá aproximar mais rapidamente a condição de desgaste uniforme com o uso"
   ]
  },
  {
   "cell_type": "markdown",
   "id": "ba1328ed",
   "metadata": {
    "slideshow": {
     "slide_type": "subslide"
    }
   },
   "source": [
    "![](figuras/fig3-5.png)\n",
    "\n",
    "\n",
    "$dA = (rd\\theta)dr$\n",
    "$dF = pdA = p(rd\\theta)dr = p(2\\pi rdr)$\n",
    "$dT = \\mu rdF = \\mu rp (2 \\pi rdr)$\n",
    "\n",
    "Onde $\\theta$ é o ângulo de contato e $\\mu$ é o coeficiente de atrito entre as superfícies dos discos."
   ]
  },
  {
   "cell_type": "markdown",
   "id": "bcf5623c",
   "metadata": {
    "slideshow": {
     "slide_type": "subslide"
    }
   },
   "source": [
    "**Modelo de pressão uniforme**\n",
    "\n",
    "Para embreagens novas, planas e com discos perfeitamente alinhados, a pressão será uniforme em qualquer parte da superfície da embreagem ($p = p_0)$.\n",
    "\n",
    "$F_p = \\int^{r_o}_{r_i} 2 \\pi p_0 r dr = \\pi p_0 (r_o^2 - r_i^2)$\n",
    "\n",
    "$T_p = \\int_{r_i}^{r_o} \\mu r p_0 2 \\pi r dr = \\dfrac{2}{3} \\pi \\mu p_0 ( r_o^3 - r_i^3)$\n",
    "\n",
    "O subíndice “p” se refere ao modelo de pressão uniforme.\n",
    "\n",
    "O torque de acionamento como função da força pode ser escrito como:\n",
    "\n",
    "$T_p = \\dfrac{2}{3} \\dfrac{\\mu F_p(r_o^3 - r_i^3)}{(r_o^2 - r_i^2)}$"
   ]
  },
  {
   "cell_type": "markdown",
   "id": "afc4210e",
   "metadata": {
    "slideshow": {
     "slide_type": "subslide"
    }
   },
   "source": [
    "**Modelo de desgaste uniforme**\n",
    "\n",
    "Acoplando dois discos perfeitamente rígidos, pode-se assumir que o desgaste entre as superfícies deles ocorrerá de forma uniforme. Essa hipótese torna-se real somente após algum tempo de funcionamento. \n",
    "\n",
    "A taxa de desgaste é proporcional a taxa de conversão de energia cinética em trabalho decorrente do atrito no acoplamento. Nessas condições, a potência transmitida pela embreagem em função do atrito no acoplamento pode ser escrita na forma: \n",
    "\n",
    "$P_d = F_a v = \\mu F v = \\mu p A v$\n",
    "\n",
    "A razão de desgaste, $W$, constante, é suposta proporcional ao produto da pressão, $p$, e velocidade $v$.\n",
    "\n",
    "$W = pv =$ constante\n",
    "\n",
    "E a velocidade em qualquer ponto da face da embreagem é:\n",
    "\n",
    "$v = r \\omega$\n",
    "\n",
    "logo, para $\\omega$ constante:\n",
    "\n",
    "$pr$ = constante = $C$\n",
    "\n",
    "$p = \\dfrac{C}{r}$\n",
    "\n",
    "Integrando a equação do elemento infinitesimal de força teremos:\n",
    "\n",
    "$F = \\int_{r_i}^{r_o} 2 \\pi C dr = 2\\pi C(r_o - r_i)$\n",
    "\n",
    "A pressão máxima ocorre no raio mínimo:\n",
    "\n",
    "$p = p_{max} \\dfrac{r_i}{r}$\n",
    "\n",
    "A força de acionamento será:\n",
    "\n",
    "$F_d = 2 \\pi p_{max} r_i(r_o - r_i)$\n",
    "\n",
    "O torque será:\n",
    "\n",
    "$T_d = \\int_{r_i}^{r_o} \\mu rp(2 \\pi r dr) = \\pi \\mu p_{max} r_i(r^2_o - r^2_i)$\n",
    "\n",
    "e:\n",
    "\n",
    "$T_d = \\dfrac{\\mu F_d(r_o + r_i)}{2}$"
   ]
  },
  {
   "cell_type": "markdown",
   "id": "cad8d01f",
   "metadata": {
    "slideshow": {
     "slide_type": "subslide"
    }
   },
   "source": [
    "Os valores de coeficientes de atrito de pressões admissíveis para diversos materiais de revestimentos utilizados normalmente nas superfícies de atrito das embreagens podem ser obtidos por meio das tabelas a seguir:\n",
    "\n",
    "\n",
    "![](figuras/fig3-6.png)\n",
    "\n",
    "![](figuras/fig3-7.png)\n",
    "\n",
    "![](figuras/fig3-8.png)"
   ]
  },
  {
   "cell_type": "markdown",
   "id": "422ff283",
   "metadata": {
    "slideshow": {
     "slide_type": "slide"
    }
   },
   "source": [
    "## Freios a Disco\n",
    "\n",
    "\n",
    "- As equações para embreagens de disco também se aplicam a freios de disco\n",
    "- Contudo, estes são raramente fabricados com forração cobrindo a circunferência completa de face, porque iriam superaquecer. \n",
    "- Freios de disco com pinça, como aqueles utilizados em automóveis, usam pastilhas de atrito aplicadas contra uma pequena parte da circunferência de disco, deixando o restante exposto ao esfriamento.\n",
    "- Algumas vantagens de discos sobre tambores resultam de boa controlabilidade e linearidade (torque de frenagem diretamente proporcional à força aplicada).\n",
    "![](figuras/fig3-9.png)\n",
    "\n",
    "![](figuras/fig3-10.png)"
   ]
  },
  {
   "cell_type": "markdown",
   "id": "7e354cc2",
   "metadata": {
    "slideshow": {
     "slide_type": "slide"
    }
   },
   "source": [
    "## Embreagens e Freios Cônicos\n",
    "\n",
    "A embreagem cônica utiliza o efeito “cunha” de seus componentes cônicos para aumentar a força normal sobre o revestimento da embreagem e, consequentemente, aumentar a força de atrito tangencial e o torque transmitido resultante. \n",
    "\n",
    "\n",
    "![](figuras/fig3-11.png)\n",
    "\n",
    "\n",
    "$dA = (rd\\theta) \\dfrac{dr}{sen \\alpha}$\n",
    "\n",
    "$dN = p dA$\n",
    "\n",
    "A força de acionamento para embreagens cônicas e a disco são calculadas de formas idênticas.\n",
    "\n",
    "$T_p = \\dfrac{2}{3} \\dfrac{\\pi \\mu p_0 (r_o^3 - r_i^3)}{sen \\alpha}$\n",
    "\n",
    "ou\n",
    "\n",
    "$\\dfrac{2}{3}\\dfrac{\\mu F_p (r_o^3 - r_i^3)}{sen \\alpha (r_o^2 - r_i^2)}$\n",
    "\n",
    "e\n",
    "\n",
    "$T_d = \\dfrac{\\pi \\mu p_{max} r_i (r_o^2 - r_i^2)}{sen \\alpha}$\n",
    "\n",
    "ou\n",
    "\n",
    "$T_d = \\dfrac{\\mu F_d (r_o + r_i)}{2 sen \\alpha}$\n",
    "\n",
    "Com base nessas equações conclui-se que quanto menor for o ângulo “$\\alpha$”, menor será a força de acionamento necessária. Na prática, porém, caso esse ângulo seja inferior a 8°, a embreagem cônica tende a cravar o cone no copo externo. Geralmente nesse tipo de embreagem, “$\\alpha$” deve ficar compreendido entre 8° e 15°.\n"
   ]
  },
  {
   "cell_type": "markdown",
   "id": "015bd797",
   "metadata": {
    "slideshow": {
     "slide_type": "slide"
    }
   },
   "source": [
    "## Freio de Sapata Curta Externa\n",
    "\n",
    "\n",
    "- Freios (ou embreagens) de sapata também são chamados de freios (ou embreagens) de tambor\n",
    "- Freios (ou embreagens) de tambor forçam o material de atrito sobre a circunferência de um cilindro, seja externamente, internamente, ou em ambas as faces. \n",
    "- Eles são mais utilizados como freios do que como embreagens\n",
    "\n",
    "Se $\\theta < 45 ^{\\circ}$ → podemos considerar a força distribuída entre a sapata e o tambor como uniforme, podendo ser substituída por uma força concentrada. \n",
    "\n",
    "\n",
    "![](figuras/fig3-12.png)\n",
    "\n",
    "\n",
    "Para a alavanca rotulada no ponto “$C$”, a equação dos momentos para o equilíbrio estático fornece:\n",
    "\n",
    "$-Fd_4 + Nd_3 - \\mu Nd_1 = 0$\n",
    "\n",
    "Aplicando a equação dos momentos em relação ao centro $O$ do tambor tem-se:\n",
    "\n",
    "$T - \\mu Nr = 0$\n",
    "\n",
    "Resolvendo estas duas equações para a força normal e para o torque transmitido tem-se, respectivamente:\n",
    "\n",
    "$N = \\dfrac{Fd_4}{d_3 - \\mu d_1}$\n",
    "\n",
    "e\n",
    "\n",
    "$T = \\dfrac{\\mu F d_4 r}{d_3 - \\mu d_1}$\n",
    "\n",
    "A força de acionamento será:\n",
    "\n",
    "$F = N \\dfrac{d_3 - \\mu d_1}{d_4}$\n",
    "\n",
    "Auto energização → com a direção de rotação do tambor mostrado, o momento de atrito é aditivo ao momento da força atuante.\n",
    "\n",
    "Uma vez que é aplicada qualquer força $F$, o atrito gerado na sapata atua de maneira a aumentar o torque de frenagem.\n",
    "\n",
    "Se a rotação do tambor de freio for invertido, teremos uma ação auto desenergizante.\n",
    "\n",
    "Auto travamento → se $\\mu d_1 \\geq d_3$, $F$ se torna nula.\n",
    "\n",
    "No dimensionamento de um freio de sapata, a condição auto energizante é desejável, enquanto o efeito auto travante é geralmente indesejável. Nesses casos, recomenda-se que a dimensão $d_3$  seja np mínimo, 25 a 50% maior que o termo $\\mu d_1$.\n"
   ]
  },
  {
   "cell_type": "markdown",
   "id": "4c46eb62",
   "metadata": {
    "slideshow": {
     "slide_type": "slide"
    }
   },
   "source": [
    "## Freio de Sapata Longa Interna\n",
    "\n",
    "\n",
    "![](figuras/fig3-14.png)\n",
    "\n",
    "\n",
    "Em projetos desse tipo de freio, considera-se, ainda, que nenhuma pressão é aplicada no pino de articulação da sapata, portanto, a pressão do pino “A” é zero e aumenta na direção oposta. A pressão se distribui ao longo da sapata de forma “senoidal” com respeito ao ângulo central $\\theta$ e, consequentemente, a pressão “p” em termos da pressão máxima admissível pode ser escrita como: \n",
    "\n",
    "$p = p_{max} \\dfrac{sen \\theta}{sen \\theta_{max}}$\n",
    "\n",
    "onde $\\theta_{max}$ é o ângulo em que $p = p_{max}$\n",
    "\n",
    "Para sapatas internas longas, a maior pressão de contato é o mínimo entre $\\theta_2$ e 90°. \n",
    "\n",
    "\n",
    "![](figuras/fig3-15.png)\n",
    "\n",
    "\n",
    "Um diferencial de força normal $dN$ atua em qualquer ângulo $\\theta$ do revestimento da sapata de espessura $b$, compreendido entre $\\theta1$ e $\\theta2$.\n",
    "\n",
    "$dN = pbrd\\theta$\n",
    "\n",
    "$dN = \\dfrac{p_{max}brsen \\theta d \\theta}{sen \\theta_{max}}$\n",
    "\n",
    "Os momentos da força normal $M_N$ e da força de atrito da sapata do freio $M_F$ ambos em relação ao pino de articulação da sapata fornecem:\n",
    "\n",
    "$M_N = \\int d_7 sen \\theta dN = \\dfrac{d_7brp_{max}}{sen \\theta_{max}} \\int_{\\theta_1}^{\\theta_2} sen^2 \\theta d \\theta$\n",
    "\n",
    "ou\n",
    "\n",
    "$M_N = \\dfrac{d_7brp_{max}}{4 sen \\theta_{max}} \\left[2(\\theta_2 - \\theta_1) \\dfrac{\\pi}{180^\\circ} -sen2 \\theta_2 + sen2 \\theta_1 \\right]$\n",
    "\n",
    "e \n",
    "\n",
    "$M_F = \\int (r - d_7 cos \\theta) \\mu dN = \\dfrac{\\mu b r p_{max}}{sen \\theta_{max}} \\int_{\\theta_1}^{\\theta_2} ( r - d_7 cos \\theta) sen \\theta d \\theta$\n",
    "ou\n",
    "$M_F = \\dfrac{\\mu b r p_{max}}{sen \\theta_{max}} \\left[ -r(cos \\theta_2 - cos \\theta_1) + \\dfrac{d_7}{4}(cos 2 \\theta_2 - cos 2 \\theta_1) \\right]$\n",
    "\n",
    "assumindo a condição autoenergizante na sapata, ou seja, os termos $F_x$ e $\\mu d N sen \\theta$ com a mesma direção. Nessas circunstâncias, a força de acionamento $F$ para balancear esses dois momentos pode ser obtida por:\n",
    "\n",
    "$-Fd_6 - M_{F} + M_{N} = 0$\n",
    "\n",
    "ou\n",
    "\n",
    "$F = \\dfrac{M_N - M_F}{d_6}$\n",
    "\n",
    "O torque estático de frenagem pode ser obtido aplicando o equilíbrio estático do momento da força de atrito no tambor, ou seja:\n",
    "\n",
    "$-T + \\mu r dN = 0$\n",
    "\n",
    "ou \n",
    "\n",
    "$T = \\int_{\\theta1}^{\\theta2} r \\mu dN = \\int_{\\theta_1}^{\\theta_2} \\mu \\dfrac{p_{max}br^2sen \\theta d \\theta}{sen \\theta_{max}} = \\dfrac{\\mu p_{max}br}{sen \\theta_{max}}\\int_{\\theta_1}^{\\theta_2}sen \\theta d \\theta$\n",
    "\n",
    "ou\n",
    "\n",
    "$T = \\dfrac{\\mu p_{max} br}{sen \\theta_{max}}(cos \\theta_1 - cos \\theta_2)$\n",
    "\n",
    "As forças de reação no pino de articulação podem ser calculadas aplicando as equações de equilíbrio estático para as translações nas direções $x$ e $y$.\n",
    "\n",
    "$R_x + F_x - \\int cos \\theta dN + \\int \\mu sen \\theta dN = 0$\n",
    "\n",
    "e\n",
    "\n",
    "$R_y + F_y - \\int sen \\theta dN - \\int \\mu cos \\theta dN = 0$\n",
    "\n",
    "Para a condição autoenergizante:\n",
    "\n",
    "$R_{x,a} = -F_x + \\dfrac{p_{max}br}{sen \\theta_{max}} \\int_{\\theta_1}^{\\theta^2} cos \\theta sen \\theta d \\theta - \\dfrac{\\mu p_{max}b^r}{sen \\theta_{max}} \\int_{\\theta_1}^{\\theta_2} sen^2 \\theta d \\theta$\n",
    "\n",
    "ou\n",
    "\n",
    "$R_{x,a} = -F_x + \\dfrac{p_{max}br}{4sen \\theta_{max}} \\left( (cos 2 \\theta_1 - cos 2 \\theta_2 ) - \\mu \\left[ 2(\\theta_2 - \\theta_1) \\dfrac{\\pi}{180^\\circ} - sen 2 \\theta_2 + sen 2 \\theta_1 \\right] \\right)$\n",
    "\n",
    "e\n",
    "\n",
    "$R_{y,a} = -F_y + \\dfrac{p_{max}br}{sen \\theta_{max}} \\int_{\\theta_1}^{\\theta_2} sen^2 \\theta d \\theta + \\dfrac{\\mu p_{max}b^{r}}{sen \\theta_{max}}\\int_{\\theta_1}^{\\theta_2} cos \\theta sen \\theta d \\theta$\n",
    "\n",
    "ou\n",
    "\n",
    "$R_{y,a} = -F_y + \\dfrac{p_{max}br}{4 sen \\theta_{max}} \\left[ 2(\\theta_2 - \\theta_1) \\dfrac{\\pi}{180^\\circ} - sen 2 \\theta_2 + sen 2 \\theta_1 + \\mu ( cos 2 \\theta_1 - cos 2 \\theta_2) \\right]$\n",
    "\n",
    "Para a condição autodesenergizante:\n",
    "\n",
    "$-Fd_6 + M_F + M_N = 0$\n",
    "\n",
    "ou\n",
    "\n",
    "$F = \\dfrac{M_N + M_F}{d_6}$\n",
    "\n",
    "A avaliação dos momentos da força normal e da força de atrito, nessa condição, são as mesmas da condição autoenergizante. \n",
    "\n",
    "$R_{x,d} = -F_x + \\dfrac{p_{max}br}{4 sen \\theta_{max}} \\left( (cos 2 \\theta_1 - cos 2 \\theta_2) + \\mu \\left[ 2 ( \\theta_2 - \\theta_1) \\dfrac{\\pi}{180^\\circ} - sen 2 \\theta_2 + sen 2 \\theta_1 \\right] \\right)$\n",
    "\n",
    "e\n",
    "\n",
    "$R_{y,d} = - F_y + \\dfrac{p_{max}br}{4 sen \\theta_{max}} \\left[ 2(\\theta_2 - \\theta_1) \\dfrac{\\pi}{180^\\circ} - sen 2 \\theta_2 + sen 2 \\theta_1 - \\mu (cos 2 \\theta_1 - cos 2 \\theta_2) \\right]$\n"
   ]
  },
  {
   "cell_type": "markdown",
   "id": "e62bb003",
   "metadata": {
    "slideshow": {
     "slide_type": "slide"
    }
   },
   "source": [
    "## Freio de Sapata Simétrica Pivotada\n",
    "\n",
    "\n",
    "![](figuras/fig3-16.png)\n",
    "\n",
    "\n",
    "Para este tipo de freio, a pressão varia proporcionalmente ao cosseno de $\\theta$\n",
    "\n",
    "$p = p_{max} \\dfrac{cos \\theta}{cos \\theta_{max}} = p_{max} \\dfrac{cos \\theta}{cos 0 ^\\circ} = p_{max} cos \\theta$\n",
    "\n",
    "$dN = pbrd \\theta = p_{max}br cos \\theta d \\theta$\n",
    "\n",
    "O momento da força de atrito atuante na sapata será:\n",
    "\n",
    "$M_F = 2 \\int_0^{\\theta_2} (d_7 cos \\theta - r)\\mu d N$\n",
    "\n",
    "Substituindo $dN$ nessa equação:\n",
    "\n",
    "$M_F = 2 \\int_0^{\\theta_2} p _{max}br \\mu (d_7 cos \\theta - r) cos \\theta d \\theta$\n",
    "\n",
    "A distância $d_7$ é escolhida de maneira que o momento da força de atrito $M_F$, entre a sapata e o tambor, seja nulo. Essa condição garante que a relação vertical esteja posicionada no local correto para que o desgaste da sapata seja simétrico e, além disso, que a distribuição de pressão ao longo da sapata obedeça a relação cossenoidal proposta originalmente.\n",
    "\n",
    "$M_F = 2 \\int_0^{\\theta_2} p_{max}br \\mu (d_7 cos \\theta - r) cos \\theta d \\theta = 0$\n",
    "\n",
    "Resolvendo para $d_7$:\n",
    "\n",
    "$d_7 = \\dfrac{4rsen \\theta_2}{2 \\theta_2 (\\pi/180^\\circ) + sen 2 \\theta_2}$\n",
    "\n",
    "O torque de frenagem pode ser obtido por:\n",
    "\n",
    "$T = 2 \\int_{0}^{\\theta_2} r \\mu dN = 2 \\mu p_{max} br^2 \\int_0^{\\theta_2} cos \\theta d \\theta$\n",
    "\n",
    "ou \n",
    "\n",
    "$T = 2 \\mu p_{max}br^2 sen \\theta_2$\n",
    "\n",
    "As reações horizontal e vertical, que atuam sobre o pivô são calculadas aplicando a equação dos momentos em relação ao pivô, considerando o equilíbrio estático:\n",
    "\n",
    "$R_x = \\dfrac{2p_{max}br^2sen \\theta_2}{d_7}$\n",
    "\n",
    "$R_y = \\dfrac{2 \\mu p_{max} b r^2 sen \\theta_2}{d_7} = \\mu R_x$\n",
    "\n",
    "O torque de frenagem também pode ser obtido como:\n",
    "\n",
    "$T = \\mu R_x d_7$"
   ]
  },
  {
   "cell_type": "markdown",
   "id": "00e12abd",
   "metadata": {
    "slideshow": {
     "slide_type": "slide"
    }
   },
   "source": [
    "## Freio de Cinta\n",
    "\n",
    "\n",
    "![](figuras/fig3-17.png)\n",
    "\n",
    "\n",
    "Aplicando as condições de equilíbrio estático no diferencial de cinta nas direções vertical (radial) e horizontal (tangencial):\n",
    "\n",
    "$-(P + dP)sen (d\\theta /2) - P sen (d \\theta/2) + dN = 0$\n",
    "\n",
    "e\n",
    "\n",
    "$-(P + dP) cos (d \\theta/2) + P cos (d \\theta / 2) + \\mu dN = 0$\n",
    "\n",
    "Simplificando as equações, considerando $dp << P$, $sen( d \\theta / 2) \\thickapprox d \\theta /2$ e $cos (d \\theta /2 ) \\thickapprox 1$:\n",
    "\n",
    "$dN = P d\\theta$\n",
    "\n",
    "$dP - \\mu dN = 0$\n",
    "\n",
    "Substituindo $dN$  nas equações:\n",
    "\n",
    "$dP - \\mu P d \\theta = 0$\n",
    "\n",
    "Integrando esta equação:\n",
    "\n",
    "$\\int_{P_2}^{P_1} \\dfrac{dP}{P} = \\int_0^{\\phi} \\mu d \\theta$\n",
    "\n",
    "ou\n",
    "\n",
    "$ln \\dfrac{P_1}{P_2} = \\dfrac{\\mu \\phi \\pi}{180^\\circ}$\n",
    "\n",
    "$\\dfrac{P_1}{P_2} = e^{\\mu \\phi \\pi / 180^\\circ}$\n",
    "\n",
    "Onde $\\phi$ é o ângulo de abraçamento\n",
    "\n",
    "O torque de frenagem aplicado no tambor será:\n",
    "\n",
    "$T = r(P_1 - P_2)$\n",
    "\n",
    "O diferencial da força normal $dN$, atuando sobre o elemento de cinta com largura $r$ e comprimento $r d \\theta$ será:\n",
    "\n",
    "$dN = pbrd \\theta$\n",
    "\n",
    "Substituindo esta equação em $dN = P d \\theta$:\n",
    "\n",
    "$pbrd \\theta = P d \\theta$\n",
    "\n",
    "$p = \\dfrac{P}{br}$\n",
    "\n",
    "A pressão máxima ocorre em:\n",
    "\n",
    "$p_{max} = \\dfrac{P_1}{br}$\n"
   ]
  },
  {
   "cell_type": "markdown",
   "id": "4024a61e",
   "metadata": {
    "slideshow": {
     "slide_type": "slide"
    }
   },
   "source": [
    "## Efeitos da Temperatura\n",
    "\n",
    "No uso de freios, recomenda-se:\n",
    "\n",
    "\n",
    "- aumentas as áreas das superfícies expostas mediante a utilização de palhetas, nervuras ou canais, objetivando o aumento da taxa de perda de calor por condução e convecção;\n",
    "- aumentar o fluxo de ar que passa pelas superfícies, propiciando melhor perda de calor por convecção;\n",
    "- aumentar a massa e o calor específico dos materiais adjacentes em contato com o revestimento do freio, propiciando maior taxa de perda de calor por condução.\n",
    "\n",
    "É difícil predizer as interações da energia nos sistemas de freios e embreagens, porque eles funcionam variando constantemente as suas condições de operação. No entanto, pode-se considerar:\n",
    "\n",
    "$U_{atrito} + \\Delta E _{1-2} = Q_{1-2}$\n",
    "\n",
    "$mc\\Delta T + \\Delta E_{1-2} = -Q_{cond} - Q_{conv}$\n",
    "\n",
    "$Q_{cond} = k A_x \\Delta T_x$\n",
    "\n",
    "$Q_{conv} = h A_{conv} (T_{sup} - T_{viz})$\n",
    "\n"
   ]
  }
 ],
 "metadata": {
  "kernelspec": {
   "display_name": "Python 3 (ipykernel)",
   "language": "python",
   "name": "python3"
  },
  "language_info": {
   "codemirror_mode": {
    "name": "ipython",
    "version": 3
   },
   "file_extension": ".py",
   "mimetype": "text/x-python",
   "name": "python",
   "nbconvert_exporter": "python",
   "pygments_lexer": "ipython3",
   "version": "3.10.6"
  }
 },
 "nbformat": 4,
 "nbformat_minor": 5
}
