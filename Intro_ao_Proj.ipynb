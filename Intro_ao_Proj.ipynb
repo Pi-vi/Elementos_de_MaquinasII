{
 "cells": [
  {
   "cell_type": "markdown",
   "id": "63bd3378-e746-4443-817e-db83100854cc",
   "metadata": {
    "slideshow": {
     "slide_type": "slide"
    }
   },
   "source": [
    "# Introdução ao Projeto\n",
    "Este material serve apenas como um guia para estudos e para as aulas, não substituindo a leitura dos livros indicados e é de uso exclusivo dos alunos do CEFET/RJ campus Angra dos Reis."
   ]
  },
  {
   "cell_type": "markdown",
   "id": "986ca515-714c-4ff1-9464-1c6256972341",
   "metadata": {
    "slideshow": {
     "slide_type": "subslide"
    }
   },
   "source": [
    "Projeto de engenharia pode ser definido como “O processo de aplicação de várias técnicas e princípios científicos com o intuito de definir um dispositivo, um método ou um sistema suficiente pormenorizado para permitir sua aplicação”."
   ]
  },
  {
   "cell_type": "markdown",
   "id": "b9ffa11c-2acf-4e3b-b42b-a612f75c61a0",
   "metadata": {
    "slideshow": {
     "slide_type": "subslide"
    }
   },
   "source": [
    "O objetivo final do projeto de máquinas é dimensionar e dar formas às peças (elementos de máquinas) e escolher os processos de manufatura apropriados, de modo que a máquina resultante possa desempenhar a função desejada sem falhar."
   ]
  },
  {
   "cell_type": "markdown",
   "id": "19ab8962-4a29-46e7-8050-d9851d7d4a99",
   "metadata": {
    "slideshow": {
     "slide_type": "subslide"
    }
   },
   "source": [
    "## Metodologia de Projetos\n",
    "\n",
    "→ A metodologia de projetos é essencialmente um exercícios de criatividade aplicada."
   ]
  },
  {
   "cell_type": "markdown",
   "id": "050bd10a-6024-4814-bb04-0cd261c3a52f",
   "metadata": {
    "slideshow": {
     "slide_type": "subslide"
    }
   },
   "source": [
    "- Muitas “metodologia de projetos” foram definidas para ajudar a organizar a enfrentar o “problema não estruturado”."
   ]
  },
  {
   "cell_type": "markdown",
   "id": "18da21e6-cbda-4030-adb6-f5ba3606fca4",
   "metadata": {
    "slideshow": {
     "slide_type": "subslide"
    }
   },
   "source": [
    "1. Identificação de necessidades.\n",
    "2. Pesquisa suporte.\n",
    "3. Definição de objetivos.\n",
    "4. Especificação de tarefas.\n",
    "5. Síntese.\n",
    "6. Análise.\n",
    "7. Seleção.\n",
    "8. Projeto Detalhado.\n",
    "9. Protótipo e teste.\n",
    "10. Produção."
   ]
  },
  {
   "cell_type": "markdown",
   "id": "81d791c0-1565-40a0-9a03-cd6a3930d847",
   "metadata": {
    "slideshow": {
     "slide_type": "subslide"
    }
   },
   "source": [
    "- A etapa inicial, Identificação de necessidades, geralmente consiste em uma exposição mal definida e vaga do problema.\n",
    "- O desenvolvimento das informações na Pesquisa de suporte é necessário para definir e compreender completamente o problema.\n",
    "- O objetivo é estabelecido de forma mais razoável e realista do que na exposição original do problema.\n",
    "- A especificação de tarefas é elaborada de forma detalhada e fecha o problema e limita o seu alcance.\n",
    "- Na síntese se busca tantas alternativas de projeto quanto possíveis, geralmente sem considerar (nesta etapa) seu valor ou qualidade. É também chamada, às vezes, de etapa de concepção e invenção, na qual é gerado o maior número possível de soluções criativas.\n",
    "- Na etapa de análise as possíveis soluções da etapa anterior são analisadas e aceitas, rejeitadas ou modificadas.\n",
    "- A solução mais promissora é selecionada na etapa Seleção.\n",
    "- Quando um projeto aceitável é selecionado, o projeto detalhado pode ser realizado.\n",
    "- A construção real do projeto é feita pela primeira vez como um protótipo na etapa 9 e, finalmente, em quantidade na etapa 10 de produção."
   ]
  },
  {
   "cell_type": "markdown",
   "id": "400b114a-b523-4da9-82dd-84836e50ae3e",
   "metadata": {
    "slideshow": {
     "slide_type": "subslide"
    }
   },
   "source": [
    "→ A descrição acima pode dar uma impressão de que este método pode ser concluído de maneira linear conforme relacionado. Ao contrário, a iteração é necessária ao longo de todo o processo."
   ]
  },
  {
   "cell_type": "markdown",
   "id": "95fe75f2-cb50-481a-b991-c7c703fdde3e",
   "metadata": {
    "slideshow": {
     "slide_type": "subslide"
    }
   },
   "source": [
    "- São três etapas para frente e duas (ou mais) para trás, até que você finalmente apareça com uma solução aproveitável.\n",
    "- Teoricamente, poderíamos continuar esta iteração em um dado problema de projeto para sempre, criando continuamente pequenas melhorias.\n",
    "- Em algum momento devemos declarar o projeto bom o suficiente e executá-lo."
   ]
  },
  {
   "cell_type": "markdown",
   "id": "8391de96-f8a9-4839-8393-9dd908cf364e",
   "metadata": {
    "slideshow": {
     "slide_type": "subslide"
    }
   },
   "source": [
    "- No projeto de máquinas, as etapas iniciais da metodologia de projeto envolvem a síntese de tipo de configurações cinemáticas adequadas capazes de proporcionar movimentos necessários.\n",
    "    - tipo de mecanismos mais adequado ao problema\n",
    "    - Esta é uma tarefa difícil, pois requer alguma experiência e conhecimento de diversos tipos de mecanismos que existem e que poderia ser viáveis do ponto de vista de desempenho e da fabricação.\n",
    "- Uma má escolha na etapa de síntese de tipo pode criar grandes problemas no futuro."
   ]
  },
  {
   "cell_type": "markdown",
   "id": "3e075115-8f03-4336-afc2-abfe718863c0",
   "metadata": {
    "slideshow": {
     "slide_type": "subslide"
    }
   },
   "source": [
    "## Formulação e Cálculo do Problema\n",
    "\n",
    "→ Solucionar problemas complicados exige uma abordagem organizada\n",
    "\n",
    "\n",
    "- Estágio de definição:\n",
    "    - Definir o problema\n",
    "    - Declarar dados\n",
    "    - Elaborar hipóteses apropriadas\n",
    "- Estágio de projeto preliminar\n",
    "    - Decisões preliminares de projeto\n",
    "    - Croquis do projeto\n",
    "- Estágio do projeto detalhado\n",
    "    - Análise do projeto\n",
    "    - Avaliação\n",
    "- Estágio da documentação\n",
    "    - Documentar Resultados"
   ]
  },
  {
   "cell_type": "markdown",
   "id": "c6ad32dc-52da-46b8-aad8-b23268110561",
   "metadata": {
    "slideshow": {
     "slide_type": "subslide"
    }
   },
   "source": [
    "## Exemplo de projeto:"
   ]
  },
  {
   "cell_type": "markdown",
   "id": "82afce9a-f9a1-4e9d-8e82-7695a5bf20a8",
   "metadata": {
    "slideshow": {
     "slide_type": "subslide"
    }
   },
   "source": [
    "https://www.dropbox.com/s/g4xc641qqr3w0z6/Montagem2%20-%20Folha1.pdf?dl=0"
   ]
  }
 ],
 "metadata": {
  "kernelspec": {
   "display_name": "Python 3 (ipykernel)",
   "language": "python",
   "name": "python3"
  },
  "language_info": {
   "codemirror_mode": {
    "name": "ipython",
    "version": 3
   },
   "file_extension": ".py",
   "mimetype": "text/x-python",
   "name": "python",
   "nbconvert_exporter": "python",
   "pygments_lexer": "ipython3",
   "version": "3.10.6"
  }
 },
 "nbformat": 4,
 "nbformat_minor": 5
}
