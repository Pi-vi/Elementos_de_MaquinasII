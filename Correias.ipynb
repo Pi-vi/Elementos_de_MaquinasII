{
 "cells": [
  {
   "cell_type": "markdown",
   "id": "62fa78eb",
   "metadata": {
    "slideshow": {
     "slide_type": "slide"
    }
   },
   "source": [
    "# Transmissão por Correias\n",
    "Este material serve apenas como um guia para estudos e para as aulas, não substituindo a leitura dos livros indicados e é de uso exclusivo dos alunos do CEFET/RJ campus Angra dos Reis."
   ]
  },
  {
   "cell_type": "markdown",
   "id": "62ff7cd8",
   "metadata": {
    "slideshow": {
     "slide_type": "subslide"
    }
   },
   "source": [
    "A necessidade de transmissão de potência entre eixos distintos é uma constante nos sistemas e dispositivos mecânicos em geral."
   ]
  },
  {
   "cell_type": "markdown",
   "id": "62388867",
   "metadata": {
    "slideshow": {
     "slide_type": "subslide"
    }
   },
   "source": [
    "Vantagens\n",
    "\n",
    "\n",
    "-  menor custo inicial\n",
    "- flexibilidade para grandes distâncias entre centros\n",
    "- funcionamento silencioso\n",
    "- capacidade de absorção de choques e sobrecargas\n",
    "- facilidade para montagem e manutenção\n",
    "- rendimentos na faixa de 95% a 98%"
   ]
  },
  {
   "cell_type": "markdown",
   "id": "032e526b",
   "metadata": {
    "slideshow": {
     "slide_type": "subslide"
    }
   },
   "source": [
    "Desvantagens:\n",
    "\n",
    "\n",
    "- alongamento permanente da correia\n",
    "- variação do coeficiente de atrito com a poeira, detritos ou umidade\n",
    "- necessidade de controle periódico da tensão de montagem\n",
    "- escorregamento existente na transmissão, caracterizando relações de velocidade não constantes (exceto para correias dentadas)\n"
   ]
  },
  {
   "cell_type": "markdown",
   "id": "48c8c62a",
   "metadata": {
    "slideshow": {
     "slide_type": "slide"
    }
   },
   "source": [
    "## Tipos de Correias\n",
    "\n",
    "\n",
    "- correias planas\n",
    "- correias trapezoidais ou em V\n",
    "- correias sincronizadoras ou dentadas\n",
    "- correias redondas\n",
    "- correias hexagonais"
   ]
  },
  {
   "cell_type": "markdown",
   "id": "dcb6d0e3",
   "metadata": {
    "slideshow": {
     "slide_type": "subslide"
    }
   },
   "source": [
    "![](figuras/fig4-1.png)"
   ]
  },
  {
   "cell_type": "markdown",
   "id": "64807486",
   "metadata": {
    "slideshow": {
     "slide_type": "subslide"
    }
   },
   "source": [
    "Quase todos os tipos de correias apresentam basicamente a mesma configuração:\n",
    "\n",
    "\n",
    "- cabos ou elementos de tração, confeccionados em tiras de poliamida ou poliéster, cordões de fibra de vidro ou cordões de aço, os quis são responsáveis diretamente pela sustentação dos esforços de tração, pelo qual as correias são submetidas quando em funcionamento\n",
    "- elementos intermediários de preenchimento, confeccionados normalmente em algodão ou náilon, impregnado com borracha, visando dar flexibilidade ao sistema\n",
    "- capa ou envelope externo, confeccionados tipicamente em borracha sintética, normalmente o neopreme, objetivando aumentar a resistência ao óleo, ao calor e às impurezas típicas da própria transmissão."
   ]
  },
  {
   "cell_type": "markdown",
   "id": "97a3a2c5",
   "metadata": {
    "slideshow": {
     "slide_type": "subslide"
    }
   },
   "source": [
    "![](figuras/fig4-2.png)"
   ]
  },
  {
   "cell_type": "markdown",
   "id": "08388572",
   "metadata": {
    "slideshow": {
     "slide_type": "subslide"
    }
   },
   "source": [
    "## Parâmetros Gerais das Transmissões por Correias"
   ]
  },
  {
   "cell_type": "markdown",
   "id": "49818e0f",
   "metadata": {
    "slideshow": {
     "slide_type": "subslide"
    }
   },
   "source": [
    "![](figuras/fig4-3.png)"
   ]
  },
  {
   "cell_type": "markdown",
   "id": "e1a9ec1a",
   "metadata": {
    "slideshow": {
     "slide_type": "subslide"
    }
   },
   "source": [
    "![](figuras/fig4-4.png)"
   ]
  },
  {
   "cell_type": "markdown",
   "id": "b8eeefd4",
   "metadata": {
    "slideshow": {
     "slide_type": "subslide"
    }
   },
   "source": [
    "![](figuras/fig4-5.png)"
   ]
  },
  {
   "cell_type": "markdown",
   "id": "7c5879d5",
   "metadata": {
    "slideshow": {
     "slide_type": "subslide"
    }
   },
   "source": [
    "Distância entre eixos:\n",
    "\n",
    "![](figuras/fig4-6.png)\n",
    "\n",
    "![](figuras/fig4-7.png)"
   ]
  },
  {
   "cell_type": "markdown",
   "id": "e24c6621",
   "metadata": {
    "slideshow": {
     "slide_type": "subslide"
    }
   },
   "source": [
    "- Pode apresentar qualquer valor numérico correspondente, devendo, porém, ser compatível com as dimensões das polias envolvidas\n",
    "- Na ausência de informações, o projetista pode usar os seguintes valores recomendados\n",
    "\n",
    "$a = dp_2$     \n",
    "\n",
    "ou      \n",
    "$a = \\dfrac{dp_2 + 3 dp_{1}}{2}$\n",
    "\n",
    "Nessas circunstâncias, deve-se optar pelo maior valor numérico entre os dois calculados.\n"
   ]
  },
  {
   "cell_type": "markdown",
   "id": "e6d90d99",
   "metadata": {
    "slideshow": {
     "slide_type": "subslide"
    }
   },
   "source": [
    "Ângulo de abraçamento ou de contato\n",
    "\n",
    "\n",
    "- correias abertas\n",
    "\n",
    "$\\theta = \\pi \\pm 2 arcsen \\left( \\dfrac{dp_2 - dp_1}{2a} \\right)$\n",
    "$+$ → para o ângulo de abraçamento da polia maior\n",
    "$-$ → ângulo de abraçamento da polia menor\n",
    "\n",
    "\n",
    "- Para o caso de correias cruzadas\n",
    "\n",
    "$\\theta = \\pi + 2 arcsen \\left( \\dfrac{dp_2 + dp_1}{2a} \\right)$"
   ]
  },
  {
   "cell_type": "markdown",
   "id": "f0d19b0a",
   "metadata": {
    "slideshow": {
     "slide_type": "subslide"
    }
   },
   "source": [
    "Comprimento da correia\n",
    "\n",
    "\n",
    "- correias abertas\n",
    "\n",
    "$L = 2a + \\dfrac{\\pi}{2} (dp_2 + dp_1) + \\dfrac{(dp_2 - dp_1)^2}{4a}$\n",
    "\n",
    "\n",
    "- Correias cruzadas\n",
    "\n",
    "$L = 2a + \\pi/2 (dp_2 + dp_1) + \\dfrac{(dp_2 + dp_1)^2}{4a}$"
   ]
  },
  {
   "cell_type": "markdown",
   "id": "c2bc1937",
   "metadata": {
    "slideshow": {
     "slide_type": "subslide"
    }
   },
   "source": [
    "Relação de Transmissão\n",
    "\n",
    "$i = \\dfrac{dp_1}{dp_2} = \\dfrac{rp_1}{rp_2} = \\dfrac{Mt_1}{Mt_2} = \\dfrac{n_2}{n_1}$\n",
    "\n",
    "![](figuras/fig4-8.png)\n",
    "\n",
    "[https://youtu.be/PEq5_b4LWNY](https://youtu.be/PEq5_b4LWNY)"
   ]
  },
  {
   "cell_type": "markdown",
   "id": "f34ef0db",
   "metadata": {
    "slideshow": {
     "slide_type": "subslide"
    }
   },
   "source": [
    "## Forças atuantes sobre a Correia\n",
    "\n",
    "![](figuras/fig4-9.png)\n",
    "\n",
    "![](figuras/fig4-10.png)"
   ]
  },
  {
   "cell_type": "markdown",
   "id": "32cc0cf3",
   "metadata": {
    "slideshow": {
     "slide_type": "subslide"
    }
   },
   "source": [
    "$\\sum F_t = 0$ \n",
    "\n",
    "$\\mu dN + F cos \\left(\\dfrac{d \\theta}{2} \\right) - (F + dF) cos \\left( \\dfrac{d \\theta}{2} \\right) = 0$\n",
    "\n",
    "$\\mu dN - dF cos \\left(\\dfrac{d \\theta}{2} \\right) = 0$"
   ]
  },
  {
   "cell_type": "markdown",
   "id": "34b86d6e",
   "metadata": {
    "slideshow": {
     "slide_type": "subslide"
    }
   },
   "source": [
    "$\\sum F_r = 0$\n",
    "\n",
    "$dS + dN - Fsen \\left( \\dfrac{ d \\theta}{2} \\right) - (F + dF)sen \\left(\\dfrac{d \\theta}{2} \\right) = 0$\n",
    "\n",
    "$dS + dN - 2F sen \\left( \\dfrac{d \\theta}{2} \\right) - dF sen \\left( \\dfrac{ d \\theta}{2} \\right) = 0$"
   ]
  },
  {
   "cell_type": "markdown",
   "id": "a828724f",
   "metadata": {
    "slideshow": {
     "slide_type": "subslide"
    }
   },
   "source": [
    "Considerando $d \\theta << 1$ → $sen d \\theta = d  \\theta$ e $cos d \\theta = 1$\n",
    "\n",
    "\n",
    "$\\mu dN - dF = 0$\n",
    "\n",
    "$dS + dN - F d \\theta = 0$\n",
    "\n",
    "Substituindo $dN$ na primeira equação:\n",
    "\n",
    "$\\mu (F d \\theta - d S) - d F = 0$\n",
    "\n",
    "= $\\dfrac{dF}{d \\theta} - \\mu F = - \\mu dS$\n",
    "\n",
    "Integrando essa equação e aplicando as condições de contorno:\n",
    "\n",
    "$\\theta = 0$ → $F = F_2$\n",
    "$\\theta = \\theta_1$ → $F = F_1$\n",
    "\n",
    "$\\dfrac{F_1 - S}{F_2 - S} = e^{\\mu \\theta_1}$"
   ]
  },
  {
   "cell_type": "markdown",
   "id": "08c9c39e",
   "metadata": {
    "slideshow": {
     "slide_type": "subslide"
    }
   },
   "source": [
    "Força centrífuga\n",
    "\n",
    "Para o caso de uma correia plana com seção transversal ($b \\times t)$:\n",
    "\n",
    "$S = \\gamma b t \\dfrac{v^2}{g}$\n",
    "\n",
    "A força centrífuga, em aplicações gerais, nas quais a velocidade tangencial da correia seja inferior a 15 m/s, pode ser desprezada por sua pequena contribuição em relação aos resultados obtidos para $F_1$ e $F_2$.\n",
    "\n",
    "\n",
    "- Velocidades tangenciais elevadas para a correia sugerem ainda a utilização de polias com diâmetros maiores, visando a não flexionar a correia de forma excessiva em torno das polias\n",
    "\n",
    "$v = \\omega r p = \\dfrac{\\pi d_p n}{60}$\n",
    "\n",
    "Em termos práticos, $v$ não pode ultrapassar a faixa dos 20m/s"
   ]
  },
  {
   "cell_type": "markdown",
   "id": "1c72ba46",
   "metadata": {
    "slideshow": {
     "slide_type": "subslide"
    }
   },
   "source": [
    "## Força líquida e pré-carga sobre a correia\n",
    "\n",
    "→ A transmissão de potência por uma correia somente torna-se possível caso exista uma tração inicial sobre a mesma.\n",
    "\n",
    "\n",
    "    → Essa tração inicial, chamada de pré-carga, não deve apresentar valor muito elevado para não avariar a correia por essa tensão excessiva, como também não deve solicitar de forma exagerada os eixos e os mancais correspondentes.\n",
    "\n",
    "\n",
    "    → Ela também não pode ser muito baixa para não ocasionar o deslizamento excessivo e a “patinação” consequente da correia sobre a polia\n",
    "\n",
    "\n",
    "![](figuras/fig4-11.png)\n",
    "\n",
    "$F_1 + F_2 = 2F_i + 2S$ → $F_i = \\dfrac{F_1 + F_2}{2} - S$\n",
    "\n",
    "$F_1 - F_2 = \\dfrac{2M_t}{dp} = \\dfrac{M_t}{r_p}$ → $F_1 - F_2 = F_t$\n",
    "\n",
    "onde $F_t$ é a força líquida tangencial"
   ]
  },
  {
   "cell_type": "markdown",
   "id": "7d064367",
   "metadata": {
    "slideshow": {
     "slide_type": "subslide"
    }
   },
   "source": [
    "Dispositivos específicos adotados para manter o valor desse carregamento inicial são ilustrados a seguir:\n",
    "\n",
    "![](figuras/fig4-12.png)\n",
    "\n",
    "![](figuras/fig4-13.png)\n",
    "\n",
    "![](figuras/fig4-14.png)\n",
    "\n",
    "![](figuras/fig4-15.png)"
   ]
  },
  {
   "cell_type": "markdown",
   "id": "1607be2c",
   "metadata": {
    "slideshow": {
     "slide_type": "subslide"
    }
   },
   "source": [
    "## Variação dos esforços atuantes sobre a correia durante um ciclo completo\n",
    "\n",
    "![](figuras/fig4-16.png)\n",
    "\n",
    "![](figuras/fig4-17.png)"
   ]
  },
  {
   "cell_type": "markdown",
   "id": "dda56032",
   "metadata": {
    "slideshow": {
     "slide_type": "subslide"
    }
   },
   "source": [
    "## Forças Atuantes sobre o Eixo de Transmissão\n",
    "\n",
    "![](figuras/fig4-18.png)"
   ]
  },
  {
   "cell_type": "markdown",
   "id": "fb095c1a",
   "metadata": {
    "slideshow": {
     "slide_type": "subslide"
    }
   },
   "source": [
    "$F_H = (F_1 + F_2)cos \\beta$\n",
    "\n",
    "$F_V = (F_1 - F_2) sen \\beta$\n",
    "\n",
    "$\\theta_1 + 2 \\beta = 180^\\circ$"
   ]
  },
  {
   "cell_type": "markdown",
   "id": "6016a878",
   "metadata": {
    "slideshow": {
     "slide_type": "subslide"
    }
   },
   "source": [
    "## Tensões Atuantes sobre uma Correia"
   ]
  },
  {
   "cell_type": "markdown",
   "id": "49d7f27b",
   "metadata": {
    "slideshow": {
     "slide_type": "subslide"
    }
   },
   "source": [
    "![](figuras/fig4-19.png)\n",
    "\n",
    "A tensão devida à força centrífuga é mantida constante ao longo de todo o percurso da correia. As tensões de flexão atuam ao redor das polias, sendo maior (em módulo) para o caso da polia menor. A tensão oriunda da força de tração na correia apresenta variação ao passar ao redor de ambas as polias, devido à passagem de $F_1$ para $F_2$."
   ]
  },
  {
   "cell_type": "markdown",
   "id": "f15aa308",
   "metadata": {
    "slideshow": {
     "slide_type": "slide"
    }
   },
   "source": [
    "## Correias Planas"
   ]
  },
  {
   "cell_type": "markdown",
   "id": "1825d88d",
   "metadata": {
    "slideshow": {
     "slide_type": "subslide"
    }
   },
   "source": [
    "![](figuras/fig4-20.png)\n",
    "\n",
    "![](figuras/fig4-21.png)\n",
    "\n",
    "![](figuras/fig4-22.png)"
   ]
  },
  {
   "cell_type": "markdown",
   "id": "0703450c",
   "metadata": {
    "slideshow": {
     "slide_type": "subslide"
    }
   },
   "source": [
    "**Fator de Serviço**\n",
    "\n",
    "![](figuras/fig4-23.png)"
   ]
  },
  {
   "cell_type": "markdown",
   "id": "19fb179b",
   "metadata": {
    "slideshow": {
     "slide_type": "subslide"
    }
   },
   "source": [
    "- Para o dimensionamento de uma correia plana são necessárias informações acerca das características do material da correia, as quais são fornecidas normalmente na forma de uma carga por largura de correia ($F_P$)\n",
    "\n",
    "$(F_1)_{adm} = \\dfrac{bF_P}{K_o}$\n",
    "\n",
    "Como tais correias são disponibilizadas com espessuras padrões, normalmente caberá ao projetista a definição de uma largura mínima de correia correspondente a determinada condição de projeto."
   ]
  },
  {
   "cell_type": "markdown",
   "id": "0f0387bc",
   "metadata": {
    "slideshow": {
     "slide_type": "subslide"
    }
   },
   "source": [
    "**Exemplo 1:**\n",
    "Para a transmissão ilustrada utilizando uma correia plana, determinar os esforços atuantes nos ramos da correia: \n",
    "\n",
    "![](figuras/fig4-24.png)\n"
   ]
  },
  {
   "cell_type": "markdown",
   "id": "fa94832b",
   "metadata": {
    "slideshow": {
     "slide_type": "slide"
    }
   },
   "source": [
    "## Correias Trapezoidais\n",
    "\n",
    "\n",
    "- As correias trapezoidais ou em V são fabricadas em comprimentos padronizados e com as dimensões da seção transversal também padronizadas.\n",
    "- Diferentemente do projeto de uma correia plana, na qual se trabalha com uma única correia, o projeto de correias trapezoidais envolve a definição do tipo de perfil mais adequado como também do número de correias a ser aplicado em determinada situação do projeto."
   ]
  },
  {
   "cell_type": "markdown",
   "id": "daf63e10",
   "metadata": {
    "slideshow": {
     "slide_type": "subslide"
    }
   },
   "source": [
    "![](figuras/fig4-25.png)"
   ]
  },
  {
   "cell_type": "markdown",
   "id": "f2856a4c",
   "metadata": {
    "slideshow": {
     "slide_type": "subslide"
    }
   },
   "source": [
    " Os esforços atuantes em uma correia trapezoidal são semelhantes aos que atuam nas correias planas\n",
    "\n",
    "$(dN)_{plana} \\rightarrow \\dfrac{(dN)_{V}}{sen \\psi} = \\dfrac{(dN)_V}{sen 18^\\circ} \\rightarrow (dN)_V = 3.2(dN)_{plana}$\n",
    "\n",
    "\n",
    "- Em termos de projeto, utiliza-se um coeficiente de atrito efetivo, o qual é fornecido pelo fabricante\n",
    "\n",
    "$\\mu' = \\mu / sen \\psi$\n",
    "\n",
    "$\\mu' = 0.5123$\n",
    "\n",
    "$\\dfrac{F_1 - S}{F_2 - S} = e^{0.5123 \\theta_1}$\n",
    "\n",
    "$S = 2,3562 \\left( \\dfrac{V}{2.4} \\right)^2$        [N]\n"
   ]
  },
  {
   "cell_type": "markdown",
   "id": "a8d548fe",
   "metadata": {
    "slideshow": {
     "slide_type": "subslide"
    }
   },
   "source": [
    "Seções Trapezoidais padronizadas\n",
    "\n",
    "→ A, B, C,D e E ← aplicações gerais  \n",
    "→ 3V, 5V e 8V ← aplicações de carregamentos pesados\n"
   ]
  },
  {
   "cell_type": "markdown",
   "id": "36643189",
   "metadata": {
    "slideshow": {
     "slide_type": "subslide"
    }
   },
   "source": [
    "**Etapas de seleção e projeto de correias trapezoidais**\n",
    "\n",
    "Precisamos saber:  \n",
    "a) potência a transmitir  \n",
    "b) rotação dos eixos  \n",
    "c) características do acionamento  \n",
    "d) estimativa da distância entre eixos  "
   ]
  },
  {
   "cell_type": "markdown",
   "id": "a6da0323",
   "metadata": {
    "slideshow": {
     "slide_type": "subslide"
    }
   },
   "source": [
    "Etapas:\n",
    "\n",
    "\n",
    "- Passo 01 - Definição da potência de projeto\n",
    "\n",
    "$P_p = K_o N_o$\n",
    "\n",
    "$K_o$ → Para situações nas quais as condições operacionais não sejam conhecidas ou claramente identificadas, deve-se adotar esse valor igual à unidade.\n"
   ]
  },
  {
   "cell_type": "markdown",
   "id": "ca5e25b0",
   "metadata": {
    "slideshow": {
     "slide_type": "subslide"
    }
   },
   "source": [
    "- Passo 02 - Definição do perfil da correia"
   ]
  },
  {
   "cell_type": "markdown",
   "id": "7bcb42b6",
   "metadata": {
    "slideshow": {
     "slide_type": "subslide"
    }
   },
   "source": [
    "![](figuras/fig4-26.png)"
   ]
  },
  {
   "cell_type": "markdown",
   "id": "3cc05fa3",
   "metadata": {
    "slideshow": {
     "slide_type": "subslide"
    }
   },
   "source": [
    "- Passo 03 - Definição dos diâmetros das polias \n",
    "\n",
    "→ não havendo informações de projeto acerca do diâmetro primitivo da polia motora, adotar o diâmetro mínimo recomendado para o perfil da correia selecionada. A partir da relação de transmissão determina-se o diâmetro da polia movida.\n"
   ]
  },
  {
   "cell_type": "markdown",
   "id": "dbad0bda",
   "metadata": {
    "slideshow": {
     "slide_type": "subslide"
    }
   },
   "source": [
    "- Passo 04 - Definição da velocidade tangencial da correia\n",
    "\n",
    "$v = \\dfrac{\\pi d n}{60}$"
   ]
  },
  {
   "cell_type": "markdown",
   "id": "29a1cb6b",
   "metadata": {
    "slideshow": {
     "slide_type": "subslide"
    }
   },
   "source": [
    "\n",
    "- Passo 05 - Definição do comprimento da correia e do ângulo de abraçamento da polia"
   ]
  },
  {
   "cell_type": "markdown",
   "id": "c9738626",
   "metadata": {
    "slideshow": {
     "slide_type": "subslide"
    }
   },
   "source": [
    "- Passo 06 - Definição do comprimento padronizado da correia e criação da distância entre centros. \n",
    "\n",
    "$a_{corr} = a - \\left( \\dfrac{L - L_{tab}}{2} \\right)$\n",
    "\n",
    "$a_{corr}$ ← distância entre centros corrigida"
   ]
  },
  {
   "cell_type": "markdown",
   "id": "c2bfde84",
   "metadata": {
    "slideshow": {
     "slide_type": "subslide"
    }
   },
   "source": [
    "![](figuras/fig4-27.png)"
   ]
  },
  {
   "cell_type": "markdown",
   "id": "95ab9b03",
   "metadata": {
    "slideshow": {
     "slide_type": "subslide"
    }
   },
   "source": [
    "![](figuras/fig4-28.png)"
   ]
  },
  {
   "cell_type": "markdown",
   "id": "b6774669",
   "metadata": {
    "slideshow": {
     "slide_type": "subslide"
    }
   },
   "source": [
    "![](figuras/fig4-29.png)"
   ]
  },
  {
   "cell_type": "markdown",
   "id": "894eace5",
   "metadata": {
    "slideshow": {
     "slide_type": "subslide"
    }
   },
   "source": [
    "![](figuras/fig4-30.png)"
   ]
  },
  {
   "cell_type": "markdown",
   "id": "73f8c757",
   "metadata": {
    "slideshow": {
     "slide_type": "subslide"
    }
   },
   "source": [
    "- Passo 07 - Determinação dos fatores de correção\n",
    "\n",
    "→ as correias padronizadas são definidas para algumas circunstâncias de ângulos de contato e comprimentos, para os quais se torna necessário efetivar pequenos ajustes a partir de fatores de correção específicos"
   ]
  },
  {
   "cell_type": "markdown",
   "id": "e780dd7f",
   "metadata": {
    "slideshow": {
     "slide_type": "subslide"
    }
   },
   "source": [
    "![](figuras/fig4-31.png)"
   ]
  },
  {
   "cell_type": "markdown",
   "id": "658b7707",
   "metadata": {
    "slideshow": {
     "slide_type": "subslide"
    }
   },
   "source": [
    "![](figuras/fig4-32.png)"
   ]
  },
  {
   "cell_type": "markdown",
   "id": "f982f49c",
   "metadata": {
    "slideshow": {
     "slide_type": "subslide"
    }
   },
   "source": [
    "- Passo 08 - Determinação do HP básico e do HP adicional por correia\n",
    "\n",
    "$HP_{class} = HP_{bas} + HP_{adic}$\n"
   ]
  },
  {
   "cell_type": "markdown",
   "id": "464c49f2",
   "metadata": {
    "slideshow": {
     "slide_type": "subslide"
    }
   },
   "source": [
    "- Passo 09 - Determinação do HP efetivo e do número de correias\n",
    "\n",
    "→ A multiplicação do HP classificado pelos fatores de correção de arco de contato e comprimento fornece o chamado HP efetivo.\n",
    "\n",
    "→ Posteriormente, a divisão da potência de projeto pelo HP efetivo fornece, enfim, o número de correias a ser utilizado no projeto\n",
    "\n",
    "$HP_{efet} = HP_{class}. F_{AC}.F_{LP}$\n",
    "\n",
    "N° de correias $\\geq \\dfrac{P_P}{HP_{efet}}$"
   ]
  },
  {
   "cell_type": "markdown",
   "id": "7e5e8079",
   "metadata": {
    "slideshow": {
     "slide_type": "subslide"
    }
   },
   "source": [
    "Obs.: Polia em V (motora) - Plana → $i \\geq 0.3$  e $\\dfrac{dP_2 - dp_1}{a_{corr}} \\geq 0.7$"
   ]
  },
  {
   "cell_type": "markdown",
   "id": "ee62d020",
   "metadata": {
    "slideshow": {
     "slide_type": "subslide"
    }
   },
   "source": [
    "![](figuras/fig4-33.png)"
   ]
  },
  {
   "cell_type": "markdown",
   "id": "6bf999cf",
   "metadata": {
    "slideshow": {
     "slide_type": "subslide"
    }
   },
   "source": [
    "![](figuras/fig4-34.png)"
   ]
  },
  {
   "cell_type": "markdown",
   "id": "9d5ec52d",
   "metadata": {
    "slideshow": {
     "slide_type": "subslide"
    }
   },
   "source": [
    "![](figuras/fig4-35.png)"
   ]
  },
  {
   "cell_type": "markdown",
   "id": "82f5823f",
   "metadata": {
    "slideshow": {
     "slide_type": "subslide"
    }
   },
   "source": [
    "![](figuras/fig4-36.png)"
   ]
  },
  {
   "cell_type": "markdown",
   "id": "b0197909",
   "metadata": {
    "slideshow": {
     "slide_type": "subslide"
    }
   },
   "source": [
    "![](figuras/fig4-37.png)"
   ]
  },
  {
   "cell_type": "markdown",
   "id": "19deaf13",
   "metadata": {
    "slideshow": {
     "slide_type": "subslide"
    }
   },
   "source": [
    "![](figuras/fig4-38.png)"
   ]
  },
  {
   "cell_type": "markdown",
   "id": "622cd14c",
   "metadata": {
    "slideshow": {
     "slide_type": "subslide"
    }
   },
   "source": [
    "![](figuras/fig4-39.png)"
   ]
  },
  {
   "cell_type": "markdown",
   "id": "1123d54a",
   "metadata": {
    "slideshow": {
     "slide_type": "subslide"
    }
   },
   "source": [
    "![](figuras/fig4-40.png)"
   ]
  },
  {
   "cell_type": "markdown",
   "id": "6f3c33ef",
   "metadata": {
    "slideshow": {
     "slide_type": "subslide"
    }
   },
   "source": [
    "![](figuras/fig4-41.png)"
   ]
  },
  {
   "cell_type": "markdown",
   "id": "97ec20e9",
   "metadata": {
    "slideshow": {
     "slide_type": "subslide"
    }
   },
   "source": [
    "![](figuras/fig4-42.png)"
   ]
  },
  {
   "cell_type": "markdown",
   "id": "4654a2bb",
   "metadata": {
    "slideshow": {
     "slide_type": "subslide"
    }
   },
   "source": [
    "![](figuras/fig4-43.png)"
   ]
  },
  {
   "cell_type": "markdown",
   "id": "2bb67da9",
   "metadata": {
    "slideshow": {
     "slide_type": "subslide"
    }
   },
   "source": [
    "![](figuras/fig4-44.png)"
   ]
  },
  {
   "cell_type": "markdown",
   "id": "d3c3d0ee",
   "metadata": {
    "slideshow": {
     "slide_type": "subslide"
    }
   },
   "source": [
    "![](figuras/fig4-45.png)"
   ]
  },
  {
   "cell_type": "markdown",
   "id": "77fe0028",
   "metadata": {
    "slideshow": {
     "slide_type": "subslide"
    }
   },
   "source": [
    "![](figuras/fig4-46.png)"
   ]
  },
  {
   "cell_type": "markdown",
   "id": "695a5942",
   "metadata": {
    "slideshow": {
     "slide_type": "subslide"
    }
   },
   "source": [
    "![](figuras/fig4-47.png)"
   ]
  },
  {
   "cell_type": "markdown",
   "id": "89863edd",
   "metadata": {
    "slideshow": {
     "slide_type": "subslide"
    }
   },
   "source": [
    "![](figuras/fig4-48.png)"
   ]
  },
  {
   "cell_type": "markdown",
   "id": "bc6e6a9c",
   "metadata": {
    "slideshow": {
     "slide_type": "subslide"
    }
   },
   "source": [
    "\n",
    "**Exemplo 2:**\n",
    "\n",
    "Um britador de 29HP deverá ser acionado mediante uma transmissão por correias trapezoidais, em uma rotação de saída de 280RPM. O motor de acionamento apresenta 30HP a 1170RPM. Para a distância entre eixos aproximada de 40”, determinar o número e o tipo de correias trapezoidais para o acionamento referido. "
   ]
  },
  {
   "cell_type": "code",
   "execution_count": 1,
   "id": "620d4528",
   "metadata": {
    "slideshow": {
     "slide_type": "subslide"
    }
   },
   "outputs": [],
   "source": [
    "from sympy import *"
   ]
  },
  {
   "cell_type": "markdown",
   "id": "98de1769",
   "metadata": {
    "slideshow": {
     "slide_type": "fragment"
    }
   },
   "source": [
    "Unidades:"
   ]
  },
  {
   "cell_type": "code",
   "execution_count": 2,
   "id": "eb9476fa",
   "metadata": {
    "slideshow": {
     "slide_type": "fragment"
    }
   },
   "outputs": [],
   "source": [
    "pol,m,HP,W,RPM,s = symbols('pol m HP W RPM s')"
   ]
  },
  {
   "cell_type": "markdown",
   "id": "00210819",
   "metadata": {
    "slideshow": {
     "slide_type": "fragment"
    }
   },
   "source": [
    "Dados:"
   ]
  },
  {
   "cell_type": "code",
   "execution_count": 3,
   "id": "4b4bafa4",
   "metadata": {
    "slideshow": {
     "slide_type": "fragment"
    }
   },
   "outputs": [],
   "source": [
    "No = 30*HP # Potência nominal\n",
    "n1 = 1170*RPM # Rotação do eixo motor\n",
    "n2 = 280*RPM # Rotação do eixo movido\n",
    "a = 40*pol # distância entrei eixos aproximada"
   ]
  },
  {
   "cell_type": "markdown",
   "id": "788ee651",
   "metadata": {
    "slideshow": {
     "slide_type": "fragment"
    }
   },
   "source": [
    "Conversões:\n"
   ]
  },
  {
   "cell_type": "code",
   "execution_count": 4,
   "id": "34633afc",
   "metadata": {
    "slideshow": {
     "slide_type": "fragment"
    }
   },
   "outputs": [],
   "source": [
    "conv = {pol:0.0254*m, HP:7368*W,RPM:1/(60*s)}"
   ]
  },
  {
   "cell_type": "markdown",
   "id": "bbb4686a",
   "metadata": {
    "slideshow": {
     "slide_type": "fragment"
    }
   },
   "source": [
    "## Passo 01: Obter a potência de projeto"
   ]
  },
  {
   "cell_type": "markdown",
   "id": "1681939d",
   "metadata": {
    "slideshow": {
     "slide_type": "fragment"
    }
   },
   "source": [
    "![image.png](figuras/fig4-49.png)"
   ]
  },
  {
   "cell_type": "code",
   "execution_count": 5,
   "id": "8c3343f6",
   "metadata": {
    "slideshow": {
     "slide_type": "fragment"
    }
   },
   "outputs": [
    {
     "data": {
      "text/latex": [
       "$\\displaystyle 45.0 HP$"
      ],
      "text/plain": [
       "45.0*HP"
      ]
     },
     "execution_count": 5,
     "metadata": {},
     "output_type": "execute_result"
    }
   ],
   "source": [
    "Ko = 1.5 # Fator de Serviço\n",
    "Pp = Ko*No \n",
    "Pp # Potência de Projeto"
   ]
  },
  {
   "cell_type": "markdown",
   "id": "e3d3ba6d",
   "metadata": {
    "slideshow": {
     "slide_type": "fragment"
    }
   },
   "source": [
    "## Passo 02: Seleção do perfil da correia"
   ]
  },
  {
   "cell_type": "markdown",
   "id": "c062f5d3",
   "metadata": {
    "slideshow": {
     "slide_type": "fragment"
    }
   },
   "source": [
    "![image.png](figuras/fig4-50.png)"
   ]
  },
  {
   "cell_type": "markdown",
   "id": "e6b75eaa",
   "metadata": {
    "slideshow": {
     "slide_type": "fragment"
    }
   },
   "source": [
    "Perfil C, polia menor -> 8\" a 12\""
   ]
  },
  {
   "cell_type": "markdown",
   "id": "b2c991ac",
   "metadata": {
    "slideshow": {
     "slide_type": "fragment"
    }
   },
   "source": [
    "## Passo 03: Definição do tamanho das polias:"
   ]
  },
  {
   "cell_type": "markdown",
   "id": "36e96706",
   "metadata": {
    "slideshow": {
     "slide_type": "fragment"
    }
   },
   "source": [
    "Optando por polia motora (menor polia) de 10\" (segundo a recomendação):"
   ]
  },
  {
   "cell_type": "code",
   "execution_count": 6,
   "id": "bad18df7",
   "metadata": {
    "slideshow": {
     "slide_type": "fragment"
    }
   },
   "outputs": [
    {
     "data": {
      "text/latex": [
       "$\\displaystyle \\frac{585 pol}{14}$"
      ],
      "text/plain": [
       "585*pol/14"
      ]
     },
     "execution_count": 6,
     "metadata": {},
     "output_type": "execute_result"
    }
   ],
   "source": [
    "dp1 = 10*pol\n",
    "i = n1/n2 # razão de transmissão\n",
    "dp2 = dp1*i \n",
    "dp2"
   ]
  },
  {
   "cell_type": "code",
   "execution_count": 7,
   "id": "fb540fa7",
   "metadata": {
    "slideshow": {
     "slide_type": "fragment"
    }
   },
   "outputs": [
    {
     "data": {
      "text/latex": [
       "$\\displaystyle 41.8 pol$"
      ],
      "text/plain": [
       "41.8*pol"
      ]
     },
     "execution_count": 7,
     "metadata": {},
     "output_type": "execute_result"
    }
   ],
   "source": [
    "dp2 = dp2.evalf(3)\n",
    "dp2 "
   ]
  },
  {
   "cell_type": "markdown",
   "id": "6b426186",
   "metadata": {
    "slideshow": {
     "slide_type": "fragment"
    }
   },
   "source": [
    "## Passo 04 - Velocidade Tangencial"
   ]
  },
  {
   "cell_type": "code",
   "execution_count": 8,
   "id": "19dc7230",
   "metadata": {
    "slideshow": {
     "slide_type": "fragment"
    }
   },
   "outputs": [
    {
     "data": {
      "text/latex": [
       "$\\displaystyle \\frac{15.56 m}{s}$"
      ],
      "text/plain": [
       "15.56*m/s"
      ]
     },
     "execution_count": 8,
     "metadata": {},
     "output_type": "execute_result"
    }
   ],
   "source": [
    "v = (pi*dp1*n1).subs(conv)\n",
    "v.evalf(4)"
   ]
  },
  {
   "cell_type": "markdown",
   "id": "ffcb70d4",
   "metadata": {
    "slideshow": {
     "slide_type": "fragment"
    }
   },
   "source": [
    "## Passo 05 - Comprimento da Correia"
   ]
  },
  {
   "cell_type": "code",
   "execution_count": 9,
   "id": "bd3902f5",
   "metadata": {
    "slideshow": {
     "slide_type": "fragment"
    }
   },
   "outputs": [
    {
     "data": {
      "text/latex": [
       "$\\displaystyle 167.625234375 pol$"
      ],
      "text/plain": [
       "167.625234375*pol"
      ]
     },
     "execution_count": 9,
     "metadata": {},
     "output_type": "execute_result"
    }
   ],
   "source": [
    "L = 2*a + 1.57*(dp2 + dp1) + (dp2 - dp1)**2/(4*a)\n",
    "L"
   ]
  },
  {
   "cell_type": "code",
   "execution_count": 10,
   "id": "14123a1c",
   "metadata": {
    "slideshow": {
     "slide_type": "fragment"
    }
   },
   "outputs": [
    {
     "data": {
      "text/latex": [
       "$\\displaystyle 2.32$"
      ],
      "text/plain": [
       "2.32"
      ]
     },
     "execution_count": 10,
     "metadata": {},
     "output_type": "execute_result"
    }
   ],
   "source": [
    "theta = pi - 2*asin((dp2-dp1)/(2*a))\n",
    "theta.evalf(3)"
   ]
  },
  {
   "cell_type": "markdown",
   "id": "ccd255d0",
   "metadata": {
    "slideshow": {
     "slide_type": "fragment"
    }
   },
   "source": [
    "## Passo 06:  \n",
    "Obter o comprimento padronizado:"
   ]
  },
  {
   "cell_type": "markdown",
   "id": "e0eb4851",
   "metadata": {
    "slideshow": {
     "slide_type": "fragment"
    }
   },
   "source": [
    "![image.png](figuras/fig4-51.png)"
   ]
  },
  {
   "cell_type": "markdown",
   "id": "623121cf",
   "metadata": {
    "slideshow": {
     "slide_type": "fragment"
    }
   },
   "source": [
    "![image.png](figuras/fig4-52.png)"
   ]
  },
  {
   "cell_type": "code",
   "execution_count": 11,
   "id": "c953c906",
   "metadata": {
    "slideshow": {
     "slide_type": "fragment"
    }
   },
   "outputs": [
    {
     "data": {
      "text/latex": [
       "$\\displaystyle 39.36 pol$"
      ],
      "text/plain": [
       "39.36*pol"
      ]
     },
     "execution_count": 11,
     "metadata": {},
     "output_type": "execute_result"
    }
   ],
   "source": [
    "a_corr = 40*pol - (168.9*pol - L)/2 # distância entre centros corrigida\n",
    "a_corr.evalf(4)"
   ]
  },
  {
   "cell_type": "markdown",
   "id": "628d2976",
   "metadata": {
    "slideshow": {
     "slide_type": "fragment"
    }
   },
   "source": [
    "## Passo 07\n",
    "Fatores de correção de forma:"
   ]
  },
  {
   "cell_type": "code",
   "execution_count": 12,
   "id": "5a87a8b9",
   "metadata": {
    "slideshow": {
     "slide_type": "fragment"
    }
   },
   "outputs": [
    {
     "data": {
      "text/latex": [
       "$\\displaystyle 133.17$"
      ],
      "text/plain": [
       "133.17"
      ]
     },
     "execution_count": 12,
     "metadata": {},
     "output_type": "execute_result"
    }
   ],
   "source": [
    "(theta*180/pi).evalf(5)"
   ]
  },
  {
   "cell_type": "markdown",
   "id": "f3aa4820",
   "metadata": {
    "slideshow": {
     "slide_type": "fragment"
    }
   },
   "source": [
    "![image.png](figuras/fig4-53.png)"
   ]
  },
  {
   "cell_type": "code",
   "execution_count": 13,
   "id": "1ce13eaf",
   "metadata": {
    "slideshow": {
     "slide_type": "fragment"
    }
   },
   "outputs": [],
   "source": [
    "F_AC = 0.87"
   ]
  },
  {
   "cell_type": "markdown",
   "id": "171e3a70",
   "metadata": {
    "slideshow": {
     "slide_type": "fragment"
    }
   },
   "source": [
    "![image.png](figuras/fig4-54.png)"
   ]
  },
  {
   "cell_type": "markdown",
   "id": "aa2e96da",
   "metadata": {
    "slideshow": {
     "slide_type": "fragment"
    }
   },
   "source": [
    "Interpolação linear:\n",
    "\n",
    "$$\\dfrac{166 - 158}{173 - 158} = \\dfrac{ F_{LP} - 1,02}{1,04 - 1,02} $$"
   ]
  },
  {
   "cell_type": "code",
   "execution_count": 14,
   "id": "79a838f8",
   "metadata": {
    "slideshow": {
     "slide_type": "fragment"
    }
   },
   "outputs": [
    {
     "data": {
      "text/plain": [
       "1.0306666666666666"
      ]
     },
     "execution_count": 14,
     "metadata": {},
     "output_type": "execute_result"
    }
   ],
   "source": [
    "F_LP = (166-158)/(173-158)*(1.04-1.02) + 1.02\n",
    "F_LP"
   ]
  },
  {
   "cell_type": "markdown",
   "id": "6f08e921",
   "metadata": {
    "slideshow": {
     "slide_type": "fragment"
    }
   },
   "source": [
    "## Passo 08:\n",
    "Obter o HP classificado"
   ]
  },
  {
   "cell_type": "markdown",
   "id": "0fe8a562",
   "metadata": {
    "slideshow": {
     "slide_type": "fragment"
    }
   },
   "source": [
    "![image.png](figuras/fig4-55.png)"
   ]
  },
  {
   "cell_type": "markdown",
   "id": "21fa0a17",
   "metadata": {
    "slideshow": {
     "slide_type": "fragment"
    }
   },
   "source": [
    "Interpolção linear:\n",
    "$$ \\dfrac{14.44 - 13.67} {1200 - 1100}= \\dfrac{ HP_{bas} - 13.67}{1170 - 1100}$$"
   ]
  },
  {
   "cell_type": "code",
   "execution_count": 15,
   "id": "04fb6246",
   "metadata": {
    "slideshow": {
     "slide_type": "skip"
    }
   },
   "outputs": [
    {
     "data": {
      "text/plain": [
       "14.209"
      ]
     },
     "execution_count": 15,
     "metadata": {},
     "output_type": "execute_result"
    }
   ],
   "source": [
    "HP_bas = (14.44 - 13.67)/(1200 - 1100)*(1170 - 1100) + 13.67\n",
    "HP_bas"
   ]
  },
  {
   "cell_type": "code",
   "execution_count": 16,
   "id": "2792763f",
   "metadata": {
    "slideshow": {
     "slide_type": "fragment"
    }
   },
   "outputs": [
    {
     "data": {
      "text/latex": [
       "$\\displaystyle 4.2$"
      ],
      "text/plain": [
       "4.2"
      ]
     },
     "execution_count": 16,
     "metadata": {},
     "output_type": "execute_result"
    }
   ],
   "source": [
    "i.evalf(2)"
   ]
  },
  {
   "cell_type": "markdown",
   "id": "9cf87507",
   "metadata": {
    "slideshow": {
     "slide_type": "fragment"
    }
   },
   "source": [
    "![image.png](figuras/fig4-56.png)"
   ]
  },
  {
   "cell_type": "markdown",
   "id": "97c7798f",
   "metadata": {
    "slideshow": {
     "slide_type": "fragment"
    }
   },
   "source": [
    "Interpolação linear:\n",
    "\n",
    "$$\\dfrac{2.10 - 1 .92}{1200 - 1100} = \\dfrac{HP_{adic} - 1.92}{1170 - 1100} $$"
   ]
  },
  {
   "cell_type": "code",
   "execution_count": 17,
   "id": "0025e9ad",
   "metadata": {
    "slideshow": {
     "slide_type": "fragment"
    }
   },
   "outputs": [
    {
     "data": {
      "text/plain": [
       "2.0460000000000003"
      ]
     },
     "execution_count": 17,
     "metadata": {},
     "output_type": "execute_result"
    }
   ],
   "source": [
    "HP_adic = (2.10 - 1.92)/(1200 - 1100)*(1170 - 1100)  + 1.92\n",
    "HP_adic"
   ]
  },
  {
   "cell_type": "code",
   "execution_count": 18,
   "id": "b91e6594",
   "metadata": {
    "slideshow": {
     "slide_type": "fragment"
    }
   },
   "outputs": [
    {
     "data": {
      "text/latex": [
       "$\\displaystyle 16.255 HP$"
      ],
      "text/plain": [
       "16.255*HP"
      ]
     },
     "execution_count": 18,
     "metadata": {},
     "output_type": "execute_result"
    }
   ],
   "source": [
    "HP_class = (HP_bas + HP_adic)*HP\n",
    "HP_class"
   ]
  },
  {
   "cell_type": "markdown",
   "id": "22e7b588",
   "metadata": {
    "slideshow": {
     "slide_type": "fragment"
    }
   },
   "source": [
    "## Passo 09\n",
    "\n",
    "Número de correias"
   ]
  },
  {
   "cell_type": "code",
   "execution_count": 19,
   "id": "3c2f39fa",
   "metadata": {
    "slideshow": {
     "slide_type": "fragment"
    }
   },
   "outputs": [
    {
     "data": {
      "text/latex": [
       "$\\displaystyle 14.5755334 HP$"
      ],
      "text/plain": [
       "14.5755334*HP"
      ]
     },
     "execution_count": 19,
     "metadata": {},
     "output_type": "execute_result"
    }
   ],
   "source": [
    "HP_efet = HP_class*F_AC*F_LP\n",
    "HP_efet"
   ]
  },
  {
   "cell_type": "code",
   "execution_count": 20,
   "id": "833701b6",
   "metadata": {
    "slideshow": {
     "slide_type": "fragment"
    }
   },
   "outputs": [
    {
     "data": {
      "text/latex": [
       "$\\displaystyle 3.08736557112894$"
      ],
      "text/plain": [
       "3.08736557112894"
      ]
     },
     "execution_count": 20,
     "metadata": {},
     "output_type": "execute_result"
    }
   ],
   "source": [
    "No_de_correias = Pp/HP_efet\n",
    "No_de_correias"
   ]
  },
  {
   "cell_type": "code",
   "execution_count": 21,
   "id": "8ec5deb5",
   "metadata": {
    "slideshow": {
     "slide_type": "fragment"
    }
   },
   "outputs": [
    {
     "data": {
      "text/plain": [
       "4"
      ]
     },
     "execution_count": 21,
     "metadata": {},
     "output_type": "execute_result"
    }
   ],
   "source": [
    "No_de_correias = int(No_de_correias)+1\n",
    "No_de_correias"
   ]
  },
  {
   "cell_type": "markdown",
   "id": "3f66f651",
   "metadata": {
    "slideshow": {
     "slide_type": "subslide"
    }
   },
   "source": [
    "## Especificação:\n",
    "\n",
    "4 correias Perfil C - Continental 166\n",
    "\n",
    "Distância entre centros = 39.36\"\n",
    "\n",
    "Diâmetro primitivo da polia motora = 10\"\n",
    "\n",
    "Diâmetro primitivo da polia movida = 41,8\""
   ]
  }
 ],
 "metadata": {
  "kernelspec": {
   "display_name": "Python 3 (ipykernel)",
   "language": "python",
   "name": "python3"
  },
  "language_info": {
   "codemirror_mode": {
    "name": "ipython",
    "version": 3
   },
   "file_extension": ".py",
   "mimetype": "text/x-python",
   "name": "python",
   "nbconvert_exporter": "python",
   "pygments_lexer": "ipython3",
   "version": "3.10.6"
  }
 },
 "nbformat": 4,
 "nbformat_minor": 5
}
