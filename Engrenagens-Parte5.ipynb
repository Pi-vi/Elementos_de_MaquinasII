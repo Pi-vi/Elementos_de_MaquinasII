{
 "cells": [
  {
   "cell_type": "markdown",
   "id": "234428cb-5f30-45cf-b1e6-f9b31e678f81",
   "metadata": {
    "slideshow": {
     "slide_type": "slide"
    },
    "tags": []
   },
   "source": [
    "# Engrenagens Sem-fim"
   ]
  },
  {
   "cell_type": "markdown",
   "id": "6e9095f9-5526-484f-a443-242d2fae2061",
   "metadata": {
    "slideshow": {
     "slide_type": "subslide"
    },
    "tags": []
   },
   "source": [
    "---\n",
    "Este material serve apenas como um guia para estudos e para as aulas, não substituindo a leitura dos livros indicados e é de uso exclusivo dos alunos do CEFET/RJ campus Angra dos Reis.\n",
    "\n",
    "---"
   ]
  },
  {
   "cell_type": "markdown",
   "id": "32e321c2-06ca-4af4-9596-e76ed9ec93bc",
   "metadata": {
    "slideshow": {
     "slide_type": "subslide"
    },
    "tags": []
   },
   "source": [
    "![](figuras/fig11-5.png)"
   ]
  },
  {
   "cell_type": "markdown",
   "id": "d80dab3d-98ac-49ad-8611-e49d7cb9c646",
   "metadata": {
    "slideshow": {
     "slide_type": "subslide"
    },
    "tags": []
   },
   "source": [
    "* O engrenamento de sem-fim é mais complicado de projetar que o engrenamento convencional\n",
    "* Será apresentada uma visão simplificada do processo de se projetar esse tipo de transmissão. Para um projeto verdadeiro, recomenda-se que se consulte as normas técnicas. "
   ]
  },
  {
   "cell_type": "markdown",
   "id": "590818ae-a51e-43bc-bcfe-ab008bdbe760",
   "metadata": {
    "slideshow": {
     "slide_type": "subslide"
    },
    "tags": []
   },
   "source": [
    "Um engrenamento sem-fim consiste em um parafuso sem-fim e uma engrenagem sem-fim (também chamada de roda sem-fim, ou **coroa**). \n",
    "\n",
    "Eles conectam eixos não paralelos, sem interseção, normalmente em ângulos retos entre eles. \n",
    "\n",
    "![](figuras/fig11-1.png)"
   ]
  },
  {
   "cell_type": "markdown",
   "id": "39861fb4-922a-487d-9014-504415ddccbf",
   "metadata": {
    "slideshow": {
     "slide_type": "subslide"
    },
    "tags": []
   },
   "source": [
    "* O sem-fim é, na realidade, uma engrenagem helicoidal com um ângulo de hélice tão grande que um único dente se envolve continuamente ao redor de sua circunferência. \n",
    "* Um parafuso sem-fim é análogo a uma rosca de parafuso, e a engrenagem sem-fim é análoga a sua porca.\n",
    "\n",
    "A distância que um ponto na engrenagem acoplada move axialmente em uma revolução do sem-fim é chamada de **avanço L**, e o avanço dividido pelo comprimento da circunferência de referência $ \\pi d$ do sem-fim é a tangente do ângulo de avanço $ \\lambda$.\n",
    "\n",
    "$tg \\lambda = \\dfrac{L}{\\pi d}$"
   ]
  },
  {
   "cell_type": "markdown",
   "id": "15945086-3995-46f7-ba94-75c96bb8a0d9",
   "metadata": {
    "slideshow": {
     "slide_type": "subslide"
    },
    "tags": []
   },
   "source": [
    "![](figuras/fig11-6.png)"
   ]
  },
  {
   "cell_type": "markdown",
   "id": "140e9289-aab0-4316-8381-eab5a21ed463",
   "metadata": {
    "slideshow": {
     "slide_type": "subslide"
    },
    "tags": []
   },
   "source": [
    "O passo axial $p_x$ do sem-fim iguala o passo circular $p_c$ da coroa e está relacionado ao avanço $L$ pelo número de dentes do sem-fim (número de entradas do parafuso).\n",
    "\n",
    "$p_x = \\dfrac{L}{N_w} = p_c = \\dfrac{\\pi d_g}{N_g}$\n"
   ]
  },
  {
   "cell_type": "markdown",
   "id": "a6956d46-b047-43dc-a41e-56ef7aed3576",
   "metadata": {
    "slideshow": {
     "slide_type": "subslide"
    },
    "tags": []
   },
   "source": [
    "A relação de transmissão do par coroa e parafuso sem-fim é definida pela razão entre o número de dentes da coroa e o número de entradas do parafuso sem-fim. \n",
    "\n",
    "$m_G = \\dfrac{N_g}{N_w}$\n",
    "\n",
    "Engrenamentos sem-fim podem ser produzidos com razões variando de 1:1 até 360:1, embora a variação usual disponível de catálogos seja de 3:1 a 100:1. Razões acima de 30:1 geralmente têm um sem-fim de rosca única, e razões abaixo desse valor frequentemente usam sem-fins de roscas múltiplas. "
   ]
  },
  {
   "cell_type": "markdown",
   "id": "528850d4-705b-491d-809d-ede13bd69352",
   "metadata": {
    "slideshow": {
     "slide_type": "subslide"
    },
    "tags": []
   },
   "source": [
    "Outra vantagem dos engrenamentos sem-fim sobre outros tipos de engrenamentos é sua habilidade de autotravamento. \n",
    "\n",
    "Se um engrenamento sem-fim será ou não autotravante depende de vários fatores, incluindo a razão entre o $tg \\lambda$ e o coeficiente de atrito $\\mu$, o acabemento superficial, lubrificação e vibração. Geralmente, o autotravamento ocorrem em ângulos de avanço abaixo de 6° e pode ocorrem em ângulos de avanço tão elevados quanto 10°. "
   ]
  },
  {
   "cell_type": "markdown",
   "id": "da4c8f86-e802-4aaa-9710-990970e5f19c",
   "metadata": {
    "slideshow": {
     "slide_type": "subslide"
    },
    "tags": []
   },
   "source": [
    "Ângulos de pressão padronizados para engrenamento sem-fim são 14,5°, 20°, 22,5°, 25°, 27,5° ou 30°. \n",
    "\n",
    "Ângulos de pressão mais elevados dão maior resistência ao dente à custa de um atrito mais elevado, cargas mais elevadas nos mancais e tensões de flexão mais elevadas no sem-fim. "
   ]
  },
  {
   "cell_type": "markdown",
   "id": "03f82ecc-7055-4e2f-9ba7-5996eb93e231",
   "metadata": {
    "slideshow": {
     "slide_type": "slide"
    },
    "tags": []
   },
   "source": [
    "## Materiais para engrenagens sem-fim"
   ]
  },
  {
   "cell_type": "markdown",
   "id": "995aed20-fc5f-4934-a8b5-77109db8850a",
   "metadata": {
    "slideshow": {
     "slide_type": "subslide"
    },
    "tags": []
   },
   "source": [
    "Somento poucos materiais são apropriados para o parafuso sem-fim:\n",
    "\n",
    "* Aços de baixo carbono, como AISI 1020, 1117, 8620 ou 4320, são usados e endurecidos a HRC 58-62. \n",
    "* Aços de médio carbono como AISI 4140 ou 4150 também são usados, endurecidos por indução ou chama a HRC 58-62. \n",
    "* Eles precisam ser retificados ou polidos para um acabamento de 0,4 $\\mu m$ $R_a$ ou melhor. \n",
    "\n",
    "A coroa necessita ser feita de um material brando e complacente o suficiente para engrenar e moldar-se ao sem-fim duro sob condições de escorregamento elevado. O bronze fundido em molde de areia, molde metálico, por centrifugação ou forjado geralmente é usado para a coroa do sem-fim. Ferros fundidos, aços brandos ou plásticos são às vezes usados para aplicações de baixa velocidade carregadas levemente."
   ]
  },
  {
   "cell_type": "markdown",
   "id": "7db78fda-a6d9-4c9b-a117-c7a9215dc2b7",
   "metadata": {
    "slideshow": {
     "slide_type": "slide"
    },
    "tags": []
   },
   "source": [
    "## Forças em engrenamentos sem-fim"
   ]
  },
  {
   "cell_type": "markdown",
   "id": "56ad975a-64b8-4aa2-9eca-08e8e8a52f8e",
   "metadata": {
    "slideshow": {
     "slide_type": "subslide"
    },
    "tags": []
   },
   "source": [
    "Com um ângulo típico de 90° entre os eixos do parafuso sem-fim e da coroa, a magnitude da componente tangencial na coroa $W_{tg}$ se iguala a componente axial no parafuso sem-fim $W_{aw}$ e vice-versa. \n",
    "\n",
    "$W_{tg} = W_{aw} = \\dfrac{2T_g}{d_g}$"
   ]
  },
  {
   "cell_type": "markdown",
   "id": "a8706a0e-c4b4-45bb-baf5-fccf222dcaa0",
   "metadata": {
    "slideshow": {
     "slide_type": "subslide"
    },
    "tags": []
   },
   "source": [
    "A força axial $W_{ag}$ na coroa e a força tangencial no parafuso sem-fim $W_{tw}$ são:\n",
    "\n",
    "$W_{ag} = W_{aw} = \\dfrac{2T_w}{d}$"
   ]
  },
  {
   "cell_type": "markdown",
   "id": "36c9d331-4139-4550-bf7d-e6f16bbb7bae",
   "metadata": {
    "slideshow": {
     "slide_type": "subslide"
    },
    "tags": []
   },
   "source": [
    "A força radial $W_r$ separando os dois elementos é:\n",
    "\n",
    "$W_r = \\dfrac{W_{tg}tg \\phi}{cos \\lambda}$"
   ]
  },
  {
   "cell_type": "markdown",
   "id": "14d963d0-e8c8-4bb1-b183-9868a6765db6",
   "metadata": {
    "slideshow": {
     "slide_type": "subslide"
    },
    "tags": []
   },
   "source": [
    "## Geometria do engrenamento de sem-fins"
   ]
  },
  {
   "cell_type": "markdown",
   "id": "8faeaba1-718c-4644-9fda-18b92a3e639e",
   "metadata": {
    "slideshow": {
     "slide_type": "subslide"
    },
    "tags": []
   },
   "source": [
    "O número de dentes da coroa $N_g$ é obtido pela definição da razão de transmissão e pelo número de entradas do parafuso sem-fim.\n",
    "\n",
    "$N_g = m_G N_w$"
   ]
  },
  {
   "cell_type": "markdown",
   "id": "25d46442-65f2-49a7-836f-dc1cf1a800c5",
   "metadata": {
    "slideshow": {
     "slide_type": "subslide"
    },
    "tags": []
   },
   "source": [
    "Contudo, o diâmetro de referência do sem-fim não está ligado a esses números de dentes como acontece com outros engrenamentos. O sem-fim pode, teoricamente, ter qualquer diâmetro desde que a seção transversal de seu dente (passo axial) iguale o passo circular da coroa. \n",
    "\n",
    "Assim, o diâmetro de referência $d$ do sem-fim pode ser selecionado independentemente do diâmetro da coroa $d_g$ e, para qualquer diâmetro dado $d_g$, mudanças em $d$ apenas variarão a distância entre centros $C$ entre o sem-fim e a coroa, mas não afetarão a razão de engrenamento. \n",
    "\n",
    "A AGMA recomenda valores mínimos e máximos para o diâmetro de referência do sem-fim como: \n",
    "\n",
    "$\\dfrac{C^{0,875}}{3} \\leq d \\leq \\dfrac{C^{0,875}}{1,6}$\n",
    "\n",
    "e Duddley recomenda usar\n",
    "\n",
    "$d = \\dfrac{C^{0,875}}{2,2}$ \n",
    "\n",
    "que é aproximadamente um valor médio entre os limites da AGMA. "
   ]
  },
  {
   "cell_type": "markdown",
   "id": "864e0477-6617-43b8-ad39-58da8c08ae58",
   "metadata": {
    "slideshow": {
     "slide_type": "subslide"
    },
    "tags": []
   },
   "source": [
    "O diâmetro do passo da coroa $d_g$ pode ser relacionado com aquele do sem-fim através da distância entre centros $C$. \n",
    "\n",
    "$d_g = 2C - d$\n",
    "\n",
    "O adendo $a$ e o dedendo $b$ dos dentes são encontrados a partir de:\n",
    "\n",
    "$a = 0,3183 p_x$\n",
    "\n",
    "$b = 0,3683 p_x$\n",
    "\n",
    "A largura da face da coroa é limitada pelo diâmetro do sem-fim. A AGMA recomenda um valor máximo para a largura da face $F$ como \n",
    "\n",
    "$F_{max} \\leq 0,67d$"
   ]
  },
  {
   "cell_type": "markdown",
   "id": "d7274080-685d-4bf8-b8dd-f892265acd8b",
   "metadata": {
    "slideshow": {
     "slide_type": "subslide"
    },
    "tags": []
   },
   "source": [
    "![](figuras/fig11-2.png)"
   ]
  },
  {
   "cell_type": "markdown",
   "id": "344b1016-39fb-42c7-a9c2-ddc2f8f8c7b4",
   "metadata": {
    "slideshow": {
     "slide_type": "slide"
    },
    "tags": []
   },
   "source": [
    "## Métodos de classificação"
   ]
  },
  {
   "cell_type": "markdown",
   "id": "87d4f332-86af-4f21-ac87-0fa86235431d",
   "metadata": {
    "slideshow": {
     "slide_type": "subslide"
    },
    "tags": []
   },
   "source": [
    "Diferentemente dos engrenamentos entre engrenagens cônicas e helicoidais, nas quais os cálculos são feitos separadamente para as tensões de flexão e de superfície nos dentes da engrenagem e comparados com as propriedades do material, os engrenamentos sem-fim são classificados pela sua habilidade em lidar com um nível de potência de entrada.\n",
    "\n",
    "A **classificação de potência da AGMA** está baseada na resistência a crateração e desgaste. \n",
    "\n",
    "Por causa das altas velocidades de deslizamento em engrenamentos sem-fim, a temperatura do filme de óleo separando os dentes de engrenagem se torna um fator importante, e isso é levado em conta pela norma da AGMA.\n",
    "\n",
    "Essas padronizações estão baseadas em um ciclo de vida de 10 horas contínuas por dia de serviço sob carga uniforme, definido como um fator de serviço de 1,0. \n",
    "\n",
    "Pressupõe-se que os materiais para sem-fim e coroa sejam como definido anteriormente. "
   ]
  },
  {
   "cell_type": "markdown",
   "id": "9f08794d-2a6c-4989-8e24-b46883a9d40e",
   "metadata": {
    "slideshow": {
     "slide_type": "subslide"
    },
    "tags": []
   },
   "source": [
    "A classificação de um engrenamento sem-fim pode ser expresso como a potência de entrada permitida $\\Phi$, potência de saída $\\Phi_0$, ou o torque admissível $T$ a uma dada velocidade no eixo de entrada ou de saída, estes sendo relacionados pela relação geral de potência-torque-velocidade. \n",
    "\n",
    "$\\Phi = \\Phi_0 + \\Phi_l$ \n",
    "\n",
    "onde $\\Phi_l$ é a potência perdida por atrito no engrenamento. \n",
    "\n",
    "A potência de saída $\\Phi_0$ é definida como:\n",
    "\n",
    "$\\Phi_0 = \\dfrac{n W_{tg} d_{g}}{12600m_G}  \\qquad [hp]$\n",
    "\n",
    "$\\Phi_0 = \\dfrac{n W_{tg} d_g}{1,91.10^{7}.m_G} \\qquad [kW]$"
   ]
  },
  {
   "cell_type": "markdown",
   "id": "9bf74667-e753-4ac9-95f8-b05c0c29a107",
   "metadata": {
    "slideshow": {
     "slide_type": "subslide"
    },
    "tags": []
   },
   "source": [
    "e a potência perdida $\\Phi_l$ é definida como:\n",
    "\n",
    "$\\Phi_l = \\dfrac{V_t W_t}{33000}  \\qquad [hp]$\n",
    "\n",
    "$\\Phi_l = \\dfrac{V_t W_f}{1000} \\qquad [kW]$\n",
    "\n",
    "Estas são equações com unidades misturadas. A velocidade rotacional $n$ está em RPM. A velocidade de deslizamento tangencial $V_t$ está em fpm (m/s) e é calculada no diâmetro $d$ do sem-fim em polegadas (mm). As cargas $W_{t}$ e $W_f$ estão em lb (N). A potência está em hp (kW). "
   ]
  },
  {
   "cell_type": "markdown",
   "id": "b9954381-99a2-42ca-8c3b-77e766ea4d56",
   "metadata": {
    "slideshow": {
     "slide_type": "subslide"
    },
    "tags": []
   },
   "source": [
    "A carga tangencial $W_{tg}$ na coroa em lb (N) é encontrada a partir de:\n",
    "\n",
    "$W_{tg} = C_s C_m C_v d_g^{0,8} F \\qquad [US]$\n",
    "\n",
    "$W_{tg} = \\dfrac{C_s C_m C_v d_g^{0,8}}{75,948} F \\qquad [SI]$"
   ]
  },
  {
   "cell_type": "markdown",
   "id": "1da6f772-1571-4ff3-9edb-dfab1d100bf1",
   "metadata": {
    "slideshow": {
     "slide_type": "subslide"
    },
    "tags": []
   },
   "source": [
    "Onde $C_s$ é um fator dos materiais definido pela AGMA :\n",
    "\n",
    "![](figuras/fig11-7.png)"
   ]
  },
  {
   "cell_type": "markdown",
   "id": "280c6fe8-410a-4afb-92d6-cb07b811669c",
   "metadata": {
    "slideshow": {
     "slide_type": "subslide"
    },
    "tags": []
   },
   "source": [
    "E $C_m$ é um fator de correção de razão de velocidades, definido pela AGMA como:\n",
    "\n",
    "\n",
    "| $m_G$ | $C_m$ |\n",
    "| --- | --- |\n",
    "|$3 < m_G \\leq 20$ | $0,0200 \\sqrt{-m_G^2 + 40 m_G - 76} + 0,46$ |\n",
    "|$20 < m_G \\leq 76$ | $0,0107 \\sqrt{-m_G^2 + 56 m_G + 5145}$ |\n",
    "| $76 < m_G$ | $1,1483 - 0,00658 m_G$ |"
   ]
  },
  {
   "cell_type": "markdown",
   "id": "cb6fe4b9-74d9-4058-88ce-37a876c7e75d",
   "metadata": {
    "slideshow": {
     "slide_type": "subslide"
    },
    "tags": []
   },
   "source": [
    "$C_v$ é um fator de velocidade definido pela AGMA como:\n",
    "\n",
    "| $V_t$ | $C_v$ |\n",
    "| --- | --- |\n",
    "|$0< V_t \\leq 700fpm$ | $0,659 e^{-0,0011V_t}$ |\n",
    "|$700 < V_t \\leq 3000 fpm$ | $13,31 V_t^{-0,571}$ |\n",
    "| $3000 < V_t fpm$ | $65,52V_t^{-0,774}$ |\n",
    "\n",
    "A velocidade tangencial no diâmetro de referência do sem-fim é:\n",
    "\n",
    "$V_t = \\dfrac{\\pi n d}{12 cos \\lambda} \\qquad [fpm]$"
   ]
  },
  {
   "cell_type": "markdown",
   "id": "7f76dd73-61d3-4837-acbd-6c85ab1d629f",
   "metadata": {
    "slideshow": {
     "slide_type": "subslide"
    },
    "tags": []
   },
   "source": [
    "A força de atrito $W_f$ na engrenagem é: \n",
    "\n",
    "$W_f = \\dfrac{\\mu W_{tg}}{cos \\lambda cos \\phi_n}$"
   ]
  },
  {
   "cell_type": "markdown",
   "id": "0106ba49-0fde-4507-a9e0-c90d1bae841b",
   "metadata": {
    "slideshow": {
     "slide_type": "subslide"
    },
    "tags": []
   },
   "source": [
    "O coeficiente de atrito em um engrenamento sem-fim não é constante: é uma função da velocidade. A AGMA sugere as seguintes relações: \n",
    "\n",
    "| $V_t$ | $\\mu$ |\n",
    "| --- | --- |\n",
    "| $V_t > 0 fpm$ | $\\mu = 0,15$ | \n",
    "| $0 < V_t \\leq 10 fpm $ | $ \\mu = 0,124 e^{-0,07V_t^{0,645}}$|\n",
    "| $ 10 < Vt fpm$ | $ \\mu = 0,103 e^{-0,110V_t^{0,450}} + 0,012$ |"
   ]
  },
  {
   "cell_type": "markdown",
   "id": "a03d80c4-888e-4e9f-839c-27951fb37870",
   "metadata": {
    "slideshow": {
     "slide_type": "subslide"
    },
    "tags": []
   },
   "source": [
    "A eficiência de um engrenamento sem-fim isoladamente (excluindo o mancal, reservatório de óleo, etc.) é:\n",
    "\n",
    "$\\eta = \\dfrac{\\Phi_0}{\\Phi}$"
   ]
  },
  {
   "cell_type": "markdown",
   "id": "0a307e9f-9ad5-4527-812a-bc91698e49db",
   "metadata": {
    "slideshow": {
     "slide_type": "subslide"
    },
    "tags": []
   },
   "source": [
    "O Torque de saída de classificação pode ser encontrado por: \n",
    "\n",
    "$T_g = W_{tg} \\dfrac{d_g}{2}$"
   ]
  }
 ],
 "metadata": {
  "kernelspec": {
   "display_name": "Python 3 (ipykernel)",
   "language": "python",
   "name": "python3"
  },
  "language_info": {
   "codemirror_mode": {
    "name": "ipython",
    "version": 3
   },
   "file_extension": ".py",
   "mimetype": "text/x-python",
   "name": "python",
   "nbconvert_exporter": "python",
   "pygments_lexer": "ipython3",
   "version": "3.10.8"
  },
  "toc-autonumbering": false,
  "toc-showcode": false,
  "toc-showmarkdowntxt": false
 },
 "nbformat": 4,
 "nbformat_minor": 5
}
