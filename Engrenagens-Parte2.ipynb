{
 "cells": [
  {
   "cell_type": "markdown",
   "id": "7521943f",
   "metadata": {
    "slideshow": {
     "slide_type": "slide"
    }
   },
   "source": [
    "# Engrenagens Cilíndricas de Dentes Retos\n",
    "Este material serve apenas como um guia para estudos e para as aulas, não substituindo a leitura dos livros indicados e é de uso exclusivo dos alunos do CEFET/RJ campus Angra dos Reis."
   ]
  },
  {
   "cell_type": "markdown",
   "id": "c51191c7",
   "metadata": {
    "slideshow": {
     "slide_type": "subslide"
    }
   },
   "source": [
    "## Carregamento em Engrenagens Cilíndricas Retas\n",
    "\n",
    "![](figuras/fig8-1.png)\n",
    "\n",
    "- No ponto primitivo (ponto de referência), a única força que pode ser transmitida de um dente a outro, negligenciando o atrito, é a força $W$ que atua ao longo da linha de ação no ângulo de pressão.\n",
    "\n",
    "$W_t = \\dfrac{T_p}{r_p} = \\dfrac{2 T_p}{d_p} = \\dfrac{2 p_d T_p}{N_p} = \\dfrac{2 T_p} {m N_p}$\n",
    "\n",
    "$W_r = W_t tg \\phi$\n",
    "\n",
    "$W = \\dfrac{W_t}{\\cos \\phi}$"
   ]
  },
  {
   "cell_type": "markdown",
   "id": "bc27e4ac",
   "metadata": {
    "slideshow": {
     "slide_type": "subslide"
    }
   },
   "source": [
    "**Exemplo parte 1:**\n",
    "\n",
    "Determine os torques e as cargas transmitidas nos dentes de engrenagem em um trem de 3 engrenagens contendo um pinhão, uma engrenagem vazia e uma coroa. Encontre os diâmetros das engrenagens e as componentes de carga transmitida em cada engrenagem. \n",
    "\n",
    "Dados: O eixo do pinhão passa 20hP a 2500 RPM. A razão do trem é 3,5:1. O pinhão tem 14 dentes, um ângulo de pressão de 25° e m = 4. A engrenagem vazia tem 17 dentes.\n"
   ]
  },
  {
   "cell_type": "markdown",
   "id": "c6719a73",
   "metadata": {
    "slideshow": {
     "slide_type": "subslide"
    }
   },
   "source": [
    "# Transmissão em Engrenagens Cilíndricas Retas\n",
    "\n",
    "\n",
    "- Há dois modos de falha que afetam os dentes de engrenagens:\n",
    "    - fratura por fadiga devido às tensões variadas de flexão na raiz do dente.\n",
    "    - fadiga superficial (crateração) das superfícies do dente"
   ]
  },
  {
   "cell_type": "markdown",
   "id": "86cfb7be",
   "metadata": {
    "slideshow": {
     "slide_type": "subslide"
    }
   },
   "source": [
    "## Tensões de Flexão\n",
    "\n",
    "Equação de Lewis → A primeira equação útil para as tensões de flexão em um dente de engrenagem foi desenvolvida por W. Lewis em 1892.\n",
    "\n",
    "\n",
    "- Modelou o dente como uma viga em balanço com sua seção crítica na raiz\n",
    "\n",
    "![](figuras/fig8-2.png)"
   ]
  },
  {
   "cell_type": "markdown",
   "id": "52c3a36e",
   "metadata": {
    "slideshow": {
     "slide_type": "subslide"
    }
   },
   "source": [
    "A equação de Lewis não é mais usada em sua forma original, mas ela serve como base para uma versão mais moderna, como definida pela AGMA.\n",
    "\n",
    "$\\sigma_b = \\dfrac{W_t p_d}{F J} \\dfrac{K_a K_m}{K_v} K_s K_B K_t$        [US]\n",
    "\n",
    "\n",
    "$\\sigma_b = \\dfrac{W_t}{F m J} \\dfrac{K_a K_m}{K_v} K_s K_B K_t$        [SI]"
   ]
  },
  {
   "cell_type": "markdown",
   "id": "fc6097ee",
   "metadata": {
    "slideshow": {
     "slide_type": "subslide"
    }
   },
   "source": [
    "**Fator Geométrico de Resistência de Flexão J:**\n",
    "\n",
    "O fator geométrico J pode ser calculado por um algoritmo definido na Norma 908-B89 da AGMA\n",
    "\n",
    "→ Tabelas\n",
    "\n",
    "![](figuras/fig8-3.png)\n",
    "![](figuras/fig8-4.png)\n",
    "![](figuras/fig8-5.png)\n",
    "![](figuras/fig8-6.png)\n",
    "![](figuras/fig8-7.png)\n",
    "![](figuras/fig8-8.png)\n",
    "![](figuras/fig8-9.png)\n",
    "![](figuras/fig8-10.png)"
   ]
  },
  {
   "cell_type": "markdown",
   "id": "616bf94c",
   "metadata": {
    "slideshow": {
     "slide_type": "subslide"
    }
   },
   "source": [
    "**Fatores Dinâmicos Kv**\n",
    "\n",
    "\n",
    "O fator dinâmico $K_v$ tenta levar em conta as cargas de vibração geradas internamente pelos impactos de dentes contra dentes induzidos pelo engrenamento não conjugado dos dentes de engrenagem.\n",
    "\n",
    "As engrenagens precisas se aproximarão mais do ideal de transmissão de torque suave e de razão de velocidade constante.\n",
    "\n",
    "Para $6 \\leq Q_v \\leq 11$:\n",
    "\n",
    "$K_v = \\left( \\dfrac{A}{A + \\sqrt{V_t}}\\right)^B$         [US]\n",
    "\n",
    "$K_v = \\left( \\dfrac{A}{A + \\sqrt{200V_t}}\\right)^B$      [SI]\n",
    "\n",
    "$A = 50 + 56(1-B)$\n",
    "$B = \\dfrac{(12 - Q_v)^{2/3}}{4}$\n",
    "\n",
    "$V_t$ → velocidade da linha de referência\n",
    "\n",
    "$Q_v$ → índice de qualidade da engrenagem de pior qualidade no engrenamento.\n",
    "\n",
    "![](figuras/fig8-11.png)\n",
    "\n",
    "Para engrenagens com $Q_v \\leq 5$, uma equação diferente é usada:\n",
    "\n",
    "$K_v = \\dfrac{50}{50 + \\sqrt{V_t}}$      [US]\n",
    "\n",
    "$K_v = \\dfrac{50}{50 + \\sqrt{200 V_t}}$    [SI]\n",
    "\n",
    "\n",
    "- Essa relação é válida somente para $V_t \\leq 13m/s$. Acima desta velocidade, engrenagens de $Q_v$ mais alto devem ser usadas. "
   ]
  },
  {
   "cell_type": "markdown",
   "id": "81f2da75",
   "metadata": {
    "slideshow": {
     "slide_type": "subslide"
    }
   },
   "source": [
    "**Fator de Distribuição de Carga Km**\n",
    "\n",
    "Qualquer desalinhamento axial ou desvio na forma do dente fará com que a carga transmitida $W_t$ seja distribuída desigualmente sobre a largura da face dos dentes de engrenagem.\n",
    "\n",
    "\n",
    "| largura da face [in] | largura da face [mm] | Km  |\n",
    "| -------------------- | -------------------- | --- |\n",
    "| < 2                  | < 50                 | 1,6 |\n",
    "| 6                    | 150                  | 1,7 |\n",
    "| 9                    | 250                  | 1,8 |\n",
    "| >= 20                | >= 500               | 2,0 |\n",
    "\n",
    "\n",
    "Manter largura da face dentro dos limites:\n",
    "\n",
    "$8/p_d < F < 16/p_d$       valor nominal $12/p_d$  \n",
    "$8.m < F < 16.m$          valor nominal $12.m$  \n"
   ]
  },
  {
   "cell_type": "markdown",
   "id": "8c6bdf8d",
   "metadata": {
    "slideshow": {
     "slide_type": "subslide"
    }
   },
   "source": [
    "**Fator de Aplicação Ka**\n",
    "\n",
    "Se a máquina motora ou movida tiverem torques ou forças variando com o tempo, então estas aumentarão o carregamento sentido pelos dentes de engrenagem acima dos valores médios\n",
    "\n",
    "\n",
    "| Máquina Motora                            | Máquina movida  - Uniforme | Máquina movida - Moderado | Máquina movida - Choque severo |\n",
    "| ----------------------------------------- | -------------------------- | ------------------------- | ------------------------------ |\n",
    "| Uniforme (motor elétrico, turbina)        | 1,00                       | 1,25                      | 1,75 ou mais                   |\n",
    "| choque leve (motor multi cilindros)       | 1,25                       | 1,50                      | 2,00 ou mais                   |\n",
    "| choque médio (motor de um único cilindro) | 1,50                       | 1,75                      | 2,25 ou mais                   |\n"
   ]
  },
  {
   "cell_type": "markdown",
   "id": "c68420bb",
   "metadata": {
    "slideshow": {
     "slide_type": "subslide"
    }
   },
   "source": [
    "**Fator de Tamanho Ks**\n",
    "\n",
    "A AGMA não estabeleceu ainda normas para os fatores de tamanho e recomenda que Ks seja igualado a 1, a menos que o projetista deseje aumentar seu valor para levar em conta situações particulares, como dentes muito grandes. Um valor de 1,25 a 1,5 seria uma hipótese conservadora em tais casos."
   ]
  },
  {
   "cell_type": "markdown",
   "id": "74f682de",
   "metadata": {
    "slideshow": {
     "slide_type": "subslide"
    }
   },
   "source": [
    "**Fator de Espessura de Borda** $K_B$\n",
    "\n",
    "Este fator foi introduzido recentemente pela AGMA para levar em conta situações em que uma engrenagem de diâmetro maior, feita com um anel em vez de um disco sólido, tem uma profundidade de borda fina em comparação com a profundidade do disco. \n",
    "\n",
    "A AGMA define uma razão de recuo $m_B$ como:\n",
    "\n",
    "$m_B = \\dfrac{t_r}{h_t}$\n",
    "\n",
    "onde $t_R$ é a espessura da borda medida do diâmetro da raiz do dente até o diâmetro interno da borda. $h_t$ é a profundidade total do dente (a soma do adendo e dedendo)\n",
    "\n",
    "![](figuras/fig8-12.png)\n",
    "\n",
    "$K_B = - 2 m_B + 3,4 \\qquad 0,5 \\leq m_B \\leq 1,2$  \n",
    "$K_B = 1,0 \\qquad mb > 1,2$  \n",
    "\n",
    "Engrenagens de disco sólido sempre terão $K_B = 1$."
   ]
  },
  {
   "cell_type": "markdown",
   "id": "d7d830cb",
   "metadata": {
    "slideshow": {
     "slide_type": "subslide"
    }
   },
   "source": [
    "**Fator de Ciclo de Carga** $K_I$\n",
    "\n",
    "Uma engrenagem livre (intermediária) está sujeita a mais ciclos de tensão por unidade de tempo e a cargas alternantes de maior magnitude que as semelhantes engrenadas.\n",
    "\n",
    "Para levar em conta essa situação, o fator $K_I$ é definido igual a 1,42 para uma engrenagem intermediária e a 1,0 para uma engrenagem não solta."
   ]
  },
  {
   "cell_type": "markdown",
   "id": "6b3f4063",
   "metadata": {
    "slideshow": {
     "slide_type": "subslide"
    }
   },
   "source": [
    "**Exemplo parte 2:**\n",
    "\n",
    "Determine uma largura de face conveniente e as tensões de flexão nos dentes de engrenagem do trem de 3 engrenagens do exemplo anterior. \n",
    "\n",
    "Dados: A carga transmitida nos dentes é 2034,6N. O pinhão tem 14 dentes, um ângulo de pressão de 25° e m= 4. A engrenagem intermediária tem 17 dentes e a coroa tem 49 dentes. A velocidade do pinhão é 2500 rpm.\n",
    "\n",
    "→ Os dentes têm perfis padronizados AGMA de profundidade completa. A carga e a fonte são ambas uniformes por natureza. Um índice de qualidade de engrenagem de 6 será usado.\n"
   ]
  },
  {
   "cell_type": "markdown",
   "id": "3c8cf351",
   "metadata": {
    "slideshow": {
     "slide_type": "subslide"
    }
   },
   "source": [
    "## Tensões Superficiais\n",
    "\n",
    "As tensões no dente são tensões Hertzianas de contato dinâmicas em combinação com rolamento e deslizamento. \n",
    "\n",
    "As tensões de superfície nos dentes de engrenagem foram investigadas pela primeira vez de uma maneira sistemática por Buckingham.\n",
    "\n",
    "→ Ele modelou o contato dos dentes como dois cilindros com raio de curvatura igual aos dentes de engrenagem no ponto de referência e que fossem carregados radialmente em contato de rolamento. \n",
    "\n",
    "Seu trabalho serviu como base para a fórmula de resistência à crateração da AGMA, que é:\n",
    "\n",
    "$\\sigma_c = C_P \\sqrt{ \\dfrac{W_t}{FId} \\dfrac{C_a C_m}{C_v} C_s C_f}$\n",
    "\n",
    "onde:\n",
    "\n",
    "$W_t$ é a força tangencial no dente  \n",
    "$d$ é o diâmetro primitivo da menor engrenagem do par  \n",
    "$F$ é a largura da face  \n",
    "$I$ é um fator geométrico de superfície admensional para resistência à crateração  \n",
    "$C_p$ é um coeficiente elástico que leva em conta as diferenças nas constantes do material do pinhão e coroa.  \n",
    "\n",
    "$C_a = K_a \\qquad C_m = K_m \\qquad C_v = K_v \\qquad C_s = K_s$"
   ]
  },
  {
   "cell_type": "markdown",
   "id": "be0f5635",
   "metadata": {
    "slideshow": {
     "slide_type": "subslide"
    }
   },
   "source": [
    "**Fator Geométrico de Superfície I**\n",
    "\n",
    "$I = \\dfrac{\\cos \\phi}{\\left( \\dfrac{1}{\\rho_p} \\pm \\dfrac{1}{\\rho_g} \\right) d_p}$\n",
    "\n",
    "$\\rho_p$ e $\\rho_g$ são os raios de curvatura do pinhão e da coroa.\n",
    "\n",
    "$+$ → engrenamentos externos  \n",
    "$-$ → engrenamentos internos \n",
    "\n",
    "$\\rho_p = \\sqrt{ \\left( \\dfrac{d_p}{2} + \\dfrac{1 + x_p}{p_d} \\right)^2 - \\left(\\dfrac{d_p}{2} \\cos \\phi \\right)^2 - \\dfrac{\\pi}{p_d} \\cos \\phi}$\n",
    "\n",
    "$p_d$ é o passo diametral = 1/m  \n",
    "$x_p$ é o coeficiente do adendo do pinhão → para dentes padronizados $x_p = 0$ para adendos de dentes alongados 25%, $x_p = 0,25$, etc.  \n",
    "\n",
    "$\\rho_g = C_sen \\phi \\mp \\rho_p$\n",
    "\n",
    "$-$ → engrenamento externo  \n",
    "$+$ → engrenamento interno"
   ]
  },
  {
   "cell_type": "markdown",
   "id": "9549276b",
   "metadata": {
    "slideshow": {
     "slide_type": "subslide"
    }
   },
   "source": [
    "**Coeficiente Elástico**\n",
    "\n",
    "$C_p = \\sqrt{ \\dfrac{1}{\\pi \\left[ \\left( \\dfrac{1 - \\nu_p^2}{E_p} \\right) + \\left( \\dfrac{1 - \\nu_g^2}{E_g}\\right) \\right]}}$\n",
    "\n",
    "onde:\n",
    "\n",
    "$E_p$, $E_g$ → módulos de elasticidade\n",
    "$\\nu_p$, $\\nu_g$ → coeficiente de Poison\n",
    "\n",
    "![](figuras/fig8-13.png)"
   ]
  },
  {
   "cell_type": "markdown",
   "id": "74d4084b",
   "metadata": {
    "slideshow": {
     "slide_type": "subslide"
    }
   },
   "source": [
    "**Fator de Acabamento Superficial** $C_F$\n",
    "\n",
    "→ É usado para levar em conta acabamentos extraordinariamente grosseiros nos dentes de engrenagem\n",
    "\n",
    "A AGMA não estabeleceu ainda normas para fatores de acabamento superficial e recomenda que $C_F$ seja posto igual a 1 para engrenagens feitas por métodos convencionais. \n"
   ]
  },
  {
   "cell_type": "markdown",
   "id": "3f7bfcf2",
   "metadata": {
    "slideshow": {
     "slide_type": "subslide"
    }
   },
   "source": [
    "**Exemplo parte 3:**\n",
    "Análise da tensão superficial de um trem de engrenagens retas\n",
    "\n",
    "Determine as tensões de superfície nos dentes de engrenagem do trem de 3 engrenagens dos exemplos anteriores.\n",
    "\n",
    "Dados: A carga transmitida nos dentes é 2034,6N. O pinhão tem 14 dentes, um ângulo de pressão de 25° e m = 4. A engrenagem intermediária tem 17 dentes e a coroa tem 49 dentes. A velocidade do pinhão é 2500rpm. A largura da face é igual a 50mm.\n"
   ]
  },
  {
   "cell_type": "markdown",
   "id": "01eb03b9",
   "metadata": {
    "slideshow": {
     "slide_type": "subslide"
    }
   },
   "source": [
    "## Materiais para Engrenagem\n",
    "\n",
    "\n",
    "- Ferros fundidos: são comumente usados para engrenagens. Os ferros fundidos cinzentos tem vantagem de baixo custo, facilidade de usinagem, alta resistência a desgaste e amortecimento interno (devido às inclusões de grafite) que os fazem acusticamente mais silenciosos que as engrenagens de aço.\n",
    "- Aços: são também comumente usados para engrenagens. Eles têm resistência à tensão superior ao ferro fundido e competem em termos de custo na suas formas de baixas ligas.\n",
    "- Bronzes: são os metais não ferrosos mais comuns usados para engrenagens. O módulo de elasticidade baixo destas ligas de cobre provê uma deflexão maior do dente e melhora a divisão de carga entre os dentes. Sendo que bronze e aço trabalham bem juntos, a combinação de um pinhão de aço e uma coroa de bronze é frequentemente usada. \n",
    "- Engrenagens não metálicas: são frequentemente feitas de moldes de injeção de termoplásticos como náilon e o acetal, às vezes enchidos com materiais inorgânicos como vidro e talco. Teflon é às vezes adicionado ao naílon ou acetal para diminuir o coeficiente de atrito."
   ]
  },
  {
   "cell_type": "markdown",
   "id": "0e7ef5d9",
   "metadata": {
    "slideshow": {
     "slide_type": "subslide"
    }
   },
   "source": [
    "**Resistência à fadiga de flexão da AGMA para materiais de engrenagem**\n",
    "\n",
    "\n",
    "- Os valores publicados pela AGMA para resistência à fadiga por flexão e fadiga de superfície são, na verdade, valores parcialmente corretos de resistência à fadiga, já que foram gerados com peças apropriadamente dimensionadas tendo a mesma geometria, acabamento superficial, etc. que as engrenagens a serem projetadas.\n",
    "\n",
    "Os valores de resistência à fadiga de flexão da AGMA estão todos expressos para 5 x 10⁷ ciclos de tensão repetidas e para 99% de confiabilidade. \n",
    "\n",
    "\n",
    "- Essas resistências são comparadas à tensão de pico $\\sigma_b$\n",
    "\n",
    "A fórmula de correção para resistência à fadiga de flexão das engrenagens é:\n",
    "\n",
    "$S_fb = \\dfrac{K_L}{K_t K_R} S_{fb}'$\n"
   ]
  },
  {
   "cell_type": "markdown",
   "id": "172017b6",
   "metadata": {
    "slideshow": {
     "slide_type": "subslide"
    }
   },
   "source": [
    "**Fator de Vida** $K_L$\n",
    "\n",
    "![](figuras/fig8-14.png)"
   ]
  },
  {
   "cell_type": "markdown",
   "id": "9b8308de",
   "metadata": {
    "slideshow": {
     "slide_type": "subslide"
    }
   },
   "source": [
    "**Fator de temperatura** $K_t$\n",
    "\n",
    "A temperatura do lubrificante é uma medida razoável da temperatura da engrenagem. Para os aços em óleos com temperaturas até cerca de 120ºC, $K_t$ pode ser igual a 1. Para temperaturas maiores:\n",
    "\n",
    "$K_t = \\dfrac{460 + T_F}{620} \\qquad$[US]\n",
    "\n",
    "$K_t = \\dfrac{460 + 33,8 T_F}{620} \\qquad$[SI]"
   ]
  },
  {
   "cell_type": "markdown",
   "id": "63aac907",
   "metadata": {
    "slideshow": {
     "slide_type": "subslide"
    }
   },
   "source": [
    "**Fator de Confiabilidade** $K_R$\n",
    "\n",
    "\n",
    "| Confiabilidade % | $K_R$ |\n",
    "| ---------------- | ------- |\n",
    "| 90               | 0,85    |\n",
    "| 99               | 1,00    |\n",
    "| 99,9             | 1,25    |\n",
    "| 99,99            | 1,50    |"
   ]
  },
  {
   "cell_type": "markdown",
   "id": "3230b425",
   "metadata": {
    "slideshow": {
     "slide_type": "subslide"
    }
   },
   "source": [
    "**Resistências à fadiga de superfície da AGMA para materiais de engrenagem**\n",
    "\n",
    "$S_{fc} = \\dfrac{C_L C_H}{C_t C_R} S_{fc}'$\n",
    "\n",
    "$C_t = K_t \\qquad C_R = K_R$"
   ]
  },
  {
   "cell_type": "markdown",
   "id": "84e56d8b",
   "metadata": {
    "slideshow": {
     "slide_type": "subslide"
    }
   },
   "source": [
    "**Fator de vida de superfície** $C_L$\n",
    "\n",
    "![](figuras/fig8-15.png)"
   ]
  },
  {
   "cell_type": "markdown",
   "id": "f8416c8d",
   "metadata": {
    "slideshow": {
     "slide_type": "subslide"
    }
   },
   "source": [
    "**Fator de razão de dureza** $C_H$\n",
    "\n",
    "→ $C_H$ é aplicado somente para a resistência do dente da coroa para pinhões endurecidos completamente que trabalham contra engrenagens endurecidas completamente:\n",
    "\n",
    "$C_H = 1 + A(m_G - 1)$          # mg é a razão de engrenamento\n",
    "\n",
    "se $\\dfrac{HB_P}{HB_g} < 1,2$    →    $A = 0$\n",
    "\n",
    "se $1,2 \\leq \\dfrac{HB_p}{HB_g} \\leq 1,7$   →   $A = 0,00898\\dfrac{HB_p}{HB_g} - 0,00829$\n",
    "\n",
    "se $\\dfrac{HB_p}{HB_g} > 1,7$    $A = 0,00698$\n",
    "\n",
    "Para pinhões de superfície endurecida (>48HRC) trabalhando contra engrenagens endurecidas inteiramente, $C_H$ é encontrado a partir de:\n",
    "\n",
    "$C_H = 1 + b (450 - HB_g)$\n",
    "\n",
    "$B = 0,00075e^{-0,0112R_q}$     [US]\n",
    "$B = 0,00075e^{-0,052R_q}$       [SI]\n",
    "\n",
    "$R_q$ é a rugosidade da superfície rms dos dentes do pinhão em $\\mu m$ rms."
   ]
  },
  {
   "cell_type": "markdown",
   "id": "a8f80a33",
   "metadata": {
    "slideshow": {
     "slide_type": "subslide"
    }
   },
   "source": [
    "![](figuras/fig8-16.png)\n",
    "![](figuras/fig8-17.png)\n",
    "![](figuras/fig8-18.png)\n",
    "![](figuras/fig8-19.png)"
   ]
  },
  {
   "cell_type": "markdown",
   "id": "f293f089",
   "metadata": {
    "slideshow": {
     "slide_type": "subslide"
    }
   },
   "source": [
    "**Exemplo parte 4:**  \n",
    "Seleção de material e coeficiente de segurança de engrenagens retas\n",
    "\n",
    "Problema: Selecione materiais apropriados e calcule os coeficientes de segurança para tensões de flexão e superficiais no trem de 3 engrenagens dos exemplos anteriores.\n",
    "\n",
    "Dados: As tensões foram calculadas nos exemplos anteriores\n",
    "\n",
    "Considerações: A vida requerida de serviço é de 5 anos em operação de um turno. Todas as engrenagens são de aço. A temperatura de operação é de 90°C."
   ]
  },
  {
   "cell_type": "markdown",
   "id": "7663decb",
   "metadata": {
    "slideshow": {
     "slide_type": "subslide"
    }
   },
   "source": [
    "## Lubrificação no engrenamento\n",
    "\n",
    "→ O enfoque usual preferido é prover um banho de óleo alojando as engrenagens em uma caixa com óleo bem fechada, chamada de redutor"
   ]
  },
  {
   "cell_type": "markdown",
   "id": "27a67930",
   "metadata": {
    "slideshow": {
     "slide_type": "subslide"
    }
   },
   "source": [
    "## Projeto de Engrenagens Retas\n",
    "\n",
    "\n",
    "- O projeto de engrenagens geralmente requer alguma iteração.\n",
    "- Devem-se pressupor os valores de alguns parâmetros e tentar obter uma solução\n",
    "- Normalmente, a razão de engrenamento e a potência e velocidade, ou torque e velocidade, de um eixo são definidas.\n",
    "- Os parâmetros a serem determinados são os diâmetros primitivos do pinhão e da coroa, o módulo, a largura da face, o(s) material(is) e os coeficientes de segurança.\n",
    "- Algumas decisões de projeto sobre a precisão de engrenamento requerida, o método de fabricação da engrenagem, o intervalo de temperatura operacional e a confiabilidade desejada devem ser tomadas. \n"
   ]
  }
 ],
 "metadata": {
  "kernelspec": {
   "display_name": "Python 3 (ipykernel)",
   "language": "python",
   "name": "python3"
  },
  "language_info": {
   "codemirror_mode": {
    "name": "ipython",
    "version": 3
   },
   "file_extension": ".py",
   "mimetype": "text/x-python",
   "name": "python",
   "nbconvert_exporter": "python",
   "pygments_lexer": "ipython3",
   "version": "3.10.6"
  }
 },
 "nbformat": 4,
 "nbformat_minor": 5
}
