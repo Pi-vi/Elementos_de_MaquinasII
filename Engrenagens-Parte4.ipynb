{
 "cells": [
  {
   "cell_type": "markdown",
   "id": "68c2fd9a-834f-46f4-9902-4e3fd32130b9",
   "metadata": {
    "slideshow": {
     "slide_type": "slide"
    },
    "tags": []
   },
   "source": [
    "# Engrenagens Cônicas"
   ]
  },
  {
   "cell_type": "markdown",
   "id": "d9a08158-0036-4c7c-b6ab-671ce6bff8bd",
   "metadata": {
    "slideshow": {
     "slide_type": "subslide"
    },
    "tags": []
   },
   "source": [
    "---\n",
    "Este material serve apenas como um guia para estudos e para as aulas, não substituindo a leitura dos livros indicados e é de uso exclusivo dos alunos do CEFET/RJ campus Angra dos Reis.\n",
    "\n",
    "---"
   ]
  },
  {
   "cell_type": "markdown",
   "id": "8c20187b-11e8-45a8-b0fc-31acd15c8bc8",
   "metadata": {
    "slideshow": {
     "slide_type": "subslide"
    },
    "tags": []
   },
   "source": [
    "- São cortadas em cones acoplados em vez de em cilindros acoplados de engrenagens retas ou helicoidais.\n",
    "- Os eixos delas não são paralelos e se interceptam nos vértices de cones.\n",
    "- O ângulo entre seus eixos pode ser qualquer valor, mas é frequentemente 90°.\n",
    "\n",
    "→ engrenagens cônicas retas\n",
    "\n",
    "→ engrenagens cônicas espirais\n",
    "\n",
    "\n",
    "![](figuras/fig10-1.png)\n"
   ]
  },
  {
   "cell_type": "markdown",
   "id": "c6ced8a8-d238-4304-bed7-e600ea86a7a8",
   "metadata": {
    "slideshow": {
     "slide_type": "slide"
    },
    "tags": []
   },
   "source": [
    "## Geometria das Engrenagens Cônicas e Nomenclatura\n",
    "\n",
    "\n",
    "![](figuras/fig10-2.png)\n",
    "\n",
    "\n",
    "$\\alpha_p$, $\\alpha_g$ → ângulos do cone de referência\n",
    "\n",
    "$L$ → comprimento\n",
    "\n",
    "$F$ é geralmente limitada a $L/3$\n",
    "\n",
    "$L = \\dfrac{r_p}{sen \\alpha_p} = \\dfrac{d_p}{2 sen \\alpha_p} = \\dfrac{d_g}{2 sen \\alpha_g}$\n",
    "\n",
    "A razão de engrenamento, $m_g$, para um par de engrenagens cônicas a 90° pode ser definida em termos de ângulos de cones de referência como:\n",
    "\n",
    "$m_g = \\dfrac{\\omega_p}{\\omega_g} - \\dfrac{N_g}{N_p} = \\dfrac{d_p}{d_g} = tg \\alpha_g = cot \\alpha_p$\n"
   ]
  },
  {
   "cell_type": "markdown",
   "id": "b0ca462b-96a3-4f2c-92e3-d9663b5cc808",
   "metadata": {
    "slideshow": {
     "slide_type": "slide"
    },
    "tags": []
   },
   "source": [
    "## Forças em Engrenagens Cônicas\n",
    "\n",
    "$W_a = W_t. tg \\phi. sen \\alpha$\n",
    "\n",
    "$W_r = W_t. tg\\phi. cos \\alpha$\n",
    "\n",
    "$W = \\dfrac{W_t}{cos \\phi}$\n",
    "\n",
    "Para uma engrenagem cônica espiral:\n",
    "\n",
    "$W_a = \\dfrac{W_t}{cos \\psi} (tg \\phi_n.sen \\alpha \\mp sen \\psi.cos \\alpha)$\n",
    "\n",
    "$W_r = \\dfrac{W_t}{cos \\psi} (tg \\phi_n cos \\alpha \\pm sen \\psi sen \\alpha)$\n",
    "\n",
    "$W_t = \\dfrac{2T}{d_m}$\n",
    "\n",
    "$d_m$ → diâmetro de referência médio.\n",
    "\n",
    "sinal superior é usado para um pinhão motor com uma espiral de hélice à direita (RH) rodando no sentido horário visto desde a sua extremidade maior, ou para um pinhão motor com uma espiral de hélice à esquerda (LH) rodando no sentido anti-horário vista desde sua extremidade maior.\n",
    "\n",
    "sinal inferior para condições opostas"
   ]
  },
  {
   "cell_type": "markdown",
   "id": "395480a7-c3c9-4778-b9ee-15759b1c91c3",
   "metadata": {
    "slideshow": {
     "slide_type": "slide"
    },
    "tags": []
   },
   "source": [
    "## Tensões em Engrenagens Cônicas\n",
    "\n",
    "\n",
    "- O cálculo das tensões e a estimativa de vida de engrenagens cônicas é mais complicado do que para engrenagens retas ou helicoidais. \n",
    "\n",
    "→ As normas AGMA proveem informação mais completa do que aquela que pode ser apresentada aqui e devem ser consultadas para qualquer projeto verdadeiro de aplicações\n",
    "\n",
    "$\\sigma_b = \\dfrac{2T_p}{d} \\dfrac{p_d}{FJ} \\dfrac{K_a K_m K_s}{K_v K_x} \\qquad [US]$\n",
    "\n",
    "$\\sigma_b = \\dfrac{2000T_p}{d} \\dfrac{1}{FmJ} \\dfrac{K_a K_m K_s}{K_v K_x} \\qquad[SI]$\n",
    "\n",
    "$K_a$, $K_m$, $K_s$ e $K_v$ são os mesmos de engrenagens retas (aproximação)\n",
    "\n",
    "Fator de curvatura $K_x$:\n",
    "\n",
    "$K_x = 1$ para engrenagens cônicas retas \n",
    "\n",
    "$K_x = 1,15$ para engrenagens espirais"
   ]
  },
  {
   "cell_type": "markdown",
   "id": "42ebd87c-1497-4bb3-9263-4414265cb2a0",
   "metadata": {
    "slideshow": {
     "slide_type": "slide"
    },
    "tags": []
   },
   "source": [
    "## Tensão de Superfície em Engrenagens Cônicas\n",
    "\n",
    "$\\sigma_c = C_p C_b\\sqrt{\\dfrac{2T_D}{FId^2} \\left( \\dfrac{T_p}{T_D} \\right)^z \\dfrac{C_a C_m}{C_v} C_s C_f C_{xc}}$\n",
    "\n",
    "$C_p$, $C_a$, $C_m$, $C_v$, $C_s$ e $C_f$ são os mesmos que para as engrenagens cilindricas de dentes retos e helicoidais.\n",
    "\n",
    "$C_b$ → constante de ajuste de tensão = 0,634\n",
    "\n",
    "$C_{xc}$ → fator de coroação\n",
    "\n",
    "    1,0 para dentes não coroados\n",
    "    1,5 para dentes coroados\n",
    "\n",
    "Dentes coroados tem superfícies modificadas para ter curvatura convexa na direção do comprimento (ao longo da largura da face) no intuito de produzir contato localizado e/ou evitar contato nas extremidades do dente. A coroação pode ser aplicada para todos os tipos de dentes. Dentes coroados reduzem a necessidade de alinhamento preciso dos eixos das engrenagens que se acoplam para serem exatamente paralelos.\n",
    "\n",
    "$z$ = 0.667 se $T_p < T_D$\n",
    "\n",
    "$z = 1 se $T_p \\geq T_D$\n",
    "\n",
    "$T_p$ → Torque de operação do pinhão\n",
    "\n",
    "$T_D$ → Torque de projeto do pinhão → mínimo valor necessário para produzir uma área de contato completo (ideal) nos dentes de engrenagem\n",
    "\n",
    "$T_D = \\dfrac{F}{2} \\dfrac{I C_v}{C_s C_{md} C_f C_a C_{xc}} \\left(\\dfrac{S_{fc}'d}{C_pC_b} \\dfrac{0,774C_H}{C_TC_R}\\right)^2 \\qquad [US]$\n",
    "\n",
    "$T_D = \\dfrac{F}{2000} \\dfrac{I C_v}{C_s C_{md} C_f C_a C_{xc}} \\left(\\dfrac{S_{fc}'d}{C_pC_b} \\dfrac{0,774C_H}{C_TC_R}\\right)^2 \\qquad [SI]$\n",
    "\n",
    "$S_{fc}'$ é a resistência à fadiga de superfície do material e os fatores $C$  são como definidos anteriormente.\n",
    "\n",
    "$C_{md}$ é um fator de montagem, que varia de 1,2 para ambos os membros montados encavalados a 1,8 se ambos estiverem em balanço.\n",
    "\n",
    "    → para dentes sem coroa, dobre esses números.\n",
    "\n",
    "Fatores geométricos $I$ e $J$ para engrenagens cônicas retas e espirais são diferentes daqueles para engrenagens retas ou helicoidais. \n",
    "\n",
    "\n",
    "![](figuras/fig10-3.png)\n",
    "\n",
    "![](figuras/fig10-4.png)\n",
    "\n",
    "![](figuras/fig10-5.png)\n",
    "\n",
    "![](figuras/fig10-6.png)\n"
   ]
  }
 ],
 "metadata": {
  "kernelspec": {
   "display_name": "Python 3 (ipykernel)",
   "language": "python",
   "name": "python3"
  },
  "language_info": {
   "codemirror_mode": {
    "name": "ipython",
    "version": 3
   },
   "file_extension": ".py",
   "mimetype": "text/x-python",
   "name": "python",
   "nbconvert_exporter": "python",
   "pygments_lexer": "ipython3",
   "version": "3.10.8"
  }
 },
 "nbformat": 4,
 "nbformat_minor": 5
}
