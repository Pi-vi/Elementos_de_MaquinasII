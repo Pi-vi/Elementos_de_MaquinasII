{
 "cells": [
  {
   "cell_type": "markdown",
   "id": "5a5bc646-d764-46d3-a464-2b91c7c1d7af",
   "metadata": {
    "slideshow": {
     "slide_type": "slide"
    }
   },
   "source": [
    "# Uniões Soldadas\n",
    "Este material serve apenas como um guia para estudos e para as aulas, não substituindo a leitura dos livros indicados e é de uso exclusivo dos alunos do CEFET/RJ campus Angra dos Reis."
   ]
  },
  {
   "cell_type": "markdown",
   "id": "a6b819df-dc3b-4de5-b7bb-c792855bca2b",
   "metadata": {
    "slideshow": {
     "slide_type": "subslide"
    }
   },
   "source": [
    "- Processo de união de materiais baseado no estabelecimento, na região de contato entre as peças que estão sendo unidas, de ligações químicas de natureza similar às atuantes no interior dos próprios materiais"
   ]
  },
  {
   "cell_type": "markdown",
   "id": "5d388ac0-2738-4beb-ae9f-f3c6c801ccd3",
   "metadata": {
    "slideshow": {
     "slide_type": "subslide"
    }
   },
   "source": [
    "A criação de ligações químicas entre os átomos é dificultado pela:\n",
    "\n",
    "- rugosidade microscópica\n",
    "- camada de óxido\n",
    "- umidade\n",
    "- gordura\n",
    "- poeira\n",
    "- outros contaminantes existentes em toda superfície metálica\n",
    "\n",
    "→ Estas dificuldades são superadas de duas formas principais:\n",
    "\n",
    "- deformar as superfícies de contato\n",
    "- aquecer localmente a região a ser soldada até a sua fusão."
   ]
  },
  {
   "cell_type": "markdown",
   "id": "802819fc-c97e-4173-9cb6-cb4eb81e2847",
   "metadata": {
    "slideshow": {
     "slide_type": "subslide"
    }
   },
   "source": [
    "Assim, os diferentes tipos de soldagem podem ser agrupados em dois grandes grupos:\n",
    "\n",
    "- processo de soldagem por pressão (ou deformação)\n",
    "- processo de soldagem por fusão"
   ]
  },
  {
   "cell_type": "markdown",
   "id": "68b15b95-7910-4751-b50c-5c78ce2527e0",
   "metadata": {
    "slideshow": {
     "slide_type": "subslide"
    }
   },
   "source": [
    "## Vantagens e Desvantagens de Uniões Soldadas"
   ]
  },
  {
   "cell_type": "markdown",
   "id": "f7e68227-0627-46bb-a131-886bb976d558",
   "metadata": {
    "slideshow": {
     "slide_type": "subslide"
    }
   },
   "source": [
    "Vantagens:\n",
    "\n",
    "1. Juntas de integridade e eficiência elevada\n",
    "2. Maior resistência e menor peso (maior seção)\n",
    "3. Grande variedade de processos\n",
    "4. Aplicável a diversos materiais\n",
    "5. Operação manual ou automática\n",
    "6. Pode ser altamente portátil\n",
    "7. Juntas contínuas e estanques (isentos de vazamentos)\n",
    "8. Custo, em geral, razoável\n",
    "9. Junta não apresenta problema de perda de aperto"
   ]
  },
  {
   "cell_type": "markdown",
   "id": "031ab49f-bf9d-49e0-bcf7-b48114c414dd",
   "metadata": {
    "slideshow": {
     "slide_type": "subslide"
    }
   },
   "source": [
    "Desvantagens:\n",
    "\n",
    "1. Não pode ser desmontada\n",
    "2. Pode afetar a micro estrutura e propriedades das partes\n",
    "3. Pode causar distorções e tensões residuais\n",
    "4. Requer considerável habilidade do operador\n",
    "5. Pode exigir operações auxiliares de elevado custo e duração (ex.: tratamentos térmicos)\n",
    "6. Estrutura resultante é monolítica e pode ser sensível a falha total"
   ]
  },
  {
   "cell_type": "markdown",
   "id": "035a4199-dbc9-4a66-9bc6-54e6ea0d62cf",
   "metadata": {
    "slideshow": {
     "slide_type": "subslide"
    }
   },
   "source": [
    "## Terminologia Geral da Solda"
   ]
  },
  {
   "cell_type": "markdown",
   "id": "40312595-d43a-460a-970e-10454a163398",
   "metadata": {
    "slideshow": {
     "slide_type": "subslide"
    }
   },
   "source": [
    "![](figuras/fig2-1.jpeg)"
   ]
  },
  {
   "cell_type": "markdown",
   "id": "dffc1612-b1e6-4665-b524-f081dbe802ea",
   "metadata": {
    "slideshow": {
     "slide_type": "subslide"
    },
    "tags": []
   },
   "source": [
    "![](figuras/fig2-2.jpeg)"
   ]
  },
  {
   "cell_type": "markdown",
   "id": "019c4c37-fdb8-418f-aea4-aeae41eb3344",
   "metadata": {
    "slideshow": {
     "slide_type": "subslide"
    }
   },
   "source": [
    "![](figuras/fig2-3.png)"
   ]
  },
  {
   "cell_type": "markdown",
   "id": "9a826d13-e5ba-4e7d-a7ee-bf2123954477",
   "metadata": {
    "slideshow": {
     "slide_type": "subslide"
    }
   },
   "source": [
    "![](figuras/fig2-4.png)"
   ]
  },
  {
   "cell_type": "markdown",
   "id": "19145f48-1d15-439e-a86b-b75ea7580fab",
   "metadata": {
    "slideshow": {
     "slide_type": "subslide"
    }
   },
   "source": [
    "![](figuras/fig2-5.png)"
   ]
  },
  {
   "cell_type": "markdown",
   "id": "4817734d-64da-4df3-b49d-806156ae5a02",
   "metadata": {
    "slideshow": {
     "slide_type": "subslide"
    }
   },
   "source": [
    "## Indicação e Símbolos\n",
    "\n",
    "As soldas e a preparação das juntas são indicadas nos desenhos técnicos usando símbolos. Mais detalhes e exemplos dessas indicações podem ser encontrados em diversas normas  como a ABNT 7165/SB 121 e a AWS A2.4"
   ]
  },
  {
   "cell_type": "markdown",
   "id": "9e0daa62-1618-4201-9fa3-87793c1ac2cc",
   "metadata": {
    "slideshow": {
     "slide_type": "subslide"
    }
   },
   "source": [
    "![](figuras/fig2-6.png)"
   ]
  },
  {
   "cell_type": "markdown",
   "id": "c9012aac-8fbe-4fa1-ad76-1cf1045a180d",
   "metadata": {
    "slideshow": {
     "slide_type": "subslide"
    }
   },
   "source": [
    "## Princípios do Projeto de Soldas\n",
    "\n",
    "**Carregamento Estático de Soldas**"
   ]
  },
  {
   "cell_type": "markdown",
   "id": "c688a6ad-d159-425c-ac25-88b5b0689dbd",
   "metadata": {
    "slideshow": {
     "slide_type": "subslide"
    }
   },
   "source": [
    "![](figuras/fig2-7.png)"
   ]
  },
  {
   "cell_type": "markdown",
   "id": "88632e47-da9a-4196-a396-201d6732b610",
   "metadata": {
    "slideshow": {
     "slide_type": "subslide"
    }
   },
   "source": [
    "$\\sigma_x = \\dfrac{F}{A}$\n",
    "\n",
    "$\\tau_{xy} = \\dfrac{F}{A_{cis}}$\n",
    "\n",
    "onde:  \n",
    "$A = t l$\n",
    "\n",
    "$A_{cis} = t l$\n",
    "\n",
    "JPC → a área da garganta é igual à menor seção transversal da união\n",
    "\n",
    "JPP → a área é simplesmente a dimensão $t$ da garganta vezes o comprimento do cordão."
   ]
  },
  {
   "cell_type": "markdown",
   "id": "774322df-c30f-4fd4-b6ae-6c9041677576",
   "metadata": {
    "slideshow": {
     "slide_type": "subslide"
    }
   },
   "source": [
    "**Direção do Carregamento**\n",
    "\n",
    "A direção do carregamento versus a direção do eixo do cordão tem um efeito significante na resistência do cordão da solda;\n",
    "\n",
    "→ A norma AWS D1.1 especifica que a área efetiva da garganta, definida como a distância mais curta entre a raiz até a face da solda, seja usada para cargas aplicadas em qualquer direção."
   ]
  },
  {
   "cell_type": "markdown",
   "id": "f9d7c3e1-cd4c-4640-a9df-633943b54432",
   "metadata": {
    "slideshow": {
     "slide_type": "subslide"
    }
   },
   "source": [
    "**Tensão admissível** \n",
    "\n",
    "A recomendação básica para a seleção dos eletrodos é que a resistência deles (tensão máxima) seja menor ou igual à resistência do material base."
   ]
  },
  {
   "cell_type": "markdown",
   "id": "3f034a8f-1554-460a-ab0b-a57c94b787c7",
   "metadata": {
    "slideshow": {
     "slide_type": "subslide"
    }
   },
   "source": [
    "![](figuras/fig2-8.png)"
   ]
  },
  {
   "cell_type": "markdown",
   "id": "760e2974-3466-4ab0-ac20-bdf2e85b8b20",
   "metadata": {
    "slideshow": {
     "slide_type": "subslide"
    }
   },
   "source": [
    "→ O limite de escoamento para um eletrodo pode ser tomado como 75% do $\\sigma_{ut}$\n",
    "\n",
    "Exx → resistência do eletrodo → $\\sigma_{ut}$\n",
    "\n",
    "$\\tau_{adm} = 0.30Exx$\n",
    "\n",
    "O fator de segurança tomada para esta equação é normalmente tomado como 2.5 e está definido dentro dos intervalos de fatores de segurança para cordões longitudinais."
   ]
  },
  {
   "cell_type": "markdown",
   "id": "ca90e887-6583-4502-a7c6-1dc4a9e5ed5f",
   "metadata": {
    "slideshow": {
     "slide_type": "subslide"
    }
   },
   "source": [
    "A norma AWS D1.1 Structural Welding Code define o tamanho mínimo para soldas baseada na espessura do material soldado"
   ]
  },
  {
   "cell_type": "markdown",
   "id": "05922603-e665-4824-921a-08fabe8591f6",
   "metadata": {
    "slideshow": {
     "slide_type": "subslide"
    }
   },
   "source": [
    "![](figuras/fig2-9.png)"
   ]
  },
  {
   "cell_type": "markdown",
   "id": "abbda54a-6032-4371-85dc-15a8156055c5",
   "metadata": {
    "slideshow": {
     "slide_type": "subslide"
    }
   },
   "source": [
    "**Exemplo:**   \n",
    "Uma seção T de 10 mm de espessura por 100 mm de largura, de aço ASTM A36 laminado a quente em ambas as pernas será soldada em ambos os lados. Determine a dimensão da garganta, $t$, necessária."
   ]
  },
  {
   "cell_type": "markdown",
   "id": "cf919163-d86c-4eef-adaa-0592ad906075",
   "metadata": {
    "slideshow": {
     "slide_type": "subslide"
    }
   },
   "source": [
    "![](figuras/fig2-10.png)"
   ]
  },
  {
   "cell_type": "markdown",
   "id": "34414648-d47b-4a2d-93ce-52f4265ca122",
   "metadata": {
    "slideshow": {
     "slide_type": "subslide"
    }
   },
   "source": [
    "Dados: O T é estaticamente carregado em tração no centro da alma com P=75kN atuando no furo de diâmetro de 1 in\n",
    "\n",
    "hipóteses: Use a resistência do material do eletrodo revestido com valor similar ao metal base com cordão no comprimento total da solda. O carregamento é carregado diretamente e falhará por cisalhamento ao longo do plano a 45° em sua garganta.\n",
    "\n",
    "ASTM A36 → $\\sigma_e$ = 36kPSI (250MPa) → $\\sigma_{ut}$ = 58-80kPSI (400 - 500Mpa)\n",
    "\n",
    "Usar eletrodo E70 com 70kPSI de $\\sigma_{ut}$ → (482MPa)"
   ]
  },
  {
   "cell_type": "markdown",
   "id": "fa5393a1-0eb1-4aec-929e-d1fd59b1e9d9",
   "metadata": {
    "slideshow": {
     "slide_type": "subslide"
    }
   },
   "source": [
    "## Tratando a Solda como uma Linha"
   ]
  },
  {
   "cell_type": "markdown",
   "id": "5edfbd20-4c07-4af8-9f28-0c93a199f50d",
   "metadata": {
    "slideshow": {
     "slide_type": "subslide"
    }
   },
   "source": [
    "- A área da solda e a carga são normalizadas para uma unidade de comprimento de garganta.\n",
    "\n",
    "\n",
    "- Os carregamentos em uma dada posição de soldagem são geralmente um ou uma combinação de carregamentos de tração direta, flexão e torção. "
   ]
  },
  {
   "cell_type": "markdown",
   "id": "d6af4d23-228c-41fe-bd7d-7b56db21fd21",
   "metadata": {
    "slideshow": {
     "slide_type": "subslide"
    }
   },
   "source": [
    "**Tensões equivalentes em filetes de solda em torção**\n",
    "\n",
    "A figura a seguir ilustra a união de uma viga à estrutura rígida utilizando cordões de solda. Nessa figura, ($\\bar{x}$, $\\bar{y}$) indicam as coordenadas do centroide da solda. Admite-se, ainda, que a dimensão “$t$” é muito menor que a distância “$l$” de tal forma que o momento fletor $F \\times t$ também é muito pequeno e pode ser desconsiderado na análise de tensões. Com isso, os esforços que atuam no centroide da solda são a força cortante ($V=F$) e o momento $M = Fl$ (fletor na viga e torçor no cordão de solda). "
   ]
  },
  {
   "cell_type": "markdown",
   "id": "de8055fa-617d-4962-9cab-a22380de39dc",
   "metadata": {
    "slideshow": {
     "slide_type": "subslide"
    }
   },
   "source": [
    "![](figuras/fig2-11.png)"
   ]
  },
  {
   "cell_type": "markdown",
   "id": "8f66e2d5-241b-4e6f-acb2-c6a564701d6b",
   "metadata": {
    "slideshow": {
     "slide_type": "subslide"
    }
   },
   "source": [
    "A “tensão cisalhante primária” na solda que é oriunda da força cortante vale:\n",
    "\n",
    "$\\tau' = \\dfrac{V}{A} = \\dfrac{F}{A} = \\dfrac{F}{0.707h \\times A_u}$\n",
    "\n",
    "Onde $A_u$ denota a área unitária da solda, o termo “0.707h” é o comprimento da garganta  do filete e a direção da tensão coincide com a direção da força cortante."
   ]
  },
  {
   "cell_type": "markdown",
   "id": "0d76a2bc-90ab-4576-8a77-e8b8f4ba3858",
   "metadata": {
    "slideshow": {
     "slide_type": "subslide"
    }
   },
   "source": [
    "O momento torçor irá gerar a “tensão cisalhante secundária” na solda, cujo valor é obtido empregando as mesmas equações da mecânica dos sólidos e é dado por:\n",
    "\n",
    "$\\tau\" = \\dfrac{Mr}{J} = \\dfrac{Mr}{0.707h \\times J_u}$\n",
    "\n",
    "Onde $r$ denota a distância do ponto do cordão de solda em análise até o centroide da solda e $J_u$ designa o momento polar de inércia unitário, considerando o ponto ($\\bar{x}$, $\\bar{y}$) como centro de torção da solda. A direção dessa componente coincide com a direção do momento torçor e é perpendicular à linha que une o centroide ao ponto onde são avaliadas as tensões.  "
   ]
  },
  {
   "cell_type": "markdown",
   "id": "e365bd3d-4877-4a3f-8896-83bfb068e3a6",
   "metadata": {
    "slideshow": {
     "slide_type": "subslide"
    }
   },
   "source": [
    "**Tensões equivalentes em filetes de solda em flexão**\n",
    "\n",
    "\n",
    "A figura a seguir mostra a união de uma viga com uma estrutura rígida mediante cordões de solda. Nessa situação, porém, as solicitações na solda são oriundas da força cortante $V=F$ e do momento fletor $M=Fl$. Como no caso anterior, a força cortante gera cisalhamento primário e a tensão cisalhante equivalente, originada pelo momento fletor, será dada por:"
   ]
  },
  {
   "cell_type": "markdown",
   "id": "26ffe7a2-fa74-40e8-ac06-1d270f6df9ee",
   "metadata": {
    "slideshow": {
     "slide_type": "subslide"
    }
   },
   "source": [
    "![](figuras/fig2-12.png)"
   ]
  },
  {
   "cell_type": "markdown",
   "id": "31a144f2-5211-49c3-ac3c-911bf083de4c",
   "metadata": {
    "slideshow": {
     "slide_type": "subslide"
    }
   },
   "source": [
    "\n",
    "$\\tau = \\dfrac{Mc}{I} = \\dfrac{Mc}{0.707h \\times I_u}$"
   ]
  },
  {
   "cell_type": "markdown",
   "id": "f88b99bc-49c0-40d9-9ba6-6cd74f3fe678",
   "metadata": {
    "slideshow": {
     "slide_type": "subslide"
    }
   },
   "source": [
    "**Operações Booleanas**\n",
    "\n",
    "É possível obter o valor de $I_u$ e $J_u$ para soldas com geometria mais complexas fazendo operações Booleanas com geometrias mostradas na tabela a seguir e utilizando o teorema dos eixos paralelos."
   ]
  },
  {
   "cell_type": "markdown",
   "id": "f9ed585e-71bc-4eb2-be73-7689b66bc92e",
   "metadata": {
    "slideshow": {
     "slide_type": "subslide"
    }
   },
   "source": [
    "Exemplo:\n",
    "\n",
    "![](figuras/fig2-13.png)\n",
    "\n",
    "$I_u = \\left( I_{u1} + A_{u1}(\\Delta y_1)^2 \\right) + \\left( I_{u2} + A_{u2}(\\Delta y_2)^2 \\right)$\n",
    "\n",
    "e\n",
    "\n",
    "$J_u = \\left( J_{u1} + A_{u1} (\\Delta x_1^2 + \\Delta y_1^2 )\\right) + \\left(J_{u2} + A_{u2} (\\Delta x_2^2 + \\Delta y_2^2)\\right)$"
   ]
  },
  {
   "cell_type": "markdown",
   "id": "0b9c79f2-dfa8-430f-942a-79188f146df0",
   "metadata": {
    "slideshow": {
     "slide_type": "subslide"
    }
   },
   "source": [
    "**Valores unitários para geometrias comuns de soldas**"
   ]
  },
  {
   "cell_type": "markdown",
   "id": "cb9c23bf-43f9-49af-8868-d91f1b18d422",
   "metadata": {
    "slideshow": {
     "slide_type": "subslide"
    }
   },
   "source": [
    "![](figuras/fig2-14.png)"
   ]
  },
  {
   "cell_type": "markdown",
   "id": "8a2887e3-c2c4-4e6f-a9c1-11fe1fbba57f",
   "metadata": {
    "slideshow": {
     "slide_type": "subslide"
    }
   },
   "source": [
    "![](figuras/fig2-15.png)"
   ]
  },
  {
   "cell_type": "markdown",
   "id": "67b5c964-61ee-4c4b-8e97-a1afd60077e8",
   "metadata": {
    "slideshow": {
     "slide_type": "subslide"
    }
   },
   "source": [
    "![](figuras/fig2-16.png)"
   ]
  },
  {
   "cell_type": "markdown",
   "id": "7cb01592-e709-49c5-81f1-2d5465e7ac46",
   "metadata": {
    "slideshow": {
     "slide_type": "subslide"
    }
   },
   "source": [
    "**Exemplo:**\n",
    "\n",
    "Estime o valor da força admissível “F” (estática) para a solda ilustrada na figura utilizando o critério da norma AISC. O eletrodo utilizado na solda é o AWS E60. Dimensões: [mm]."
   ]
  },
  {
   "cell_type": "markdown",
   "id": "13ec2e12-b6ff-4768-93ad-1783e610b1ad",
   "metadata": {
    "slideshow": {
     "slide_type": "subslide"
    }
   },
   "source": [
    "![](figuras/fig2-17.png)"
   ]
  },
  {
   "cell_type": "markdown",
   "id": "3a403e20-ebad-49c5-9c4b-95930e7a9685",
   "metadata": {
    "slideshow": {
     "slide_type": "subslide"
    }
   },
   "source": [
    "## Carregamento de Fadiga\n",
    "\n",
    "Pode-se usar análises convencionais de fadiga com uso do critério de Gerber.\n",
    "\n",
    "Os fatores de concentração de tensões, listados na tabela a seguir, são citados por vários autores e foram sugeridos por Jennings e devem também ser utilizados para os cálculos dos esforços do metal base."
   ]
  },
  {
   "cell_type": "markdown",
   "id": "44559f85-f6a0-4d92-ab76-180ead6583c5",
   "metadata": {
    "slideshow": {
     "slide_type": "subslide"
    }
   },
   "source": [
    "![](figuras/fig2-18.png)"
   ]
  }
 ],
 "metadata": {
  "kernelspec": {
   "display_name": "Python 3 (ipykernel)",
   "language": "python",
   "name": "python3"
  },
  "language_info": {
   "codemirror_mode": {
    "name": "ipython",
    "version": 3
   },
   "file_extension": ".py",
   "mimetype": "text/x-python",
   "name": "python",
   "nbconvert_exporter": "python",
   "pygments_lexer": "ipython3",
   "version": "3.11.4"
  }
 },
 "nbformat": 4,
 "nbformat_minor": 5
}
