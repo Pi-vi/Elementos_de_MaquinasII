{
 "cells": [
  {
   "cell_type": "markdown",
   "id": "2dad38a9",
   "metadata": {
    "slideshow": {
     "slide_type": "slide"
    }
   },
   "source": [
    "# Elementos de Máquinas II\n",
    "Professor Paulo Victor  \n",
    "paulo.gomes@cefet-rj.br  \n",
    "Sala 6E"
   ]
  },
  {
   "cell_type": "markdown",
   "id": "bf9929c2",
   "metadata": {
    "slideshow": {
     "slide_type": "subslide"
    }
   },
   "source": [
    "## Ementa:\n",
    "\n",
    "[Introdução ao Projeto](Intro_ao_Proj.ipynb)  \n",
    "[Uniões Soldadas](Soldas.ipynb)  \n",
    "[Embreagens e Freios](Embreagens_e_Freios.ipynb)  \n",
    "[Transmissão por Correias](Correias.ipynb)  \n",
    "[Correntes de Transmissão](Correntes.ipynb)  \n",
    "[Cabos de Aço](Cabos_de_Aco.ipynb)  \n",
    "[Transmissão por Engrenagens](Engrenagens-Parte1.ipynb)  \n",
    "[Engrenagens Cilíndricas de Dentes Retos](Engrenagens-Parte2.ipynb)  \n",
    "[Engrenagens Helicoidais]()  \n",
    "[Engrenagens Cônicas]()  \n",
    "[Engrenagens Sem-fim]()\n",
    "   "
   ]
  },
  {
   "cell_type": "markdown",
   "id": "21581124",
   "metadata": {
    "slideshow": {
     "slide_type": "subslide"
    }
   },
   "source": [
    "## Objetivos:\n",
    "\n",
    "Capacitar o aluno a dimensionar e selecionar componentes mecânicos submetidos a cargas estáticas e dinâmicas, utilizando-se de procedimentos técnicos, documentação (catálogos técnicos) e com o auxílio de ferramentas computacionais. Além disso, capacitar o aluno para projetar máquinas e sistemas mecânicos. "
   ]
  },
  {
   "cell_type": "markdown",
   "id": "17d0cf1b",
   "metadata": {
    "slideshow": {
     "slide_type": "subslide"
    }
   },
   "source": [
    "## Avaliação:\n",
    "\n",
    "P1 → Prova (8 pontos) + Trabalho (2 pontos)   \n",
    "P2 → Prova (8 pontos) +  Trabalho (2 pontos)   \n",
    "P3 → Prova (10 pontos)    \n",
    "  "
   ]
  },
  {
   "cell_type": "markdown",
   "id": "71b1ca4b",
   "metadata": {
    "slideshow": {
     "slide_type": "subslide"
    }
   },
   "source": [
    "## Datas:\n",
    "\n",
    "    P1 → 25/04/2023\n",
    "    P2 → 20/06/2023\n",
    "    P3 → 04/07/2023"
   ]
  },
  {
   "cell_type": "markdown",
   "id": "2286f240",
   "metadata": {
    "slideshow": {
     "slide_type": "subslide"
    }
   },
   "source": [
    "## Bibliografia Básica:\n",
    "- Budynas, R. G., Nisbett, J. K., **Elementos de Máquinas de Shigley** - 10ª edição -Bookman\n",
    "- Norton, R. L., **Projeto de Máquinas, uma Abordagem Integrada.** - 4ª edição, Bookman\n",
    "- Almeida, J. C., Lima, K. F., Barbieri, R., **Elementos de Máquinas, Projeto de Sistemas Mecânicos**. 2ª Edição, Blucher (Disponível na biblioteca virtual → https://plataforma.bvirtual.com.br/Leitor/Publicacao/201738/pdf/0)"
   ]
  },
  {
   "cell_type": "markdown",
   "id": "496b7b24",
   "metadata": {
    "slideshow": {
     "slide_type": "subslide"
    }
   },
   "source": [
    "## Observações:\n",
    "- Ficar atento(a) às faltas (máximo de 25%)\n",
    "\n"
   ]
  }
 ],
 "metadata": {
  "kernelspec": {
   "display_name": "Python 3 (ipykernel)",
   "language": "python",
   "name": "python3"
  },
  "language_info": {
   "codemirror_mode": {
    "name": "ipython",
    "version": 3
   },
   "file_extension": ".py",
   "mimetype": "text/x-python",
   "name": "python",
   "nbconvert_exporter": "python",
   "pygments_lexer": "ipython3",
   "version": "3.10.6"
  }
 },
 "nbformat": 4,
 "nbformat_minor": 5
}
