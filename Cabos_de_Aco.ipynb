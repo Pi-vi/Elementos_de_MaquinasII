{
 "cells": [
  {
   "cell_type": "markdown",
   "id": "8beb6934",
   "metadata": {
    "slideshow": {
     "slide_type": "slide"
    }
   },
   "source": [
    "# Cabos de Aço\n",
    "Este material serve apenas como um guia para estudos e para as aulas, não substituindo a leitura dos livros indicados e é de uso exclusivo dos alunos do CEFET/RJ campus Angra dos Reis.\n",
    "\n",
    "---"
   ]
  },
  {
   "cell_type": "markdown",
   "id": "d6120b5d",
   "metadata": {
    "slideshow": {
     "slide_type": "subslide"
    }
   },
   "source": [
    "[Como é feito um Cabo de Aço](https://youtu.be/xkrUbAhbQbI)"
   ]
  },
  {
   "cell_type": "markdown",
   "id": "7e062a10",
   "metadata": {
    "slideshow": {
     "slide_type": "subslide"
    }
   },
   "source": [
    "- Graças ao engenheiro de minas Wilhelm Albert, em 1834 na Alemanha, houveram as primeiras aplicações dos percursores dos cabos de aço da atualidade.\n",
    "- Um cabo de aço corresponde a um conjunto de arames estirados a frio agrupados de forma helicoidal formando uma seção transversal metálica capaz de resistir esforços, principalmente de tração, associados a adequadas condições de flexibilidade.\n",
    "- Comercialmente, encontram-se cabos de aço destinados para a construção civil, para mineração, siderurgia, aeronaves, elevadores, pesca, eletrificação, transporte e elevação de cargas, petróleo e gás, equipamentos em geral, indústria automobilística, teleféricos, entre outros.\n",
    "- Comercialmente, encontram-se cabos de aço destinados para a construção civil, para mineração, siderurgia, aeronaves, elevadores, pesca, eletrificação, transporte e elevação de cargas, petróleo e gás, equipamentos em geral, indústria automobilística, teleféricos, entre outros."
   ]
  },
  {
   "cell_type": "markdown",
   "id": "da5f0298",
   "metadata": {
    "slideshow": {
     "slide_type": "slide"
    }
   },
   "source": [
    "## Composição Típica de um Cabo de Aço\n",
    "\n",
    "→ Os arames correspondem às unidades básicas para a formação do cabo, dado que a partir da torção dos mesmos ao redor de um centro comum, em uma ou mais camadas, obtém-se as pernas, as quais por sua vez, são também torcidas ao redor de outro centro comum, que recebe a denominação de alma."
   ]
  },
  {
   "cell_type": "markdown",
   "id": "289c6072",
   "metadata": {
    "slideshow": {
     "slide_type": "subslide"
    }
   },
   "source": [
    "\n",
    "![](figuras/fig6-1.png)"
   ]
  },
  {
   "cell_type": "markdown",
   "id": "3d8546a6",
   "metadata": {
    "slideshow": {
     "slide_type": "subslide"
    }
   },
   "source": [
    "![](figuras/fig6-2.png)"
   ]
  },
  {
   "cell_type": "markdown",
   "id": "d6c796d4",
   "metadata": {
    "slideshow": {
     "slide_type": "slide"
    }
   },
   "source": [
    "**Tipos de Pernas - Cabos Convencionais**\n",
    "\n",
    "\n",
    "- A configuração das pernas de um cabo de aço afeta diretamente as suas características funcionais. Um cabo constituído por pernas que contemplam uma pequena quantidade de arames de maior dimensão, por exemplo, apresenta maior resistência à abrasão e menor resistência à fadiga. Por outro lado, um cabo equivalente, porém constituído por pernas com arames muito pequenos, será menos resistente ao atrito e mais resistente à fadiga."
   ]
  },
  {
   "cell_type": "markdown",
   "id": "34e09c31",
   "metadata": {
    "slideshow": {
     "slide_type": "subslide"
    }
   },
   "source": [
    "Perna comum – composição mais simples disponível, na qual todos os arames possuem o mesmo diâmetro. A configuração mais comum dessa construção corresponde a perna com sete arames, na qual um arame central é contornado pelos demais arames de forma equidistante ao centro.\n",
    "\n",
    "\n",
    "![](figuras/fig6-4.png)\n"
   ]
  },
  {
   "cell_type": "markdown",
   "id": "43f1b618",
   "metadata": {
    "slideshow": {
     "slide_type": "subslide"
    }
   },
   "source": [
    "Perna SEALE – composição utilizada quando a resistência a abrasão é preponderante. Trata de uma composição que apresenta arames de grande diâmetro na sua última camada, sendo que a sua configuração mais comum apresenta 19 arames (9 + 9 + 1).\n",
    "\n",
    "\n",
    "![](figuras/fig6-3.png)\n"
   ]
  },
  {
   "cell_type": "markdown",
   "id": "5596ea65",
   "metadata": {
    "slideshow": {
     "slide_type": "subslide"
    }
   },
   "source": [
    "Perna FILLER – composição que apresenta arames muito finos entre duas camadas, visando garantir uma maior área de contato e uma maior resistência ao esmagamento. O espaço vazio entre os arames reduz ainda o desgaste entre os mesmos. Sua configuração mais comum apresenta 25 arames (12 + 6 + 6 + 1).\n",
    "![](figuras/fig6-5.png)"
   ]
  },
  {
   "cell_type": "markdown",
   "id": "41ea8e67",
   "metadata": {
    "slideshow": {
     "slide_type": "subslide"
    }
   },
   "source": [
    "Perna WARRINGTON – composição indicada para resistência ao desgaste e à fadiga, se caracterizando por uma camada exterior formada por arames de dois diâmetros diferentes e alternados. A configuração mais comum desta composição apresenta 19 arames (1 + 6 + 6 + 6).\n",
    "\n",
    "![](figuras/fig6-6.png)"
   ]
  },
  {
   "cell_type": "markdown",
   "id": "87b99be0",
   "metadata": {
    "slideshow": {
     "slide_type": "subslide"
    }
   },
   "source": [
    "Perna WARRINGTON-SEALE – composição oriunda das combinações individuais anteriores, conjugando as melhores características de ambas. Uma combinação de arames finos internamente garante maior flexibilidade, enquanto que arames grossos externamente garantem maior resistência à abrasão. A construção mais usual apresenta 36 arames (1 + 7 + 7 + 7 + 14).\n",
    "\n",
    "![](figuras/fig6-7.png)"
   ]
  },
  {
   "cell_type": "markdown",
   "id": "9bf016ae",
   "metadata": {
    "slideshow": {
     "slide_type": "subslide"
    }
   },
   "source": [
    "![](figuras/fig6-8.png)"
   ]
  },
  {
   "cell_type": "markdown",
   "id": "b296ce02",
   "metadata": {
    "slideshow": {
     "slide_type": "subslide"
    }
   },
   "source": [
    "**Tipos de almas - cabos convencionais**\n",
    "\n",
    "\n",
    "- A alma de um cabo de aço corresponde a sua parte central, configurando assim um núcleo em torno do qual as pernas são torcidas e ficam dispostas em forma de hélice. As almas, cuja função principal é dar suporte às pernas e fazer com que o carregamento externo seja uniformemente distribuído ao longo do cabo, podem ser confeccionadas em fibras ou em aço carbono.\n",
    "\n",
    "\n",
    "- Para o caso de almas têxteis ou de fibra, as quais garantem uma maior flexibilidade ao cabo, utilizam-se normalmente fibras sintéticas (geralmente polipropileno) ou fibras naturais (geralmente sisal, algodão ou rami).  As almas de fibra são ainda lubrificadas durante o seu processo de fabricação, visando contribuir no contexto da proteção anticorrosiva do cabo quando em operação. Como limitação ao uso de cabos com alma de fibra, pode-se destacar a condição de elevadas temperaturas ou ainda a condição na qual o cabo venha a ser submetido a pressões elevadas, fato esse que poderia ocasionar deformações por esmagamento."
   ]
  },
  {
   "cell_type": "markdown",
   "id": "a52bc8f4",
   "metadata": {
    "slideshow": {
     "slide_type": "subslide"
    }
   },
   "source": [
    "- As almas de aço são disponíveis em dois tipos distintos: a alma de aço de um único cordão e a alma de aço de cabo independente. A primeira é apenas utilizada em cabos de pequeno diâmetro (até 6,0mm, em média), enquanto que a segunda (mais convencional) contempla todas as demais dimensões de cabo disponíveis. As almas de aço, assim, além de suportarem temperaturas mais elevadas, apresentam uma maior resistência ao esmagamento e à tração, caracterizando uma maior capacidade de carga correspondente."
   ]
  },
  {
   "cell_type": "markdown",
   "id": "934009b8",
   "metadata": {
    "slideshow": {
     "slide_type": "subslide"
    }
   },
   "source": [
    "![](figuras/fig6-9.png)\n",
    "\n",
    "![](figuras/fig6-10.png)\n",
    "\n",
    "![](figuras/fig6-11.png)"
   ]
  },
  {
   "cell_type": "markdown",
   "id": "d96610c1",
   "metadata": {
    "slideshow": {
     "slide_type": "slide"
    }
   },
   "source": [
    "## Nomenclatura básica - cabos convencionais\n",
    "\n",
    "\n",
    "- Cabos de aço convencionais apresentam nomenclaturas padronizadas internacionalmente.\n",
    "\n",
    "\n",
    "- Na prática, os cabos devem ser identificados em função da quantidade de pernas, da quantidade (exata ou nominal) de arames em cada perna, do descritivo (mediante letras) da sua configuração e do tipo de alma considerada. Observar os exemplos a seguir:\n",
    "----------"
   ]
  },
  {
   "cell_type": "markdown",
   "id": "e3740fe0",
   "metadata": {
    "slideshow": {
     "slide_type": "subslide"
    }
   },
   "source": [
    "![](figuras/fig6-12.png)\n",
    "\n",
    "![](figuras/fig6-13.png)\n",
    "\n",
    "![](figuras/fig6-14.png)\n"
   ]
  },
  {
   "cell_type": "markdown",
   "id": "f6a99b94",
   "metadata": {
    "slideshow": {
     "slide_type": "subslide"
    }
   },
   "source": [
    "AA – alma de aço\n",
    "AF – alma de fibra natural\n",
    "AFA – alma de fibra artificial\n",
    "AACI – alma de aço de cabo independente\n",
    "F - Filler\n",
    "S – Seale\n",
    "W – Warrington\n",
    "WS – Warrington-Seale\n"
   ]
  },
  {
   "cell_type": "markdown",
   "id": "ed92af03",
   "metadata": {
    "slideshow": {
     "slide_type": "slide"
    }
   },
   "source": [
    "## Propriedades dos Cabos de Aço\n",
    "\n",
    "**Diâmetro nominal/ real de um cabo de aço**\n",
    "\n",
    "- O diâmetro nominal de um cabo de aço corresponde àquele designado nas tabelas dos fabricantes e de referência, com a sua correspondente tolerância. O diâmetro real corresponde àquele medido pela circunferência que o circunscreve, conforme representação esquemática:\n",
    "\n",
    "![](figuras/fig6-15.png)\n"
   ]
  },
  {
   "cell_type": "markdown",
   "id": "bc30e06c",
   "metadata": {
    "slideshow": {
     "slide_type": "subslide"
    }
   },
   "source": [
    "**Diâmetro do arame**\n",
    "\n",
    "\n",
    "- O arame de um cabo de aço corresponde ao resultado final do seu processo produtivo de trefilação. Tal processo envolve uma decapagem inicial (conjunto de banhos químicos aplicados à matéria-prima original), passando por uma trefilação grosseira (produzindo um diâmetro inicial também grosseiro) e por fim uma trefilação fina ou final, a qual apresenta uma rígida tolerância de saída para os arames trefilados.\n",
    "\n",
    "\n",
    "- Tais diâmetros podem ser relacionados com o diâmetro nominal do cabo de aço mediante uma constante, conforme a equação:\n",
    "\n",
    "$d_W = Kd$\n",
    "\n",
    "sendo o fator $K$ definido na Tabela 7.2:\n",
    "\n",
    "![](figuras/fig6-16.png)\n"
   ]
  },
  {
   "cell_type": "markdown",
   "id": "3af4d5fe",
   "metadata": {
    "slideshow": {
     "slide_type": "subslide"
    }
   },
   "source": [
    "**Área metálica de um cabo de aço**\n",
    "\n",
    "\n",
    "- Pelo fato da secção transversal de um cabo não ser uniforme, mas sim dependente da sua configuração final, deve-se considerar nos cálculos da sua secção transversal um valor correspondente ao somatório aproximado das secções transversais dos arames individuais que o compõem. Tal procedimento é designado como área metálica do cabo, podendo ser definido pela relação:\n",
    "\n",
    "$A_m = K_1 d^2$\n",
    "\n",
    "onde $K_1$ é uma constante conhecida como fator de empacotamento."
   ]
  },
  {
   "cell_type": "markdown",
   "id": "b81ce1d5",
   "metadata": {
    "slideshow": {
     "slide_type": "subslide"
    }
   },
   "source": [
    "**Peso por unidade de comprimento do cabo**\n",
    "\n",
    "\n",
    "- O peso de um cabo de aço, considerado nessas circunstâncias por unidade de comprimento, corresponde a importante fator no dimensionamento desses dispositivos, dado a condição dos mesmos serem utilizados com comprimentos razoáveis na grande maioria das aplicações práticas. Novamente, por se tratar de elemento que apresenta secção transversal não uniforme, torna-se conveniente relacionar esse peso como função do diâmetro nominal do cabo, mediante a relação aproximada:\n",
    "\n",
    "$w = \\dfrac{K_1 d^2}{100}$\n"
   ]
  },
  {
   "cell_type": "markdown",
   "id": "2993d919",
   "metadata": {
    "slideshow": {
     "slide_type": "subslide"
    }
   },
   "source": [
    "**Módulo de elasticidade do cabo**\n",
    "\n",
    "\n",
    "- Os módulos de elasticidade dos cabos de aço apresentam variações nos seus valores numéricos, decorrentes da acomodação existente entre os seus diversos componentes internos. Essas variações dependem da configuração do cabo, da intensidade das cargas aplicadas e das demais condições operacionais correspondentes e são compensadas mediante o uso do chamado módulo de elasticidade aparente do cabo, o qual corresponde a um valor único que resume os efeitos mecânicos que ocorrem interiormente ao cabo. Além disso, se pode afirmar que o módulo de elasticidade é menor nos cabos novos do que nos cabos em uso.\n",
    "\n",
    "\n",
    "- Tais valores também são disponibilizados, para cada tipo de cabo, a partir da **Tabela 7.2**."
   ]
  },
  {
   "cell_type": "markdown",
   "id": "6b96e48f",
   "metadata": {
    "slideshow": {
     "slide_type": "subslide"
    }
   },
   "source": [
    "**Relação D/d**\n",
    "\n",
    "\n",
    "- Os dispositivos e equipamentos que utilizam cabos de aço normalmente contemplam polias e tambores através dos quais os cabos são flexionados ou enrolados quando em uso. Designando o diâmetro destes dispositivos por “D”, pode-se considerar que existem relações recomendadas e mínimas entre o diâmetro do tambor/polia e o diâmetro nominal do cabo de aço (D/d). Tais relações práticas são normalmente disponibilizadas pelos próprios fabricantes, como também, são facilmente identificadas nas bibliografias de referência sobre o assunto.\n",
    "\n",
    "\n",
    "- O motivo para se considerar tais relações quando do projeto de um sistema por cabos de aço está diretamente associado à expectativa de vida do mesmo, dado que quanto menor for o diâmetro da polia/tambor maior será a tensão de flexão do cabo em torno desses dispositivos.\n",
    "\n",
    "\n",
    "- A **Tabela 7.2** também traduz essas relações.\n",
    "\n",
    "\n",
    "- Os tambores podem, ainda, serem adotados com canais ou lisos, conforme figuras. Os tambores com canais podem ser utilizados para utilização com cabos de alma de fibra ou alma de aço, enquanto que os tambores lisos devem ser evitados para o caso de cabos com alma de fibra.\n",
    "\n",
    "\n",
    "\n",
    "![](figuras/fig6-17.png)\n",
    "\n",
    "![](figuras/fig6-18.png)"
   ]
  },
  {
   "cell_type": "markdown",
   "id": "3cce856b",
   "metadata": {
    "slideshow": {
     "slide_type": "slide"
    }
   },
   "source": [
    "## Resistência dos cabos de aço\n",
    "\n",
    "\n",
    "- A escolha da matéria-prima a ser utilizada para o processo de fabricação dos arames dos cabos de aço define a chamada resistência específica do mesmo.\n",
    "![](figuras/fig6-19.png)\n"
   ]
  },
  {
   "cell_type": "markdown",
   "id": "0fc82882",
   "metadata": {
    "slideshow": {
     "slide_type": "subslide"
    }
   },
   "source": [
    "**Carga de ruptura mínima do cabo**\n",
    "\n",
    "Tal parâmetro, expresso nessas circunstâncias em kN, é definido segundo a norma NBR 2408 de acordo com a seguinte equação:\n",
    "\n",
    "$F_{min} = \\dfrac{d^2 (RT)K_2}{1000}$\n",
    "\n",
    "O diâmetro do cabo deve ser considerado em mm e a resistência à tração em MPa.\n",
    "\n",
    "Comercialmente esses valores são, costumeiramente, disponibilizados diretamente nas tabelas dos respectivos fabricantes de cabos de aço.\n",
    "\n",
    "\n",
    "![](figuras/fig6-20.png)"
   ]
  },
  {
   "cell_type": "markdown",
   "id": "1d5fd17f",
   "metadata": {
    "slideshow": {
     "slide_type": "subslide"
    }
   },
   "source": [
    "## Torção e Pré-Formação dos Cabos de Aço\n",
    "\n",
    "\n",
    "- Durante o processo produtivo dos cabos de aço, pode-se optar por dois tipos de torção em específico: a torção regular ou a torção *Lang*.\n",
    "\n",
    "\n",
    "- Cabos com torção regular apresentam a concepção construtiva na qual os arames seguem a direção oposta ao quais as pernas são torcidas, favorecendo assim um menor desgaste interno e uma maior resistência à torção, além de apresentarem uma maior estabilidade (visto não haver tendência ao desenrolamento do mesmo).\n",
    "![](figuras/fig6-21.png)\n",
    "\n",
    "- Para a torção *Lang*, trabalha-se com uma mesma direção de torção (direita ou esquerda) para os arames e para as pernas. Essa configuração garante uma maior resistência à abrasão, uma maior flexibilidade e uma maior resistência à fadiga.\n",
    "- Como, porém, os cabos com torção *Lang* apresentam uma série de desvantagens (tendência a se desenrolar, trabalhos apenas com cargas guiadas visando garantir que o cabo não venha a girar, entre outras), pode-se afirmar que os cabos com torção regular correspondem ao padrão convencional adotado universalmente."
   ]
  },
  {
   "cell_type": "markdown",
   "id": "ed2dd56b",
   "metadata": {
    "slideshow": {
     "slide_type": "slide"
    }
   },
   "source": [
    "## Solicitações Sobre um Cabo de Aço\n",
    "- A solicitação axial de tração é a mais comum, dado que o objetivo principal de um cabo de aço é sustentar, suspender ou transportar cargas axiais, as quais podem ainda serem consideradas como estáticas ou dinâmicas.\n",
    "\n",
    "\n",
    "- Um segundo grupo de solicitação corresponde à flexão do cabo em torno de polias e tambores normalmente presentes nos dispositivos e equipamentos que utilizam cabos de aço.\n"
   ]
  },
  {
   "cell_type": "markdown",
   "id": "4c4f5f70",
   "metadata": {
    "slideshow": {
     "slide_type": "subslide"
    }
   },
   "source": [
    "**Carregamento Axial de Tração**\n",
    "\n",
    "\n",
    "- a carga axial total que atua num cabo de aço corresponde à carga externa ao qual o mesmo será submetido, ao peso do cabo e às eventuais parcelas dinâmicas presentes. O somatório desses carregamentos corresponde a carga total ao qual o cabo será submetido, caracterizando um esforço de tração na forma:\n",
    "\n",
    "$F_T = P + W + F_A$\n",
    "\n",
    "Em que:\n",
    "$W = wl$\n",
    "$F_A = (P + W)\\dfrac{a}{g}$"
   ]
  },
  {
   "cell_type": "markdown",
   "id": "2fee72bb",
   "metadata": {
    "slideshow": {
     "slide_type": "subslide"
    }
   },
   "source": [
    "**Carregamento devido à flexão**\n",
    "\n",
    "A deformação longitudinal em uma elementos flexionado pode ser obtida pela relação:\n",
    "\n",
    "$\\epsilon_{max} = \\dfrac{y}{\\rho} = \\dfrac{d_W/2}{(D+d)/2} = \\dfrac{d_W}{D+d}$\n",
    "\n",
    "Pela lei de Hooke:\n",
    "\n",
    "$\\sigma_{max} = E \\epsilon_{max} = E_c \\left( \\dfrac{d_W}{D+d} \\right) \\approxeq \\dfrac{E_c d_W}{D}$\n",
    "\n",
    "A tensão de flexão, por fim, permite determinar a chamada carga de flexão:\n",
    "\n",
    "$F_b = \\sigma_b A_m$"
   ]
  },
  {
   "cell_type": "markdown",
   "id": "4b678373",
   "metadata": {
    "slideshow": {
     "slide_type": "subslide"
    }
   },
   "source": [
    "**Fadiga de flexão em cabos de aço**\n",
    "\n",
    "\n",
    "- Em boa parte das aplicações com cabos de aço, ocorre a passagem do mesmo em torno de polias, roldanas ou tambores. Quando o mesmo for flexionado repetidamente em torno desses dispositivos, poderá ocorrer uma falha por fadiga de flexão, mesmo que as tensões atuantes não venham a exceder a tensão de escoamento dos arames.\n",
    "- Nessas circunstâncias, uma importante solicitação que influencia a vida em fadiga nos cabos de aço é a pressão de esmagamento (ou de contato) sofrida pelos mesmos quando em contato direto com roldanas ou polias presentes no dispositivo considerado. Essa solicitação é decorrente da pressão exercida pelo cabo de aço à medida que o mesmo passa em torno de uma roldana ou polia.\n",
    "\n",
    "Drucker e Tachau, 1945 encontraram forte correlação entre a pressão de contato e a tensão última dos arames, na forma:\n",
    "\n",
    "$p = \\dfrac{2F_t}{(d)D} = \\left(\\dfrac{p}{Su} \\right) = \\dfrac{2F_t}{Su(d)D}$\n",
    "\n",
    "Testes de laboratório realizados em várias classes de cabos por *Drucker*, resultaram em curvas bem definidas que se referem à relação entre a pressão de contato e a tensão última dos arames com o número de ciclos (flexões) do cabo até a condição de falha:\n",
    "\n",
    "\n",
    "![](figuras/fig6-22.png)\n",
    "\n",
    "![](figuras/fig6-23.png)\n",
    "\n",
    "![](figuras/fig6-24.png)"
   ]
  },
  {
   "cell_type": "markdown",
   "id": "e0ab78a9",
   "metadata": {
    "slideshow": {
     "slide_type": "subslide"
    }
   },
   "source": [
    "![](figuras/fig6-25.png)"
   ]
  },
  {
   "cell_type": "markdown",
   "id": "8e5bde71",
   "metadata": {
    "slideshow": {
     "slide_type": "subslide"
    }
   },
   "source": [
    "- Para que determinado cabo de aço apresente, assim, uma expectativa de vida compatível com a sua condição de projeto, deve-se garantir que o carregamento total atuante sobre o mesmo seja inferior a uma carga limite de fadiga. \n",
    "\n",
    "\n",
    "- A definição desse carregamento pode ser realizada para a condição correspondente a uma expectativa de vida do cabo mediante a equação (válida para condição de vida finita):\n",
    "\n",
    "$F_f = \\dfrac{(p/Su)Su(d)D}{2}$\n",
    "\n",
    "\n",
    "- Para vida infinita, é possível também verificar que o cabo em análise tenderá para a condição de vida infinita quando o mesmo trabalhar com a relação (p/Su) limitada ao valor de 0,001 na escala do eixo vertical.  Assumindo-se assim esse valor de referência na equação anterior, chega-se a:\n",
    "\n",
    "$F_f = \\dfrac{(0.001)Su(d)D}{2} = F_f = \\dfrac{Su(d)D}{2000}$\n"
   ]
  },
  {
   "cell_type": "markdown",
   "id": "0fe0254d",
   "metadata": {
    "slideshow": {
     "slide_type": "subslide"
    }
   },
   "source": [
    "## Coeficiente de Segurança\n",
    "\n",
    "\n",
    "- Para o caso do projeto e seleção de cabos de aço, alguns coeficientes de segurança distintos podem ser avaliados.\n",
    "\n",
    "\n",
    "- O primeiro, vinculado diretamente ao tipo de aplicação ao qual o cabo será submetido, depende de diversos fatores externos entre os quais: tipo de solicitação sobre o cabo (carregamento estático ou dinâmico), frequência de uso do cabo, tipo de ambiente (normal ou agressivo), envolvimento de fatores humanos, entre outros. Tal coeficiente está diretamente associado à experiência dos fabricantes envolvidos e são, normalmente, disponibilizados nas bibliografias de referência dos fabricantes de cabos em geral. A **Tabela 7.5** apresenta informações acerca desta condição.\n",
    "\n",
    "\n",
    "![](figuras/fig6-26.png)\n",
    "\n",
    "\n",
    "Para os coeficientes de segurança estáticos, considerar as relações:\n",
    "\n",
    "$CS = \\dfrac{F_u}{F_T}$\n",
    "\n",
    "$CS_b = \\dfrac{Fu - F_b}{F_T}$\n",
    "\n",
    "Tratando-se de solicitações dinâmicas ou de fadiga, torna-se possível definir o chamado coeficiente de segurança dinâmica por meio de:\n",
    "\n",
    "$CS_f = \\dfrac{F_f - F_b}{F_T}$\n"
   ]
  },
  {
   "cell_type": "markdown",
   "id": "9ca0c0ab",
   "metadata": {
    "slideshow": {
     "slide_type": "subslide"
    }
   },
   "source": [
    "## Indicativos de Falha\n",
    "\n",
    "\n",
    "- corrosão severa\n",
    "- desgastes localizados\n",
    "- deformação lateral igual ou superior a um terço do diâmetro nominal do cabo (ver figura abaixo)\n",
    "- acessórios terminais danificados\n",
    "- distorções\n",
    "- “gaiola de passarinho”\n",
    "- fios quebrados.\n",
    "\n",
    "\n",
    "![](figuras/fig6-27.png)"
   ]
  },
  {
   "cell_type": "markdown",
   "id": "894db51d",
   "metadata": {
    "slideshow": {
     "slide_type": "subslide"
    }
   },
   "source": [
    "## Acessórios dos Cabos de Aço\n",
    "\n",
    "**Dispositivos de esticamento (esticador)**\n",
    "\n",
    "\n",
    "![](figuras/fig6-28.png)\n",
    "\n",
    "![](figuras/fig6-29.png)\n"
   ]
  },
  {
   "cell_type": "markdown",
   "id": "4f617764",
   "metadata": {
    "slideshow": {
     "slide_type": "subslide"
    }
   },
   "source": [
    "**Dispositivos para movimentação, elevação e amarração de cargas**\n",
    "\n",
    "\n",
    "- A maior variabilidade dos acessórios comerciais disponíveis para uso com cabos de aço encontra-se nesse grupo, dado que eles contemplam a maioria das aplicações com cabos de aço.\n",
    "\n",
    "\n",
    "- Ganchos, olhais, manilhas, anéis de carga e mosquetes, entre outros, são exemplos desses acessórios. \n",
    "![](figuras/fig6-30.png)\n",
    "\n",
    "![](figuras/fig6-31.png)\n",
    "\n",
    "![](figuras/fig6-32.png)\n",
    "\n",
    "![](figuras/fig6-33.png)"
   ]
  },
  {
   "cell_type": "markdown",
   "id": "c594419a",
   "metadata": {
    "slideshow": {
     "slide_type": "slide"
    }
   },
   "source": [
    "**Exemplo 1:**\n",
    "Um elevador de carga transporta uma carga limite de 5tf ao longo da distância máxima de 720m. O peso do elevador e acessórios é de 0,8tf e a aceleração do sistema pode atingir 0,75m/s². Opta-se pela utilização de um cabo 6 x 19 AA, com torção regular para a referida aplicação. \n",
    "Determinar:\n",
    "a) o diâmetro mínimo necessário para o cabo e\n",
    "b) a máxima tensão de flexão correspondente. \n",
    "Suponha a utilização de tambores com diâmetros compatíveis à recomendação dos fabricantes e coeficiente de segurança de 5, especificamente para o caso de fadiga. \n"
   ]
  }
 ],
 "metadata": {
  "kernelspec": {
   "display_name": "Python 3 (ipykernel)",
   "language": "python",
   "name": "python3"
  },
  "language_info": {
   "codemirror_mode": {
    "name": "ipython",
    "version": 3
   },
   "file_extension": ".py",
   "mimetype": "text/x-python",
   "name": "python",
   "nbconvert_exporter": "python",
   "pygments_lexer": "ipython3",
   "version": "3.10.6"
  }
 },
 "nbformat": 4,
 "nbformat_minor": 5
}
