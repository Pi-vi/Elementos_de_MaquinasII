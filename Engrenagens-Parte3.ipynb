{
 "cells": [
  {
   "cell_type": "markdown",
   "id": "95bf2308",
   "metadata": {
    "slideshow": {
     "slide_type": "slide"
    }
   },
   "source": [
    "# Transmissão por Engrenagens Helicoidais\n",
    "Este material serve apenas como um guia para estudos e para as aulas, não substituindo a leitura dos livros indicados e é de uso exclusivo dos alunos do CEFET/RJ campus Angra dos Reis."
   ]
  },
  {
   "cell_type": "markdown",
   "id": "03c362f8",
   "metadata": {
    "slideshow": {
     "slide_type": "subslide"
    }
   },
   "source": [
    "- As engrenagens cilíndricas são similares às engrenagens retas\n",
    "- Seus dentes são involutas\n",
    "- A diferença é que seus dentes são inclinados com respeito ao eixo de rotação em um ângulo de hélice de $\\psi$.\n",
    "\n",
    "10°$\\leq \\psi \\leq$ 45°\n",
    "\n",
    "→ Se a engrenagem fosse suficientemente longa em termos axiais, qualquer dente daria uma volta completa."
   ]
  },
  {
   "cell_type": "markdown",
   "id": "79f19806",
   "metadata": {
    "slideshow": {
     "slide_type": "slide"
    }
   },
   "source": [
    "## Engrenagens Helicoidais Paralelas\n",
    "\n",
    "→ Engrenam com uma combinação de rolamento e deslizamento\n",
    "\n",
    "→ O contato começa em um ponto e se torna uma linha.\n",
    "\n",
    "![](figuras/fig9-1.png)"
   ]
  },
  {
   "cell_type": "markdown",
   "id": "15fe7f18",
   "metadata": {
    "slideshow": {
     "slide_type": "slide"
    }
   },
   "source": [
    "## Engrenagens Helicoidais Cruzadas\n",
    "\n",
    "→ seus dentes escorregam sem rolamento e estão teoricamente em contato pontual.  \n",
    "→ São recomendadas para aplicações de cargas leves\n",
    "\n",
    "![](figuras/fig9-2.png)\n"
   ]
  },
  {
   "cell_type": "markdown",
   "id": "3614c584",
   "metadata": {
    "slideshow": {
     "slide_type": "slide"
    }
   },
   "source": [
    "## Geometria da Engrenagem Helicoidal\n",
    "\n",
    "\n",
    "![](figuras/fig9-3.png)\n",
    "\n",
    "\n",
    "$\\psi$ → ângulo de hélice  \n",
    "$p_n$ → passo normal  \n",
    "$\\phi_n$ → ângulo de pressão normal  \n",
    "$p_t$ → passo transversal  \n",
    "$\\phi_t$ → ângulo de pressão transversal  \n",
    "$p_x$ → passo axial  \n",
    "\n",
    "$p_t = \\dfrac{p_n}{\\cos \\psi}$  \n",
    "$p_x = \\dfrac{p_n}{sen \\psi}$  \n",
    "\n",
    "$p_t$ → corresponde ao passo circular, medido no plano de referência de uma engrenagem circular. \n",
    "\n",
    "O passo diametral é mais comumente usado para definir o tamanho do dente e está relacionado ao passo circular por:\n",
    "\n",
    "$p_d = \\dfrac{N}{d} = \\dfrac{\\pi}{p_c} = \\dfrac{\\pi}{p_t}$\n",
    "\n",
    "$N$ → é o número de dentes  \n",
    "$d$ → é o diâmetro de referência\n",
    "\n",
    "O passo diametral no plano normal é:\n",
    "\n",
    "$p_{nd} = \\dfrac{p_d}{cos \\psi}$\n",
    "\n",
    "$p_{nd} = \\dfrac{1}{m_n} = \\dfrac{1}{m.cos \\psi}$\n",
    "\n",
    "Os ângulos de pressão nos dois planos estão relacionados por:  \n",
    "$tg{\\phi}_t = tg\\phi = \\dfrac{tg\\phi_n}{cos \\psi}$"
   ]
  },
  {
   "cell_type": "markdown",
   "id": "62e57e7c",
   "metadata": {
    "slideshow": {
     "slide_type": "slide"
    }
   },
   "source": [
    "## Forças em Engrenagens Helicoidais\n",
    "\n",
    "$W_t = \\dfrac{T_p}{r_p} = \\dfrac{2T_p}{d_p} = \\dfrac{2p_dT_p}{N_p}$\n",
    "\n",
    "$W_r = W_t tg \\phi$\n",
    "\n",
    "$W_a = W_t tg \\psi$\n",
    "\n",
    "$W = \\dfrac{W_t}{cos \\psi cos \\phi_n}$\n"
   ]
  },
  {
   "cell_type": "markdown",
   "id": "9dd5fd37",
   "metadata": {
    "slideshow": {
     "slide_type": "slide"
    }
   },
   "source": [
    "## Número Virtual de Dentes\n",
    "\n",
    "→ Uma outra vantagem das engrenagens helicoidais sobre as engrenagens retas, além da operação silenciosa, são os dentes relativamente mais fortes para uma engrenagem com o mesmo passo normal, diâmetro primitivo e número de dentes.\n",
    "\n",
    "$r_e = \\dfrac{d/2}{cos^2 \\psi}$\n",
    "\n",
    "$r_e$→ raio de referência de um círculo virtual\n",
    "\n",
    "$N_e = \\dfrac{2 \\pi r_e}{p_n cos^2 \\psi}$\n",
    "\n",
    "$N_e = \\dfrac{N}{cos^3 \\psi}$\n",
    "\n",
    "Isso define uma engrenagem virtual que é equivalente a uma engrenagem reta com $N_e$ dentes, dando, portanto, um dente mais forte em fadiga de flexão e de superfície que uma engrenagem reta com o mesmo número físico de dentes que a engrenagem helicoidal."
   ]
  },
  {
   "cell_type": "markdown",
   "id": "d1b782d6",
   "metadata": {
    "slideshow": {
     "slide_type": "slide"
    }
   },
   "source": [
    "## Razões de Contato\n",
    "\n",
    "**Razão de contato transversal:**\n",
    "\n",
    "A razão de contato define o número médio de dentes em contato em qualquer momento.\n",
    "\n",
    "$m_p = \\dfrac{Z}{p_b}$\n",
    "\n",
    "$m_p = \\dfrac{p_d Z}{\\pi cos \\phi} = \\dfrac{Z}{m.\\pi.\\cos \\phi}$\n",
    "\n",
    "**Razão de contato axial:**\n",
    "\n",
    "O ângulo de hélice introduz uma outra razão chamada razão de contato axial\n",
    "\n",
    "$m_F = \\dfrac{F}{p_x} = \\dfrac{Fp_d tg \\psi}{\\pi}$\n",
    "\n",
    "$m_F = \\dfrac{F tg \\psi}{m. \\pi}$\n",
    "\n",
    "Essa razão deve ser pelo menos 1,15 e indica o grau de entrelaçamento helicoidal no engrenamento."
   ]
  },
  {
   "cell_type": "markdown",
   "id": "a46b1e70",
   "metadata": {
    "slideshow": {
     "slide_type": "slide"
    }
   },
   "source": [
    "## Tensões em Engrenagens Helicoidais\n",
    "\n",
    "As equações AGMA para tensões de flexão e de superfície em engrenagens retas também são usadas para engrenagens helicoidais\n",
    "\n",
    "$\\sigma_b = \\dfrac{W_t p_d}{F J} \\dfrac{K_a K_m}{K_v} K_s K_B K_I \\qquad [US]$\n",
    "\n",
    "$\\sigma_b = \\dfrac{W_t}{F m J} \\dfrac{K_a K_m}{K_v} K_s K_B K_I \\qquad [SI]$\n",
    "\n",
    "e para tensão de superfície:\n",
    "\n",
    "$\\sigma_c = C_p \\sqrt{ \\dfrac{W_t}{F I d} \\dfrac{C_a C_m}{C_v} C_s C_f}$\n",
    "\n",
    "As únicas diferenças significativas na sua aplicação para engrenagens helicoidais envolve os fatores de geometria $I$ e $J$. \n",
    "\n",
    "$J$ → tabelado"
   ]
  },
  {
   "cell_type": "markdown",
   "id": "dd6dc942",
   "metadata": {
    "slideshow": {
     "slide_type": "subslide"
    }
   },
   "source": [
    "![](figuras/fig9-4.png)\n",
    "\n",
    "![](figuras/fig9-5.png)\n",
    "\n",
    "![](figuras/fig9-6.png)\n",
    "\n",
    "![](figuras/fig9-7.png)\n",
    "\n",
    "![](figuras/fig9-8.png)\n",
    "\n",
    "![](figuras/fig9-9.png)\n"
   ]
  },
  {
   "cell_type": "markdown",
   "id": "cdc59a41",
   "metadata": {
    "slideshow": {
     "slide_type": "subslide"
    }
   },
   "source": [
    "O cálculo de $I$ para pares de engrenagens helicoidais convencionais requer inclusão de um termo adicional.\n",
    "\n",
    "$I = \\dfrac{\\cos \\phi}{\\left( \\dfrac{1}{\\rho_p} \\pm \\dfrac{1}{\\rho_g} \\right) d_p m_N }$\n",
    "\n",
    "$+$ → engrenamentos externos\n",
    "\n",
    "$-$ → engrenamentos internos\n",
    "\n",
    "onde $\\rho_p$ e $\\rho_g$ → raios de curvatura dos dentes do pinhão e da coroa.\n",
    "\n",
    "$\\phi$ é o ângulo de pressão\n",
    "\n",
    "$d_p$ é o diâmetro primitivo do pinhão\n",
    "\n",
    "$m_N$ → razão de divisão de carga\n",
    "\n",
    "$m_N = \\dfrac{F}{L_{min}}$\n",
    "\n",
    "$F$ → largura da face\n",
    "\n",
    "$L_{min}$ → comprimento mínimo das linhas de contato\n",
    "\n",
    "$n_r$ = parte fracional de $m_p$ (razão de contato transversal)\n",
    "\n",
    "$n_a$ = parte fracional de $m_F$ (razão de contato axial)\n",
    "\n",
    "se $n_a \\leq 1 - n_r$ então  $L_{min} = \\dfrac{m_p F - n_a n_r p_x}{cos \\psi_b}$\n",
    "\n",
    "se $n_a > 1 - n_r$ então $L_{min} = \\dfrac{m_pF - (1 - n_a)(1 - n_r)p_x}{cos \\psi_b}$\n",
    "\n",
    "$\\psi_b$ → ângulo de hélice na base\n",
    "\n",
    "$\\psi_b = cos^{-1}\\left( cos \\psi \\dfrac{cos \\phi_n}{\\cos \\phi}\\right)$\n",
    "\n",
    "$\\rho_p = \\sqrt{\\left\\{  0,5\\left[ \\left(r_p + a_p \\right) \\pm \\left(c - r_g - a_g \\right) \\right] \\right\\}^2 - \\left( r_p cos \\phi \\right)^2}$\n",
    "\n",
    "$\\rho_g = C sen \\phi \\mp \\rho_p$\n",
    "\n",
    "$r_p$  e $r_g$ → raios de referência (ou raios primitivos)\n",
    "\n",
    "$a_p$ e $a_g$ → adendos\n",
    "\n",
    "$C$ é a distância entre real entre centros\n",
    "\n",
    "$-$ → engrenamento externo\n",
    "\n",
    "$+$ → engrenamento interno"
   ]
  },
  {
   "cell_type": "markdown",
   "id": "e7b34ef3",
   "metadata": {
    "slideshow": {
     "slide_type": "slide"
    }
   },
   "source": [
    "## Exemplo:\n",
    "\n",
    "Análise de tensão em um trem de engrenagem helicoidal\n",
    "\n",
    "Projete um trem de engrenagens helicoidais. O trem é composto por um pinhão de 14 dentes, uma engrenagem intermediária de 17 dentes e a razão do trem é 3,5:1.\n",
    "\n",
    "Dados: $W_t$ = 2034,6N; $\\phi$ = 25°; $m$ = 4; $F$ = 50mm; rotação do pinhão = 2500RPM; Pot = 20HP.\n",
    "\n",
    "$Q_v$ = 6; $\\nu$ = 0,3; a vida de serviço requerida é de 5 anos de um turno de trabalho; a temperatura de operação é de 90°C; carga e fonte uniformes.\n",
    "\n",
    "→ $K_a$ =1; $K_m$ = 1,6; $K_I$ =1 para o pinhão e $1,42$ para a engrenagem intermediária; $K_s$ =1; $C_f$ =1; $K_B$ =1.\n",
    "\n",
    "ângulo de hélice $\\psi$ = 20°."
   ]
  }
 ],
 "metadata": {
  "kernelspec": {
   "display_name": "Python 3 (ipykernel)",
   "language": "python",
   "name": "python3"
  },
  "language_info": {
   "codemirror_mode": {
    "name": "ipython",
    "version": 3
   },
   "file_extension": ".py",
   "mimetype": "text/x-python",
   "name": "python",
   "nbconvert_exporter": "python",
   "pygments_lexer": "ipython3",
   "version": "3.10.6"
  }
 },
 "nbformat": 4,
 "nbformat_minor": 5
}
