{
 "cells": [
  {
   "cell_type": "markdown",
   "id": "6d6380f6",
   "metadata": {
    "slideshow": {
     "slide_type": "slide"
    }
   },
   "source": [
    "# Correntes de Transmissão\n",
    "Este material serve apenas como um guia para estudos e para as aulas, não substituindo a leitura dos livros indicados e é de uso exclusivo dos alunos do CEFET/RJ campus Angra dos Reis.\n",
    "\n",
    "----------"
   ]
  },
  {
   "cell_type": "markdown",
   "id": "159562a9",
   "metadata": {
    "slideshow": {
     "slide_type": "subslide"
    }
   },
   "source": [
    "![](figuras/fig5-1.png)"
   ]
  },
  {
   "cell_type": "markdown",
   "id": "ac52a99c",
   "metadata": {
    "slideshow": {
     "slide_type": "subslide"
    }
   },
   "source": [
    "A correntes de rolos apresentam dimensões padronizadas pela norma americana ANSI B29.1 (American National Standard Institute), havendo assim diversos tamanhos de correntes em função das faixas de potência a serem transmitidas. Seus principais componenetes têm as seguintes funções:"
   ]
  },
  {
   "cell_type": "markdown",
   "id": "fbd62e21",
   "metadata": {
    "slideshow": {
     "slide_type": "subslide"
    }
   },
   "source": [
    "1. Pinos → suportam toda a carga de tração ao qual a corrente é submetida quando em operação.\n",
    "2. Buchas → envolvem os pinos protegendo-os contra os impactos presentes no engrenamento.\n",
    "3. Rolos → servem para amortecer os impactos resultantes do engrenamento.\n",
    "4. Placas → tem a função principal de manter os pinos e buchas de forma adequadamente alinhada"
   ]
  },
  {
   "cell_type": "markdown",
   "id": "d4001ed0",
   "metadata": {
    "slideshow": {
     "slide_type": "subslide"
    }
   },
   "source": [
    "![](figuras/fig5-2.png)"
   ]
  },
  {
   "cell_type": "markdown",
   "id": "90a7c5c7",
   "metadata": {
    "slideshow": {
     "slide_type": "subslide"
    }
   },
   "source": [
    "Vantagens:\n",
    "\n",
    "- relação de transmissão constante\n",
    "- aplicações em ambientes críticos\n",
    "- possibilidade de acionamento em várias rodas com uma única corrente\n",
    "- grande distância entre centros\n",
    "- não apresentam escorregamento\n",
    "- rendimentos na faixa de 97%"
   ]
  },
  {
   "cell_type": "markdown",
   "id": "40a79cf4",
   "metadata": {
    "slideshow": {
     "slide_type": "subslide"
    }
   },
   "source": [
    "Desvantagens:\n",
    "\n",
    "- problemas de ruído\n",
    "- desgaste nas articulações\n",
    "- necessidade de um sistema de lubrificação adequado\n",
    "- eventual necessidade de sistemas adicionais de esticamento e de amortecimento de vibrações\n",
    "- funcionamento ruidoso\n",
    "- menor vida útil"
   ]
  },
  {
   "cell_type": "markdown",
   "id": "a3f5cda7",
   "metadata": {
    "slideshow": {
     "slide_type": "subslide"
    }
   },
   "source": [
    "![](figuras/fig5-3.png)"
   ]
  },
  {
   "cell_type": "markdown",
   "id": "a83ce820",
   "metadata": {
    "slideshow": {
     "slide_type": "slide"
    }
   },
   "source": [
    "## Parâmetros Gerais das Transmissões por Correntes\n",
    "\n",
    "→ As correntes podem ser disponibilizadas nas composições:\n",
    "\n",
    "\n",
    "- Simples\n",
    "- Dupla\n",
    "- Tripla\n",
    "- Quádrupla"
   ]
  },
  {
   "cell_type": "markdown",
   "id": "80de8b39",
   "metadata": {
    "slideshow": {
     "slide_type": "subslide"
    }
   },
   "source": [
    "![](figuras/fig5-4.png)"
   ]
  },
  {
   "cell_type": "markdown",
   "id": "74bffbe6",
   "metadata": {
    "slideshow": {
     "slide_type": "subslide"
    }
   },
   "source": [
    "![](figuras/fig5-5.png)"
   ]
  },
  {
   "cell_type": "markdown",
   "id": "28e09043",
   "metadata": {
    "slideshow": {
     "slide_type": "subslide"
    }
   },
   "source": [
    "**Distância entre eixos:**\n",
    "\n",
    "![](figuras/fig5-6.png)"
   ]
  },
  {
   "cell_type": "markdown",
   "id": "6c4ed79a",
   "metadata": {
    "slideshow": {
     "slide_type": "subslide"
    }
   },
   "source": [
    "- Distância entre eixos:\n",
    "\n",
    "A norma ASME B29.1 recomenda:\n",
    "\n",
    "$30p \\leq a \\leq 50p$"
   ]
  },
  {
   "cell_type": "markdown",
   "id": "d690212f",
   "metadata": {
    "slideshow": {
     "slide_type": "subslide"
    }
   },
   "source": [
    "- Rodas dentadas e relação de transmissão\n",
    "\n",
    "→ na definição do número de dentes das rodas dentadas, sugere-se, preferencialmente trabalhar com rodas dentadas com número ímpar\n",
    "\n"
   ]
  },
  {
   "cell_type": "markdown",
   "id": "719fdc85",
   "metadata": {
    "slideshow": {
     "slide_type": "subslide"
    }
   },
   "source": [
    "![](figuras/fig5-7.png)"
   ]
  },
  {
   "cell_type": "markdown",
   "id": "46282409",
   "metadata": {
    "slideshow": {
     "slide_type": "subslide"
    }
   },
   "source": [
    "$d_p = \\dfrac{p}{sen \\left( \\dfrac{180^{\\circ}}{z} \\right)}$  \n",
    "$de = p\\left( 0,6 + cotg \\left(\\dfrac{180^\\circ}{z} \\right) \\right)$"
   ]
  },
  {
   "cell_type": "markdown",
   "id": "3dc84793",
   "metadata": {
    "slideshow": {
     "slide_type": "subslide"
    }
   },
   "source": [
    "- Número de elos da corrente\n",
    "\n",
    "\n",
    "$x = \\dfrac{2a}{p} + \\dfrac{(z_1 + z_2)}{2} - \\left( \\dfrac{z_2 - z_1}{2 \\pi} \\right)^2 \\dfrac{p}{a}$\n",
    "\n",
    "→ Após o cálculo do número de elos, deve-se evidentemente, efetivar ajustes no valor calculado para um número de elos inteiro.\n",
    "\n",
    "    → Sugere-se que esse arredondamento seja feito sempre para o número de elos par mais próximo.\n",
    "    → algum ajuste se faz necessário em relação a distância entre centros inicialmente adotada.\n",
    "\n",
    "$a_{corr} = \\dfrac{p}{4} \\left[ x - \\dfrac{z_1 + z_2}{2} + \\sqrt{ \\left( x - \\dfrac{z_1 + z_2}{2} \\right)^2 -2 \\left( \\dfrac{z_2 - z_1}{\\pi} \\right)^2}\\right]$\n"
   ]
  },
  {
   "cell_type": "markdown",
   "id": "4ad7e4cf",
   "metadata": {
    "slideshow": {
     "slide_type": "subslide"
    }
   },
   "source": [
    "- Comprimento da corrente\n",
    "\n",
    "$L = \\dfrac{x.p}{1000}$"
   ]
  },
  {
   "cell_type": "markdown",
   "id": "841bf3bc",
   "metadata": {
    "slideshow": {
     "slide_type": "subslide"
    }
   },
   "source": [
    "- Disposição dos eixos\n",
    "\n",
    "→ sugere-se priorizar as transmissões na posição horizontal, deixando, nesse caso, a parcela tensa da corrente sempre na parte superior da transmissão\n",
    "\n",
    "→ Para a situação de transmissões na posição vertical, caso não tenha alternativa contrária, dispor sempre o pinhão na parte superior da transmiss"
   ]
  },
  {
   "cell_type": "markdown",
   "id": "f67dc431",
   "metadata": {
    "slideshow": {
     "slide_type": "subslide"
    }
   },
   "source": [
    "Disposições favoráveis:\n",
    "\n",
    "![](figuras/fig5-8.png)"
   ]
  },
  {
   "cell_type": "markdown",
   "id": "7ec63571",
   "metadata": {
    "slideshow": {
     "slide_type": "subslide"
    }
   },
   "source": [
    "Disposições desfavoráveis:\n",
    "\n",
    "![](figuras/fig5-9.png)"
   ]
  },
  {
   "cell_type": "markdown",
   "id": "8def6620",
   "metadata": {
    "slideshow": {
     "slide_type": "subslide"
    }
   },
   "source": [
    "**Velocidade tangencial e rotação limite**\n",
    "→ recomenda-se utilizar a velocidade tangencial abaixo do limite de 20m/s\n",
    "\n",
    "$v = \\dfrac{z.p.n}{60}$"
   ]
  },
  {
   "cell_type": "markdown",
   "id": "59d74bc0",
   "metadata": {
    "slideshow": {
     "slide_type": "subslide"
    }
   },
   "source": [
    "![](figuras/fig5-10.png)"
   ]
  },
  {
   "cell_type": "markdown",
   "id": "02b73150",
   "metadata": {
    "slideshow": {
     "slide_type": "slide"
    }
   },
   "source": [
    "## Esforços Atuantes Sobre uma Corrente de Rolos\n",
    "\n",
    "Como não envolve qualquer escorregamento neste tipo de transmissão, existe para o caso de correntes de rolos a presença:\n",
    "\n",
    "- da força tangencial decorrente do torque transmitido para cada roda\n",
    "- da força centrífuga decorrente da velocidade tangencial da corrente\n",
    "- da força de impacto ou carga dinâmica proveniente do elo com o dente da roda dentada\n",
    "- efeito poligonal\n",
    "\n",
    "→ Para o caso do efeito poligonal, pode-se destacar que ele é praticamente desprezível para situações nas quais a roda dentada apresenta número superior a 17 dentes."
   ]
  },
  {
   "cell_type": "markdown",
   "id": "90f13e9d",
   "metadata": {
    "slideshow": {
     "slide_type": "subslide"
    }
   },
   "source": [
    "![](figuras/fig5-11.png)"
   ]
  },
  {
   "cell_type": "markdown",
   "id": "d5366271",
   "metadata": {
    "slideshow": {
     "slide_type": "subslide"
    }
   },
   "source": [
    "![](figuras/fig5-12.png)"
   ]
  },
  {
   "cell_type": "markdown",
   "id": "ab9bac55",
   "metadata": {
    "slideshow": {
     "slide_type": "subslide"
    }
   },
   "source": [
    "$\\dfrac{\\Delta v}{v} = \\dfrac{\\pi}{z} \\left[ \\dfrac{1}{sen \\left( \\dfrac{180^\\circ}{z} \\right)} - \\dfrac{1}{tg \\left(\\dfrac{180^\\circ}{z}\\right)}\\right]$"
   ]
  },
  {
   "cell_type": "markdown",
   "id": "577d6753",
   "metadata": {
    "slideshow": {
     "slide_type": "subslide"
    }
   },
   "source": [
    "- Força centrífuga\n",
    "\n",
    "$S = \\dfrac{G}{g}v^2$\n",
    "\n",
    "\n",
    "- Força tangencial\n",
    "\n",
    "$M_T = \\dfrac{P}{2 \\pi f} = F_T \\dfrac{d_p}{2}$\n",
    "\n",
    "\n",
    "- Carga de tração\n",
    "\n",
    "$T = F_T + S \\leq C_{ADM}$"
   ]
  },
  {
   "cell_type": "markdown",
   "id": "e2350f9e",
   "metadata": {
    "slideshow": {
     "slide_type": "subslide"
    }
   },
   "source": [
    "- Forças atuantes sobre o eixo de transmissão \n",
    "\n",
    "$A = 1.5T$ (eq. empírica)"
   ]
  },
  {
   "cell_type": "markdown",
   "id": "47b72b73",
   "metadata": {
    "slideshow": {
     "slide_type": "subslide"
    }
   },
   "source": [
    "![](figuras/fig5-13.png)"
   ]
  },
  {
   "cell_type": "markdown",
   "id": "0f5110b2",
   "metadata": {
    "slideshow": {
     "slide_type": "slide"
    }
   },
   "source": [
    "## Etapas do Projeto de uma Transmissão por Correntes de Rolos\n",
    "\n",
    "Informações:\n",
    "\n",
    "- potência a transmitir\n",
    "- rotação dos eixos\n",
    "- característica do acionamento\n",
    "- estimativa da distância entre eixos"
   ]
  },
  {
   "cell_type": "markdown",
   "id": "e7364198",
   "metadata": {
    "slideshow": {
     "slide_type": "subslide"
    }
   },
   "source": [
    "- Passo 1: definição da potência de projeto\n",
    "\n",
    "$P_{P} = K_o N_o$"
   ]
  },
  {
   "cell_type": "markdown",
   "id": "7b93a288",
   "metadata": {
    "slideshow": {
     "slide_type": "subslide"
    }
   },
   "source": [
    "![](figuras/fig5-14.png)\n",
    "\n",
    "1 → transportadores de carga constante, agitadores, misturadores, bombas centrífugas, alimentadores;\n",
    "\n",
    "2→ transportadores com carga irregular, máquinas operatrizes em gera, compressores, fornos automáticos, secadores, esmagadores, máquinas para fabricação de papel e trefiladores;\n",
    "\n",
    "3→ equipamentos de elevação, prensas, britadores, perfuratrizes, laminadores, equipamentos para obras civis, minas em geral, trituradores para material duro."
   ]
  },
  {
   "cell_type": "markdown",
   "id": "e8a26050",
   "metadata": {
    "slideshow": {
     "slide_type": "subslide"
    }
   },
   "source": [
    "![](figuras/fig5-26.png)"
   ]
  },
  {
   "cell_type": "markdown",
   "id": "ea6aa015",
   "metadata": {
    "slideshow": {
     "slide_type": "subslide"
    }
   },
   "source": [
    "- passo 2 → Definição da especificação da corrente\n",
    "- passo 3 → Definição do número de dentes da roda dentada\n",
    "- passo 4 → Definição da velocidade tangencial da corrente\n",
    "- passo 5 → Definição do número de elos e do comprimento da corrente\n",
    "- passo 6 → Correção da distância entre centros\n",
    "- passo 7 → Determinação dos diâmetros das rodas dentadas\n",
    "- passo 8 → Determinação da potência básica de transmissão\n",
    "\n",
    "$N_{BAS} = K_1 K_2 N_{TAB}$\n",
    "\n",
    "$K_1$ → fator de correção de fileira\n",
    "\n",
    "$K_2$ → fator de correção de número de dentes\n",
    "\n",
    "\n",
    "- passo 9 → Determinação do coeficiente de segurança da transmissão\n",
    "\n",
    "$CS = \\dfrac{N_{BAS}}{P_P}$\n",
    "\n",
    "- passo 10 → verificação final das recomendações de projeto - embora não obrigatório, é recomendável efetivar a verificação das recomendações gerais de projeto\n",
    "\n",
    "$z_{1_{min}} = 17$     \n",
    "$z_{2_{max}} = 80$      \n",
    "$(z_1 + z_2)_{min} = 50$       \n",
    "$(z_1,z_2)$ → ímpar    \n",
    "$x$ → par    \n",
    "$a$ → (30 a 50)p\n",
    "\n",
    "\n",
    "- Passo 11 → Determinação dos esforços atuantes sobre a corrente, se julgar necessário"
   ]
  },
  {
   "cell_type": "markdown",
   "id": "30c53ec8",
   "metadata": {
    "slideshow": {
     "slide_type": "subslide"
    }
   },
   "source": [
    "![](figuras/fig5-14.png)"
   ]
  },
  {
   "cell_type": "markdown",
   "id": "d80f2345",
   "metadata": {
    "slideshow": {
     "slide_type": "subslide"
    }
   },
   "source": [
    "![](figuras/fig5-15.png)"
   ]
  },
  {
   "cell_type": "markdown",
   "id": "46e8a677",
   "metadata": {
    "slideshow": {
     "slide_type": "subslide"
    }
   },
   "source": [
    "![](figuras/fig5-16.png)"
   ]
  },
  {
   "cell_type": "markdown",
   "id": "9c12502e",
   "metadata": {
    "slideshow": {
     "slide_type": "subslide"
    }
   },
   "source": [
    "![](figuras/fig5-27.png)"
   ]
  },
  {
   "cell_type": "markdown",
   "id": "8eab6b52",
   "metadata": {
    "slideshow": {
     "slide_type": "slide"
    }
   },
   "source": [
    "## Lubrificação \n",
    "\n",
    "→ Por se tratar de um sistema mecânico que apresenta desgastes acentuados em função da própria configuração dos elementos metálicos envolvidos, um dispositivo de lubrificação adequado torna-se inevitável. \n",
    "→ Deve-se, porém, definir um sistema de lubrificação o mais simples possível e que represente resultados satisfatórios para cada tipo de transmissão. "
   ]
  },
  {
   "cell_type": "markdown",
   "id": "4fe721b7",
   "metadata": {
    "slideshow": {
     "slide_type": "subslide"
    }
   },
   "source": [
    "- lubrificação manual\n",
    "    - velocidade de até 3m/s \n",
    "    \n",
    "![](figuras/fig5-18.png)"
   ]
  },
  {
   "cell_type": "markdown",
   "id": "730c04fa",
   "metadata": {
    "slideshow": {
     "slide_type": "subslide"
    }
   },
   "source": [
    "- lubrificação por gotejamento\n",
    "\n",
    "![](figuras/fig5-19.png)"
   ]
  },
  {
   "cell_type": "markdown",
   "id": "afb9b9c0",
   "metadata": {
    "slideshow": {
     "slide_type": "subslide"
    }
   },
   "source": [
    "- lubrificação por banho de óleo \n",
    "\n",
    "![](figuras/fig5-20.png)"
   ]
  },
  {
   "cell_type": "markdown",
   "id": "442aa1b8",
   "metadata": {
    "slideshow": {
     "slide_type": "subslide"
    }
   },
   "source": [
    "- lubrificação por bomba de óleo\n",
    "\n",
    "![](figuras/fig5-21.png)"
   ]
  },
  {
   "cell_type": "markdown",
   "id": "bd90b42e",
   "metadata": {
    "slideshow": {
     "slide_type": "subslide"
    }
   },
   "source": [
    "![](figuras/fig5-22.png)"
   ]
  },
  {
   "cell_type": "markdown",
   "id": "315336bd",
   "metadata": {
    "slideshow": {
     "slide_type": "slide"
    }
   },
   "source": [
    "## Expectativa de Vida da Corrente\n",
    "\n",
    "→ Todas as informações para o projeto de uma Transmissão por correntes de rolos referem-se à uma expectativa de vida na ordem de 15000h de funcionamento, sob determinadas condições operacionais específicas. Tais condições dependem diretamente da rotação a qual a corrente será exposta, como também da carga (ou potência) transmitida por ela.\n",
    "\n",
    "→ Nessas circunstâncias, torna-se importante definir uma estimativa para a vida útil da transmissão, visando dar subsídios ao projeto em situações que se façam necessários eventuais ajustes. "
   ]
  },
  {
   "cell_type": "markdown",
   "id": "b4b2205a",
   "metadata": {
    "slideshow": {
     "slide_type": "subslide"
    }
   },
   "source": [
    "$L_{H} = \\dfrac{7,95}{100} \\dfrac{x (d_B b_H)}{\\mu_q ( F_t + 25)n_1} \\left( \\dfrac{p}{d_B}\\right) \\dfrac{i}{i+1}$\n",
    "onde:  \n",
    "$x$ é o número de elos da corrente\n",
    "\n",
    "$d_B$ é o diâmetro do pino  \n",
    "\n",
    "$b_H$ é a largura entre placas  \n",
    "\n",
    "$\\mu_q$ é o coeficiente de desgaste na articulação (mm³/kgf), ele cresce exponencialmente com o aumento da pressão na articulação  \n",
    "\n",
    "$p_L = \\dfrac{T}{d_B d_H}$\n",
    "\n",
    "$p_L$ é a carga de tração na corrente\n",
    " "
   ]
  },
  {
   "cell_type": "markdown",
   "id": "867941ec",
   "metadata": {
    "slideshow": {
     "slide_type": "subslide"
    }
   },
   "source": [
    "![](figuras/fig5-23.png)"
   ]
  },
  {
   "cell_type": "markdown",
   "id": "e4e64f2a",
   "metadata": {
    "slideshow": {
     "slide_type": "subslide"
    }
   },
   "source": [
    "![](figuras/fig5-24.png)"
   ]
  }
 ],
 "metadata": {
  "kernelspec": {
   "display_name": "Python 3 (ipykernel)",
   "language": "python",
   "name": "python3"
  },
  "language_info": {
   "codemirror_mode": {
    "name": "ipython",
    "version": 3
   },
   "file_extension": ".py",
   "mimetype": "text/x-python",
   "name": "python",
   "nbconvert_exporter": "python",
   "pygments_lexer": "ipython3",
   "version": "3.10.6"
  }
 },
 "nbformat": 4,
 "nbformat_minor": 5
}
